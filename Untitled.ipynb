{
 "cells": [
  {
   "cell_type": "code",
   "execution_count": 65,
   "id": "fcbff19d",
   "metadata": {},
   "outputs": [],
   "source": [
    "import numpy as np\n",
    "import pandas as pd"
   ]
  },
  {
   "cell_type": "code",
   "execution_count": 66,
   "id": "0401ad5c",
   "metadata": {},
   "outputs": [],
   "source": [
    "movies = pd.read_csv('tmdb_5000_movies.csv')\n",
    "credits = pd.read_csv('tmdb_5000_credits.csv')"
   ]
  },
  {
   "cell_type": "code",
   "execution_count": 67,
   "id": "1bbd76c0",
   "metadata": {},
   "outputs": [
    {
     "data": {
      "text/html": [
       "<div>\n",
       "<style scoped>\n",
       "    .dataframe tbody tr th:only-of-type {\n",
       "        vertical-align: middle;\n",
       "    }\n",
       "\n",
       "    .dataframe tbody tr th {\n",
       "        vertical-align: top;\n",
       "    }\n",
       "\n",
       "    .dataframe thead th {\n",
       "        text-align: right;\n",
       "    }\n",
       "</style>\n",
       "<table border=\"1\" class=\"dataframe\">\n",
       "  <thead>\n",
       "    <tr style=\"text-align: right;\">\n",
       "      <th></th>\n",
       "      <th>budget</th>\n",
       "      <th>genres</th>\n",
       "      <th>homepage</th>\n",
       "      <th>id</th>\n",
       "      <th>keywords</th>\n",
       "      <th>original_language</th>\n",
       "      <th>original_title</th>\n",
       "      <th>overview</th>\n",
       "      <th>popularity</th>\n",
       "      <th>production_companies</th>\n",
       "      <th>production_countries</th>\n",
       "      <th>release_date</th>\n",
       "      <th>revenue</th>\n",
       "      <th>runtime</th>\n",
       "      <th>spoken_languages</th>\n",
       "      <th>status</th>\n",
       "      <th>tagline</th>\n",
       "      <th>title</th>\n",
       "      <th>vote_average</th>\n",
       "      <th>vote_count</th>\n",
       "    </tr>\n",
       "  </thead>\n",
       "  <tbody>\n",
       "    <tr>\n",
       "      <th>0</th>\n",
       "      <td>237000000</td>\n",
       "      <td>[{\"id\": 28, \"name\": \"Action\"}, {\"id\": 12, \"nam...</td>\n",
       "      <td>http://www.avatarmovie.com/</td>\n",
       "      <td>19995</td>\n",
       "      <td>[{\"id\": 1463, \"name\": \"culture clash\"}, {\"id\":...</td>\n",
       "      <td>en</td>\n",
       "      <td>Avatar</td>\n",
       "      <td>In the 22nd century, a paraplegic Marine is di...</td>\n",
       "      <td>150.437577</td>\n",
       "      <td>[{\"name\": \"Ingenious Film Partners\", \"id\": 289...</td>\n",
       "      <td>[{\"iso_3166_1\": \"US\", \"name\": \"United States o...</td>\n",
       "      <td>2009-12-10</td>\n",
       "      <td>2787965087</td>\n",
       "      <td>162.0</td>\n",
       "      <td>[{\"iso_639_1\": \"en\", \"name\": \"English\"}, {\"iso...</td>\n",
       "      <td>Released</td>\n",
       "      <td>Enter the World of Pandora.</td>\n",
       "      <td>Avatar</td>\n",
       "      <td>7.2</td>\n",
       "      <td>11800</td>\n",
       "    </tr>\n",
       "  </tbody>\n",
       "</table>\n",
       "</div>"
      ],
      "text/plain": [
       "      budget                                             genres  \\\n",
       "0  237000000  [{\"id\": 28, \"name\": \"Action\"}, {\"id\": 12, \"nam...   \n",
       "\n",
       "                      homepage     id  \\\n",
       "0  http://www.avatarmovie.com/  19995   \n",
       "\n",
       "                                            keywords original_language  \\\n",
       "0  [{\"id\": 1463, \"name\": \"culture clash\"}, {\"id\":...                en   \n",
       "\n",
       "  original_title                                           overview  \\\n",
       "0         Avatar  In the 22nd century, a paraplegic Marine is di...   \n",
       "\n",
       "   popularity                               production_companies  \\\n",
       "0  150.437577  [{\"name\": \"Ingenious Film Partners\", \"id\": 289...   \n",
       "\n",
       "                                production_countries release_date     revenue  \\\n",
       "0  [{\"iso_3166_1\": \"US\", \"name\": \"United States o...   2009-12-10  2787965087   \n",
       "\n",
       "   runtime                                   spoken_languages    status  \\\n",
       "0    162.0  [{\"iso_639_1\": \"en\", \"name\": \"English\"}, {\"iso...  Released   \n",
       "\n",
       "                       tagline   title  vote_average  vote_count  \n",
       "0  Enter the World of Pandora.  Avatar           7.2       11800  "
      ]
     },
     "execution_count": 67,
     "metadata": {},
     "output_type": "execute_result"
    }
   ],
   "source": [
    "movies.head(1)"
   ]
  },
  {
   "cell_type": "code",
   "execution_count": 68,
   "id": "06f9b02a",
   "metadata": {},
   "outputs": [
    {
     "data": {
      "text/html": [
       "<div>\n",
       "<style scoped>\n",
       "    .dataframe tbody tr th:only-of-type {\n",
       "        vertical-align: middle;\n",
       "    }\n",
       "\n",
       "    .dataframe tbody tr th {\n",
       "        vertical-align: top;\n",
       "    }\n",
       "\n",
       "    .dataframe thead th {\n",
       "        text-align: right;\n",
       "    }\n",
       "</style>\n",
       "<table border=\"1\" class=\"dataframe\">\n",
       "  <thead>\n",
       "    <tr style=\"text-align: right;\">\n",
       "      <th></th>\n",
       "      <th>movie_id</th>\n",
       "      <th>title</th>\n",
       "      <th>cast</th>\n",
       "      <th>crew</th>\n",
       "    </tr>\n",
       "  </thead>\n",
       "  <tbody>\n",
       "    <tr>\n",
       "      <th>0</th>\n",
       "      <td>19995</td>\n",
       "      <td>Avatar</td>\n",
       "      <td>[{\"cast_id\": 242, \"character\": \"Jake Sully\", \"...</td>\n",
       "      <td>[{\"credit_id\": \"52fe48009251416c750aca23\", \"de...</td>\n",
       "    </tr>\n",
       "  </tbody>\n",
       "</table>\n",
       "</div>"
      ],
      "text/plain": [
       "   movie_id   title                                               cast  \\\n",
       "0     19995  Avatar  [{\"cast_id\": 242, \"character\": \"Jake Sully\", \"...   \n",
       "\n",
       "                                                crew  \n",
       "0  [{\"credit_id\": \"52fe48009251416c750aca23\", \"de...  "
      ]
     },
     "execution_count": 68,
     "metadata": {},
     "output_type": "execute_result"
    }
   ],
   "source": [
    "credits.head(1)"
   ]
  },
  {
   "cell_type": "code",
   "execution_count": 69,
   "id": "31468711",
   "metadata": {},
   "outputs": [
    {
     "data": {
      "text/plain": [
       "array(['[{\"cast_id\": 242, \"character\": \"Jake Sully\", \"credit_id\": \"5602a8a7c3a3685532001c9a\", \"gender\": 2, \"id\": 65731, \"name\": \"Sam Worthington\", \"order\": 0}, {\"cast_id\": 3, \"character\": \"Neytiri\", \"credit_id\": \"52fe48009251416c750ac9cb\", \"gender\": 1, \"id\": 8691, \"name\": \"Zoe Saldana\", \"order\": 1}, {\"cast_id\": 25, \"character\": \"Dr. Grace Augustine\", \"credit_id\": \"52fe48009251416c750aca39\", \"gender\": 1, \"id\": 10205, \"name\": \"Sigourney Weaver\", \"order\": 2}, {\"cast_id\": 4, \"character\": \"Col. Quaritch\", \"credit_id\": \"52fe48009251416c750ac9cf\", \"gender\": 2, \"id\": 32747, \"name\": \"Stephen Lang\", \"order\": 3}, {\"cast_id\": 5, \"character\": \"Trudy Chacon\", \"credit_id\": \"52fe48009251416c750ac9d3\", \"gender\": 1, \"id\": 17647, \"name\": \"Michelle Rodriguez\", \"order\": 4}, {\"cast_id\": 8, \"character\": \"Selfridge\", \"credit_id\": \"52fe48009251416c750ac9e1\", \"gender\": 2, \"id\": 1771, \"name\": \"Giovanni Ribisi\", \"order\": 5}, {\"cast_id\": 7, \"character\": \"Norm Spellman\", \"credit_id\": \"52fe48009251416c750ac9dd\", \"gender\": 2, \"id\": 59231, \"name\": \"Joel David Moore\", \"order\": 6}, {\"cast_id\": 9, \"character\": \"Moat\", \"credit_id\": \"52fe48009251416c750ac9e5\", \"gender\": 1, \"id\": 30485, \"name\": \"CCH Pounder\", \"order\": 7}, {\"cast_id\": 11, \"character\": \"Eytukan\", \"credit_id\": \"52fe48009251416c750ac9ed\", \"gender\": 2, \"id\": 15853, \"name\": \"Wes Studi\", \"order\": 8}, {\"cast_id\": 10, \"character\": \"Tsu\\'Tey\", \"credit_id\": \"52fe48009251416c750ac9e9\", \"gender\": 2, \"id\": 10964, \"name\": \"Laz Alonso\", \"order\": 9}, {\"cast_id\": 12, \"character\": \"Dr. Max Patel\", \"credit_id\": \"52fe48009251416c750ac9f1\", \"gender\": 2, \"id\": 95697, \"name\": \"Dileep Rao\", \"order\": 10}, {\"cast_id\": 13, \"character\": \"Lyle Wainfleet\", \"credit_id\": \"52fe48009251416c750ac9f5\", \"gender\": 2, \"id\": 98215, \"name\": \"Matt Gerald\", \"order\": 11}, {\"cast_id\": 32, \"character\": \"Private Fike\", \"credit_id\": \"52fe48009251416c750aca5b\", \"gender\": 2, \"id\": 154153, \"name\": \"Sean Anthony Moran\", \"order\": 12}, {\"cast_id\": 33, \"character\": \"Cryo Vault Med Tech\", \"credit_id\": \"52fe48009251416c750aca5f\", \"gender\": 2, \"id\": 397312, \"name\": \"Jason Whyte\", \"order\": 13}, {\"cast_id\": 34, \"character\": \"Venture Star Crew Chief\", \"credit_id\": \"52fe48009251416c750aca63\", \"gender\": 2, \"id\": 42317, \"name\": \"Scott Lawrence\", \"order\": 14}, {\"cast_id\": 35, \"character\": \"Lock Up Trooper\", \"credit_id\": \"52fe48009251416c750aca67\", \"gender\": 2, \"id\": 986734, \"name\": \"Kelly Kilgour\", \"order\": 15}, {\"cast_id\": 36, \"character\": \"Shuttle Pilot\", \"credit_id\": \"52fe48009251416c750aca6b\", \"gender\": 0, \"id\": 1207227, \"name\": \"James Patrick Pitt\", \"order\": 16}, {\"cast_id\": 37, \"character\": \"Shuttle Co-Pilot\", \"credit_id\": \"52fe48009251416c750aca6f\", \"gender\": 0, \"id\": 1180936, \"name\": \"Sean Patrick Murphy\", \"order\": 17}, {\"cast_id\": 38, \"character\": \"Shuttle Crew Chief\", \"credit_id\": \"52fe48009251416c750aca73\", \"gender\": 2, \"id\": 1019578, \"name\": \"Peter Dillon\", \"order\": 18}, {\"cast_id\": 39, \"character\": \"Tractor Operator / Troupe\", \"credit_id\": \"52fe48009251416c750aca77\", \"gender\": 0, \"id\": 91443, \"name\": \"Kevin Dorman\", \"order\": 19}, {\"cast_id\": 40, \"character\": \"Dragon Gunship Pilot\", \"credit_id\": \"52fe48009251416c750aca7b\", \"gender\": 2, \"id\": 173391, \"name\": \"Kelson Henderson\", \"order\": 20}, {\"cast_id\": 41, \"character\": \"Dragon Gunship Gunner\", \"credit_id\": \"52fe48009251416c750aca7f\", \"gender\": 0, \"id\": 1207236, \"name\": \"David Van Horn\", \"order\": 21}, {\"cast_id\": 42, \"character\": \"Dragon Gunship Navigator\", \"credit_id\": \"52fe48009251416c750aca83\", \"gender\": 0, \"id\": 215913, \"name\": \"Jacob Tomuri\", \"order\": 22}, {\"cast_id\": 43, \"character\": \"Suit #1\", \"credit_id\": \"52fe48009251416c750aca87\", \"gender\": 0, \"id\": 143206, \"name\": \"Michael Blain-Rozgay\", \"order\": 23}, {\"cast_id\": 44, \"character\": \"Suit #2\", \"credit_id\": \"52fe48009251416c750aca8b\", \"gender\": 2, \"id\": 169676, \"name\": \"Jon Curry\", \"order\": 24}, {\"cast_id\": 46, \"character\": \"Ambient Room Tech\", \"credit_id\": \"52fe48009251416c750aca8f\", \"gender\": 0, \"id\": 1048610, \"name\": \"Luke Hawker\", \"order\": 25}, {\"cast_id\": 47, \"character\": \"Ambient Room Tech / Troupe\", \"credit_id\": \"52fe48009251416c750aca93\", \"gender\": 0, \"id\": 42288, \"name\": \"Woody Schultz\", \"order\": 26}, {\"cast_id\": 48, \"character\": \"Horse Clan Leader\", \"credit_id\": \"52fe48009251416c750aca97\", \"gender\": 2, \"id\": 68278, \"name\": \"Peter Mensah\", \"order\": 27}, {\"cast_id\": 49, \"character\": \"Link Room Tech\", \"credit_id\": \"52fe48009251416c750aca9b\", \"gender\": 0, \"id\": 1207247, \"name\": \"Sonia Yee\", \"order\": 28}, {\"cast_id\": 50, \"character\": \"Basketball Avatar / Troupe\", \"credit_id\": \"52fe48009251416c750aca9f\", \"gender\": 1, \"id\": 1207248, \"name\": \"Jahnel Curfman\", \"order\": 29}, {\"cast_id\": 51, \"character\": \"Basketball Avatar\", \"credit_id\": \"52fe48009251416c750acaa3\", \"gender\": 0, \"id\": 89714, \"name\": \"Ilram Choi\", \"order\": 30}, {\"cast_id\": 52, \"character\": \"Na\\'vi Child\", \"credit_id\": \"52fe48009251416c750acaa7\", \"gender\": 0, \"id\": 1207249, \"name\": \"Kyla Warren\", \"order\": 31}, {\"cast_id\": 53, \"character\": \"Troupe\", \"credit_id\": \"52fe48009251416c750acaab\", \"gender\": 0, \"id\": 1207250, \"name\": \"Lisa Roumain\", \"order\": 32}, {\"cast_id\": 54, \"character\": \"Troupe\", \"credit_id\": \"52fe48009251416c750acaaf\", \"gender\": 1, \"id\": 83105, \"name\": \"Debra Wilson\", \"order\": 33}, {\"cast_id\": 57, \"character\": \"Troupe\", \"credit_id\": \"52fe48009251416c750acabb\", \"gender\": 0, \"id\": 1207253, \"name\": \"Chris Mala\", \"order\": 34}, {\"cast_id\": 55, \"character\": \"Troupe\", \"credit_id\": \"52fe48009251416c750acab3\", \"gender\": 0, \"id\": 1207251, \"name\": \"Taylor Kibby\", \"order\": 35}, {\"cast_id\": 56, \"character\": \"Troupe\", \"credit_id\": \"52fe48009251416c750acab7\", \"gender\": 0, \"id\": 1207252, \"name\": \"Jodie Landau\", \"order\": 36}, {\"cast_id\": 58, \"character\": \"Troupe\", \"credit_id\": \"52fe48009251416c750acabf\", \"gender\": 0, \"id\": 1207254, \"name\": \"Julie Lamm\", \"order\": 37}, {\"cast_id\": 59, \"character\": \"Troupe\", \"credit_id\": \"52fe48009251416c750acac3\", \"gender\": 0, \"id\": 1207257, \"name\": \"Cullen B. Madden\", \"order\": 38}, {\"cast_id\": 60, \"character\": \"Troupe\", \"credit_id\": \"52fe48009251416c750acac7\", \"gender\": 0, \"id\": 1207259, \"name\": \"Joseph Brady Madden\", \"order\": 39}, {\"cast_id\": 61, \"character\": \"Troupe\", \"credit_id\": \"52fe48009251416c750acacb\", \"gender\": 0, \"id\": 1207262, \"name\": \"Frankie Torres\", \"order\": 40}, {\"cast_id\": 62, \"character\": \"Troupe\", \"credit_id\": \"52fe48009251416c750acacf\", \"gender\": 1, \"id\": 1158600, \"name\": \"Austin Wilson\", \"order\": 41}, {\"cast_id\": 63, \"character\": \"Troupe\", \"credit_id\": \"52fe48019251416c750acad3\", \"gender\": 1, \"id\": 983705, \"name\": \"Sara Wilson\", \"order\": 42}, {\"cast_id\": 64, \"character\": \"Troupe\", \"credit_id\": \"52fe48019251416c750acad7\", \"gender\": 0, \"id\": 1207263, \"name\": \"Tamica Washington-Miller\", \"order\": 43}, {\"cast_id\": 65, \"character\": \"Op Center Staff\", \"credit_id\": \"52fe48019251416c750acadb\", \"gender\": 1, \"id\": 1145098, \"name\": \"Lucy Briant\", \"order\": 44}, {\"cast_id\": 66, \"character\": \"Op Center Staff\", \"credit_id\": \"52fe48019251416c750acadf\", \"gender\": 2, \"id\": 33305, \"name\": \"Nathan Meister\", \"order\": 45}, {\"cast_id\": 67, \"character\": \"Op Center Staff\", \"credit_id\": \"52fe48019251416c750acae3\", \"gender\": 0, \"id\": 1207264, \"name\": \"Gerry Blair\", \"order\": 46}, {\"cast_id\": 68, \"character\": \"Op Center Staff\", \"credit_id\": \"52fe48019251416c750acae7\", \"gender\": 2, \"id\": 33311, \"name\": \"Matthew Chamberlain\", \"order\": 47}, {\"cast_id\": 69, \"character\": \"Op Center Staff\", \"credit_id\": \"52fe48019251416c750acaeb\", \"gender\": 0, \"id\": 1207265, \"name\": \"Paul Yates\", \"order\": 48}, {\"cast_id\": 70, \"character\": \"Op Center Duty Officer\", \"credit_id\": \"52fe48019251416c750acaef\", \"gender\": 0, \"id\": 1207266, \"name\": \"Wray Wilson\", \"order\": 49}, {\"cast_id\": 71, \"character\": \"Op Center Staff\", \"credit_id\": \"52fe48019251416c750acaf3\", \"gender\": 2, \"id\": 54492, \"name\": \"James Gaylyn\", \"order\": 50}, {\"cast_id\": 72, \"character\": \"Dancer\", \"credit_id\": \"52fe48019251416c750acaf7\", \"gender\": 0, \"id\": 1207267, \"name\": \"Melvin Leno Clark III\", \"order\": 51}, {\"cast_id\": 73, \"character\": \"Dancer\", \"credit_id\": \"52fe48019251416c750acafb\", \"gender\": 0, \"id\": 1207268, \"name\": \"Carvon Futrell\", \"order\": 52}, {\"cast_id\": 74, \"character\": \"Dancer\", \"credit_id\": \"52fe48019251416c750acaff\", \"gender\": 0, \"id\": 1207269, \"name\": \"Brandon Jelkes\", \"order\": 53}, {\"cast_id\": 75, \"character\": \"Dancer\", \"credit_id\": \"52fe48019251416c750acb03\", \"gender\": 0, \"id\": 1207270, \"name\": \"Micah Moch\", \"order\": 54}, {\"cast_id\": 76, \"character\": \"Dancer\", \"credit_id\": \"52fe48019251416c750acb07\", \"gender\": 0, \"id\": 1207271, \"name\": \"Hanniyah Muhammad\", \"order\": 55}, {\"cast_id\": 77, \"character\": \"Dancer\", \"credit_id\": \"52fe48019251416c750acb0b\", \"gender\": 0, \"id\": 1207272, \"name\": \"Christopher Nolen\", \"order\": 56}, {\"cast_id\": 78, \"character\": \"Dancer\", \"credit_id\": \"52fe48019251416c750acb0f\", \"gender\": 0, \"id\": 1207273, \"name\": \"Christa Oliver\", \"order\": 57}, {\"cast_id\": 79, \"character\": \"Dancer\", \"credit_id\": \"52fe48019251416c750acb13\", \"gender\": 0, \"id\": 1207274, \"name\": \"April Marie Thomas\", \"order\": 58}, {\"cast_id\": 80, \"character\": \"Dancer\", \"credit_id\": \"52fe48019251416c750acb17\", \"gender\": 0, \"id\": 1207275, \"name\": \"Bravita A. Threatt\", \"order\": 59}, {\"cast_id\": 81, \"character\": \"Mining Chief (uncredited)\", \"credit_id\": \"52fe48019251416c750acb1b\", \"gender\": 0, \"id\": 1207276, \"name\": \"Colin Bleasdale\", \"order\": 60}, {\"cast_id\": 82, \"character\": \"Veteran Miner (uncredited)\", \"credit_id\": \"52fe48019251416c750acb1f\", \"gender\": 0, \"id\": 107969, \"name\": \"Mike Bodnar\", \"order\": 61}, {\"cast_id\": 83, \"character\": \"Richard (uncredited)\", \"credit_id\": \"52fe48019251416c750acb23\", \"gender\": 0, \"id\": 1207278, \"name\": \"Matt Clayton\", \"order\": 62}, {\"cast_id\": 84, \"character\": \"Nav\\'i (uncredited)\", \"credit_id\": \"52fe48019251416c750acb27\", \"gender\": 1, \"id\": 147898, \"name\": \"Nicole Dionne\", \"order\": 63}, {\"cast_id\": 85, \"character\": \"Trooper (uncredited)\", \"credit_id\": \"52fe48019251416c750acb2b\", \"gender\": 0, \"id\": 1207280, \"name\": \"Jamie Harrison\", \"order\": 64}, {\"cast_id\": 86, \"character\": \"Trooper (uncredited)\", \"credit_id\": \"52fe48019251416c750acb2f\", \"gender\": 0, \"id\": 1207281, \"name\": \"Allan Henry\", \"order\": 65}, {\"cast_id\": 87, \"character\": \"Ground Technician (uncredited)\", \"credit_id\": \"52fe48019251416c750acb33\", \"gender\": 2, \"id\": 1207282, \"name\": \"Anthony Ingruber\", \"order\": 66}, {\"cast_id\": 88, \"character\": \"Flight Crew Mechanic (uncredited)\", \"credit_id\": \"52fe48019251416c750acb37\", \"gender\": 0, \"id\": 1207283, \"name\": \"Ashley Jeffery\", \"order\": 67}, {\"cast_id\": 14, \"character\": \"Samson Pilot\", \"credit_id\": \"52fe48009251416c750ac9f9\", \"gender\": 0, \"id\": 98216, \"name\": \"Dean Knowsley\", \"order\": 68}, {\"cast_id\": 89, \"character\": \"Trooper (uncredited)\", \"credit_id\": \"52fe48019251416c750acb3b\", \"gender\": 0, \"id\": 1201399, \"name\": \"Joseph Mika-Hunt\", \"order\": 69}, {\"cast_id\": 90, \"character\": \"Banshee (uncredited)\", \"credit_id\": \"52fe48019251416c750acb3f\", \"gender\": 0, \"id\": 236696, \"name\": \"Terry Notary\", \"order\": 70}, {\"cast_id\": 91, \"character\": \"Soldier (uncredited)\", \"credit_id\": \"52fe48019251416c750acb43\", \"gender\": 0, \"id\": 1207287, \"name\": \"Kai Pantano\", \"order\": 71}, {\"cast_id\": 92, \"character\": \"Blast Technician (uncredited)\", \"credit_id\": \"52fe48019251416c750acb47\", \"gender\": 0, \"id\": 1207288, \"name\": \"Logan Pithyou\", \"order\": 72}, {\"cast_id\": 93, \"character\": \"Vindum Raah (uncredited)\", \"credit_id\": \"52fe48019251416c750acb4b\", \"gender\": 0, \"id\": 1207289, \"name\": \"Stuart Pollock\", \"order\": 73}, {\"cast_id\": 94, \"character\": \"Hero (uncredited)\", \"credit_id\": \"52fe48019251416c750acb4f\", \"gender\": 0, \"id\": 584868, \"name\": \"Raja\", \"order\": 74}, {\"cast_id\": 95, \"character\": \"Ops Centreworker (uncredited)\", \"credit_id\": \"52fe48019251416c750acb53\", \"gender\": 0, \"id\": 1207290, \"name\": \"Gareth Ruck\", \"order\": 75}, {\"cast_id\": 96, \"character\": \"Engineer (uncredited)\", \"credit_id\": \"52fe48019251416c750acb57\", \"gender\": 0, \"id\": 1062463, \"name\": \"Rhian Sheehan\", \"order\": 76}, {\"cast_id\": 97, \"character\": \"Col. Quaritch\\'s Mech Suit (uncredited)\", \"credit_id\": \"52fe48019251416c750acb5b\", \"gender\": 0, \"id\": 60656, \"name\": \"T. J. Storm\", \"order\": 77}, {\"cast_id\": 98, \"character\": \"Female Marine (uncredited)\", \"credit_id\": \"52fe48019251416c750acb5f\", \"gender\": 0, \"id\": 1207291, \"name\": \"Jodie Taylor\", \"order\": 78}, {\"cast_id\": 99, \"character\": \"Ikran Clan Leader (uncredited)\", \"credit_id\": \"52fe48019251416c750acb63\", \"gender\": 1, \"id\": 1186027, \"name\": \"Alicia Vela-Bailey\", \"order\": 79}, {\"cast_id\": 100, \"character\": \"Geologist (uncredited)\", \"credit_id\": \"52fe48019251416c750acb67\", \"gender\": 0, \"id\": 1207292, \"name\": \"Richard Whiteside\", \"order\": 80}, {\"cast_id\": 101, \"character\": \"Na\\'vi (uncredited)\", \"credit_id\": \"52fe48019251416c750acb6b\", \"gender\": 0, \"id\": 103259, \"name\": \"Nikie Zambo\", \"order\": 81}, {\"cast_id\": 102, \"character\": \"Ambient Room Tech / Troupe\", \"credit_id\": \"52fe48019251416c750acb6f\", \"gender\": 1, \"id\": 42286, \"name\": \"Julene Renee\", \"order\": 82}]'],\n",
       "      dtype=object)"
      ]
     },
     "execution_count": 69,
     "metadata": {},
     "output_type": "execute_result"
    }
   ],
   "source": [
    "credits.head(1)['cast'].values"
   ]
  },
  {
   "cell_type": "code",
   "execution_count": 70,
   "id": "f6435ec1",
   "metadata": {},
   "outputs": [],
   "source": [
    "movies = movies.merge(credits,on='title')"
   ]
  },
  {
   "cell_type": "code",
   "execution_count": 71,
   "id": "d52a0baa",
   "metadata": {},
   "outputs": [
    {
     "data": {
      "text/html": [
       "<div>\n",
       "<style scoped>\n",
       "    .dataframe tbody tr th:only-of-type {\n",
       "        vertical-align: middle;\n",
       "    }\n",
       "\n",
       "    .dataframe tbody tr th {\n",
       "        vertical-align: top;\n",
       "    }\n",
       "\n",
       "    .dataframe thead th {\n",
       "        text-align: right;\n",
       "    }\n",
       "</style>\n",
       "<table border=\"1\" class=\"dataframe\">\n",
       "  <thead>\n",
       "    <tr style=\"text-align: right;\">\n",
       "      <th></th>\n",
       "      <th>budget</th>\n",
       "      <th>genres</th>\n",
       "      <th>homepage</th>\n",
       "      <th>id</th>\n",
       "      <th>keywords</th>\n",
       "      <th>original_language</th>\n",
       "      <th>original_title</th>\n",
       "      <th>overview</th>\n",
       "      <th>popularity</th>\n",
       "      <th>production_companies</th>\n",
       "      <th>...</th>\n",
       "      <th>runtime</th>\n",
       "      <th>spoken_languages</th>\n",
       "      <th>status</th>\n",
       "      <th>tagline</th>\n",
       "      <th>title</th>\n",
       "      <th>vote_average</th>\n",
       "      <th>vote_count</th>\n",
       "      <th>movie_id</th>\n",
       "      <th>cast</th>\n",
       "      <th>crew</th>\n",
       "    </tr>\n",
       "  </thead>\n",
       "  <tbody>\n",
       "    <tr>\n",
       "      <th>0</th>\n",
       "      <td>237000000</td>\n",
       "      <td>[{\"id\": 28, \"name\": \"Action\"}, {\"id\": 12, \"nam...</td>\n",
       "      <td>http://www.avatarmovie.com/</td>\n",
       "      <td>19995</td>\n",
       "      <td>[{\"id\": 1463, \"name\": \"culture clash\"}, {\"id\":...</td>\n",
       "      <td>en</td>\n",
       "      <td>Avatar</td>\n",
       "      <td>In the 22nd century, a paraplegic Marine is di...</td>\n",
       "      <td>150.437577</td>\n",
       "      <td>[{\"name\": \"Ingenious Film Partners\", \"id\": 289...</td>\n",
       "      <td>...</td>\n",
       "      <td>162.0</td>\n",
       "      <td>[{\"iso_639_1\": \"en\", \"name\": \"English\"}, {\"iso...</td>\n",
       "      <td>Released</td>\n",
       "      <td>Enter the World of Pandora.</td>\n",
       "      <td>Avatar</td>\n",
       "      <td>7.2</td>\n",
       "      <td>11800</td>\n",
       "      <td>19995</td>\n",
       "      <td>[{\"cast_id\": 242, \"character\": \"Jake Sully\", \"...</td>\n",
       "      <td>[{\"credit_id\": \"52fe48009251416c750aca23\", \"de...</td>\n",
       "    </tr>\n",
       "  </tbody>\n",
       "</table>\n",
       "<p>1 rows × 23 columns</p>\n",
       "</div>"
      ],
      "text/plain": [
       "      budget                                             genres  \\\n",
       "0  237000000  [{\"id\": 28, \"name\": \"Action\"}, {\"id\": 12, \"nam...   \n",
       "\n",
       "                      homepage     id  \\\n",
       "0  http://www.avatarmovie.com/  19995   \n",
       "\n",
       "                                            keywords original_language  \\\n",
       "0  [{\"id\": 1463, \"name\": \"culture clash\"}, {\"id\":...                en   \n",
       "\n",
       "  original_title                                           overview  \\\n",
       "0         Avatar  In the 22nd century, a paraplegic Marine is di...   \n",
       "\n",
       "   popularity                               production_companies  ... runtime  \\\n",
       "0  150.437577  [{\"name\": \"Ingenious Film Partners\", \"id\": 289...  ...   162.0   \n",
       "\n",
       "                                    spoken_languages    status  \\\n",
       "0  [{\"iso_639_1\": \"en\", \"name\": \"English\"}, {\"iso...  Released   \n",
       "\n",
       "                       tagline   title vote_average vote_count movie_id  \\\n",
       "0  Enter the World of Pandora.  Avatar          7.2      11800    19995   \n",
       "\n",
       "                                                cast  \\\n",
       "0  [{\"cast_id\": 242, \"character\": \"Jake Sully\", \"...   \n",
       "\n",
       "                                                crew  \n",
       "0  [{\"credit_id\": \"52fe48009251416c750aca23\", \"de...  \n",
       "\n",
       "[1 rows x 23 columns]"
      ]
     },
     "execution_count": 71,
     "metadata": {},
     "output_type": "execute_result"
    }
   ],
   "source": [
    "movies.head(1)"
   ]
  },
  {
   "cell_type": "code",
   "execution_count": 72,
   "id": "672489e7",
   "metadata": {},
   "outputs": [],
   "source": [
    "movies = movies[['movie_id','title','overview','genres','keywords','cast','crew']]"
   ]
  },
  {
   "cell_type": "code",
   "execution_count": 73,
   "id": "f25829ef",
   "metadata": {},
   "outputs": [
    {
     "name": "stdout",
     "output_type": "stream",
     "text": [
      "<class 'pandas.core.frame.DataFrame'>\n",
      "Int64Index: 4809 entries, 0 to 4808\n",
      "Data columns (total 7 columns):\n",
      " #   Column    Non-Null Count  Dtype \n",
      "---  ------    --------------  ----- \n",
      " 0   movie_id  4809 non-null   int64 \n",
      " 1   title     4809 non-null   object\n",
      " 2   overview  4806 non-null   object\n",
      " 3   genres    4809 non-null   object\n",
      " 4   keywords  4809 non-null   object\n",
      " 5   cast      4809 non-null   object\n",
      " 6   crew      4809 non-null   object\n",
      "dtypes: int64(1), object(6)\n",
      "memory usage: 300.6+ KB\n"
     ]
    }
   ],
   "source": [
    "movies.info()"
   ]
  },
  {
   "cell_type": "code",
   "execution_count": 74,
   "id": "cc7a0dfb",
   "metadata": {},
   "outputs": [
    {
     "data": {
      "text/html": [
       "<div>\n",
       "<style scoped>\n",
       "    .dataframe tbody tr th:only-of-type {\n",
       "        vertical-align: middle;\n",
       "    }\n",
       "\n",
       "    .dataframe tbody tr th {\n",
       "        vertical-align: top;\n",
       "    }\n",
       "\n",
       "    .dataframe thead th {\n",
       "        text-align: right;\n",
       "    }\n",
       "</style>\n",
       "<table border=\"1\" class=\"dataframe\">\n",
       "  <thead>\n",
       "    <tr style=\"text-align: right;\">\n",
       "      <th></th>\n",
       "      <th>movie_id</th>\n",
       "      <th>title</th>\n",
       "      <th>overview</th>\n",
       "      <th>genres</th>\n",
       "      <th>keywords</th>\n",
       "      <th>cast</th>\n",
       "      <th>crew</th>\n",
       "    </tr>\n",
       "  </thead>\n",
       "  <tbody>\n",
       "    <tr>\n",
       "      <th>0</th>\n",
       "      <td>19995</td>\n",
       "      <td>Avatar</td>\n",
       "      <td>In the 22nd century, a paraplegic Marine is di...</td>\n",
       "      <td>[{\"id\": 28, \"name\": \"Action\"}, {\"id\": 12, \"nam...</td>\n",
       "      <td>[{\"id\": 1463, \"name\": \"culture clash\"}, {\"id\":...</td>\n",
       "      <td>[{\"cast_id\": 242, \"character\": \"Jake Sully\", \"...</td>\n",
       "      <td>[{\"credit_id\": \"52fe48009251416c750aca23\", \"de...</td>\n",
       "    </tr>\n",
       "    <tr>\n",
       "      <th>1</th>\n",
       "      <td>285</td>\n",
       "      <td>Pirates of the Caribbean: At World's End</td>\n",
       "      <td>Captain Barbossa, long believed to be dead, ha...</td>\n",
       "      <td>[{\"id\": 12, \"name\": \"Adventure\"}, {\"id\": 14, \"...</td>\n",
       "      <td>[{\"id\": 270, \"name\": \"ocean\"}, {\"id\": 726, \"na...</td>\n",
       "      <td>[{\"cast_id\": 4, \"character\": \"Captain Jack Spa...</td>\n",
       "      <td>[{\"credit_id\": \"52fe4232c3a36847f800b579\", \"de...</td>\n",
       "    </tr>\n",
       "    <tr>\n",
       "      <th>2</th>\n",
       "      <td>206647</td>\n",
       "      <td>Spectre</td>\n",
       "      <td>A cryptic message from Bond’s past sends him o...</td>\n",
       "      <td>[{\"id\": 28, \"name\": \"Action\"}, {\"id\": 12, \"nam...</td>\n",
       "      <td>[{\"id\": 470, \"name\": \"spy\"}, {\"id\": 818, \"name...</td>\n",
       "      <td>[{\"cast_id\": 1, \"character\": \"James Bond\", \"cr...</td>\n",
       "      <td>[{\"credit_id\": \"54805967c3a36829b5002c41\", \"de...</td>\n",
       "    </tr>\n",
       "    <tr>\n",
       "      <th>3</th>\n",
       "      <td>49026</td>\n",
       "      <td>The Dark Knight Rises</td>\n",
       "      <td>Following the death of District Attorney Harve...</td>\n",
       "      <td>[{\"id\": 28, \"name\": \"Action\"}, {\"id\": 80, \"nam...</td>\n",
       "      <td>[{\"id\": 849, \"name\": \"dc comics\"}, {\"id\": 853,...</td>\n",
       "      <td>[{\"cast_id\": 2, \"character\": \"Bruce Wayne / Ba...</td>\n",
       "      <td>[{\"credit_id\": \"52fe4781c3a36847f81398c3\", \"de...</td>\n",
       "    </tr>\n",
       "    <tr>\n",
       "      <th>4</th>\n",
       "      <td>49529</td>\n",
       "      <td>John Carter</td>\n",
       "      <td>John Carter is a war-weary, former military ca...</td>\n",
       "      <td>[{\"id\": 28, \"name\": \"Action\"}, {\"id\": 12, \"nam...</td>\n",
       "      <td>[{\"id\": 818, \"name\": \"based on novel\"}, {\"id\":...</td>\n",
       "      <td>[{\"cast_id\": 5, \"character\": \"John Carter\", \"c...</td>\n",
       "      <td>[{\"credit_id\": \"52fe479ac3a36847f813eaa3\", \"de...</td>\n",
       "    </tr>\n",
       "  </tbody>\n",
       "</table>\n",
       "</div>"
      ],
      "text/plain": [
       "   movie_id                                     title  \\\n",
       "0     19995                                    Avatar   \n",
       "1       285  Pirates of the Caribbean: At World's End   \n",
       "2    206647                                   Spectre   \n",
       "3     49026                     The Dark Knight Rises   \n",
       "4     49529                               John Carter   \n",
       "\n",
       "                                            overview  \\\n",
       "0  In the 22nd century, a paraplegic Marine is di...   \n",
       "1  Captain Barbossa, long believed to be dead, ha...   \n",
       "2  A cryptic message from Bond’s past sends him o...   \n",
       "3  Following the death of District Attorney Harve...   \n",
       "4  John Carter is a war-weary, former military ca...   \n",
       "\n",
       "                                              genres  \\\n",
       "0  [{\"id\": 28, \"name\": \"Action\"}, {\"id\": 12, \"nam...   \n",
       "1  [{\"id\": 12, \"name\": \"Adventure\"}, {\"id\": 14, \"...   \n",
       "2  [{\"id\": 28, \"name\": \"Action\"}, {\"id\": 12, \"nam...   \n",
       "3  [{\"id\": 28, \"name\": \"Action\"}, {\"id\": 80, \"nam...   \n",
       "4  [{\"id\": 28, \"name\": \"Action\"}, {\"id\": 12, \"nam...   \n",
       "\n",
       "                                            keywords  \\\n",
       "0  [{\"id\": 1463, \"name\": \"culture clash\"}, {\"id\":...   \n",
       "1  [{\"id\": 270, \"name\": \"ocean\"}, {\"id\": 726, \"na...   \n",
       "2  [{\"id\": 470, \"name\": \"spy\"}, {\"id\": 818, \"name...   \n",
       "3  [{\"id\": 849, \"name\": \"dc comics\"}, {\"id\": 853,...   \n",
       "4  [{\"id\": 818, \"name\": \"based on novel\"}, {\"id\":...   \n",
       "\n",
       "                                                cast  \\\n",
       "0  [{\"cast_id\": 242, \"character\": \"Jake Sully\", \"...   \n",
       "1  [{\"cast_id\": 4, \"character\": \"Captain Jack Spa...   \n",
       "2  [{\"cast_id\": 1, \"character\": \"James Bond\", \"cr...   \n",
       "3  [{\"cast_id\": 2, \"character\": \"Bruce Wayne / Ba...   \n",
       "4  [{\"cast_id\": 5, \"character\": \"John Carter\", \"c...   \n",
       "\n",
       "                                                crew  \n",
       "0  [{\"credit_id\": \"52fe48009251416c750aca23\", \"de...  \n",
       "1  [{\"credit_id\": \"52fe4232c3a36847f800b579\", \"de...  \n",
       "2  [{\"credit_id\": \"54805967c3a36829b5002c41\", \"de...  \n",
       "3  [{\"credit_id\": \"52fe4781c3a36847f81398c3\", \"de...  \n",
       "4  [{\"credit_id\": \"52fe479ac3a36847f813eaa3\", \"de...  "
      ]
     },
     "execution_count": 74,
     "metadata": {},
     "output_type": "execute_result"
    }
   ],
   "source": [
    "movies.head()"
   ]
  },
  {
   "cell_type": "code",
   "execution_count": 75,
   "id": "a02155a6",
   "metadata": {},
   "outputs": [
    {
     "data": {
      "text/plain": [
       "movie_id    0\n",
       "title       0\n",
       "overview    3\n",
       "genres      0\n",
       "keywords    0\n",
       "cast        0\n",
       "crew        0\n",
       "dtype: int64"
      ]
     },
     "execution_count": 75,
     "metadata": {},
     "output_type": "execute_result"
    }
   ],
   "source": [
    "movies.isnull().sum()"
   ]
  },
  {
   "cell_type": "code",
   "execution_count": 76,
   "id": "3ba8aeef",
   "metadata": {},
   "outputs": [],
   "source": [
    "movies.dropna(inplace=True)"
   ]
  },
  {
   "cell_type": "code",
   "execution_count": 77,
   "id": "121d2803",
   "metadata": {},
   "outputs": [
    {
     "data": {
      "text/plain": [
       "movie_id    0\n",
       "title       0\n",
       "overview    0\n",
       "genres      0\n",
       "keywords    0\n",
       "cast        0\n",
       "crew        0\n",
       "dtype: int64"
      ]
     },
     "execution_count": 77,
     "metadata": {},
     "output_type": "execute_result"
    }
   ],
   "source": [
    "movies.isnull().sum()\n"
   ]
  },
  {
   "cell_type": "code",
   "execution_count": 78,
   "id": "16e27843",
   "metadata": {},
   "outputs": [
    {
     "data": {
      "text/plain": [
       "0"
      ]
     },
     "execution_count": 78,
     "metadata": {},
     "output_type": "execute_result"
    }
   ],
   "source": [
    "movies.duplicated().sum()"
   ]
  },
  {
   "cell_type": "code",
   "execution_count": 79,
   "id": "93c7ce47",
   "metadata": {},
   "outputs": [
    {
     "data": {
      "text/plain": [
       "'[{\"id\": 28, \"name\": \"Action\"}, {\"id\": 12, \"name\": \"Adventure\"}, {\"id\": 14, \"name\": \"Fantasy\"}, {\"id\": 878, \"name\": \"Science Fiction\"}]'"
      ]
     },
     "execution_count": 79,
     "metadata": {},
     "output_type": "execute_result"
    }
   ],
   "source": [
    "movies.iloc[0].genres"
   ]
  },
  {
   "cell_type": "code",
   "execution_count": 80,
   "id": "9aa061ce",
   "metadata": {},
   "outputs": [],
   "source": [
    "def convert(obj):\n",
    "    L = []\n",
    "    for i in ast.literal_eval(obj):\n",
    "        L.append(i['name'])\n",
    "    return L\n",
    "       "
   ]
  },
  {
   "cell_type": "code",
   "execution_count": 81,
   "id": "1906e292",
   "metadata": {},
   "outputs": [
    {
     "ename": "NameError",
     "evalue": "name 'ast' is not defined",
     "output_type": "error",
     "traceback": [
      "\u001b[1;31m---------------------------------------------------------------------------\u001b[0m",
      "\u001b[1;31mNameError\u001b[0m                                 Traceback (most recent call last)",
      "Cell \u001b[1;32mIn[81], line 1\u001b[0m\n\u001b[1;32m----> 1\u001b[0m movies[\u001b[38;5;124m'\u001b[39m\u001b[38;5;124mgenres\u001b[39m\u001b[38;5;124m'\u001b[39m] \u001b[38;5;241m=\u001b[39m \u001b[43mmovies\u001b[49m\u001b[43m[\u001b[49m\u001b[38;5;124;43m'\u001b[39;49m\u001b[38;5;124;43mgenres\u001b[39;49m\u001b[38;5;124;43m'\u001b[39;49m\u001b[43m]\u001b[49m\u001b[38;5;241;43m.\u001b[39;49m\u001b[43mapply\u001b[49m\u001b[43m(\u001b[49m\u001b[43mconvert\u001b[49m\u001b[43m)\u001b[49m\n",
      "File \u001b[1;32m~\\anaconda3\\lib\\site-packages\\pandas\\core\\series.py:4771\u001b[0m, in \u001b[0;36mSeries.apply\u001b[1;34m(self, func, convert_dtype, args, **kwargs)\u001b[0m\n\u001b[0;32m   4661\u001b[0m \u001b[38;5;28;01mdef\u001b[39;00m \u001b[38;5;21mapply\u001b[39m(\n\u001b[0;32m   4662\u001b[0m     \u001b[38;5;28mself\u001b[39m,\n\u001b[0;32m   4663\u001b[0m     func: AggFuncType,\n\u001b[1;32m   (...)\u001b[0m\n\u001b[0;32m   4666\u001b[0m     \u001b[38;5;241m*\u001b[39m\u001b[38;5;241m*\u001b[39mkwargs,\n\u001b[0;32m   4667\u001b[0m ) \u001b[38;5;241m-\u001b[39m\u001b[38;5;241m>\u001b[39m DataFrame \u001b[38;5;241m|\u001b[39m Series:\n\u001b[0;32m   4668\u001b[0m     \u001b[38;5;124;03m\"\"\"\u001b[39;00m\n\u001b[0;32m   4669\u001b[0m \u001b[38;5;124;03m    Invoke function on values of Series.\u001b[39;00m\n\u001b[0;32m   4670\u001b[0m \n\u001b[1;32m   (...)\u001b[0m\n\u001b[0;32m   4769\u001b[0m \u001b[38;5;124;03m    dtype: float64\u001b[39;00m\n\u001b[0;32m   4770\u001b[0m \u001b[38;5;124;03m    \"\"\"\u001b[39;00m\n\u001b[1;32m-> 4771\u001b[0m     \u001b[38;5;28;01mreturn\u001b[39;00m \u001b[43mSeriesApply\u001b[49m\u001b[43m(\u001b[49m\u001b[38;5;28;43mself\u001b[39;49m\u001b[43m,\u001b[49m\u001b[43m \u001b[49m\u001b[43mfunc\u001b[49m\u001b[43m,\u001b[49m\u001b[43m \u001b[49m\u001b[43mconvert_dtype\u001b[49m\u001b[43m,\u001b[49m\u001b[43m \u001b[49m\u001b[43margs\u001b[49m\u001b[43m,\u001b[49m\u001b[43m \u001b[49m\u001b[43mkwargs\u001b[49m\u001b[43m)\u001b[49m\u001b[38;5;241;43m.\u001b[39;49m\u001b[43mapply\u001b[49m\u001b[43m(\u001b[49m\u001b[43m)\u001b[49m\n",
      "File \u001b[1;32m~\\anaconda3\\lib\\site-packages\\pandas\\core\\apply.py:1123\u001b[0m, in \u001b[0;36mSeriesApply.apply\u001b[1;34m(self)\u001b[0m\n\u001b[0;32m   1120\u001b[0m     \u001b[38;5;28;01mreturn\u001b[39;00m \u001b[38;5;28mself\u001b[39m\u001b[38;5;241m.\u001b[39mapply_str()\n\u001b[0;32m   1122\u001b[0m \u001b[38;5;66;03m# self.f is Callable\u001b[39;00m\n\u001b[1;32m-> 1123\u001b[0m \u001b[38;5;28;01mreturn\u001b[39;00m \u001b[38;5;28;43mself\u001b[39;49m\u001b[38;5;241;43m.\u001b[39;49m\u001b[43mapply_standard\u001b[49m\u001b[43m(\u001b[49m\u001b[43m)\u001b[49m\n",
      "File \u001b[1;32m~\\anaconda3\\lib\\site-packages\\pandas\\core\\apply.py:1174\u001b[0m, in \u001b[0;36mSeriesApply.apply_standard\u001b[1;34m(self)\u001b[0m\n\u001b[0;32m   1172\u001b[0m     \u001b[38;5;28;01melse\u001b[39;00m:\n\u001b[0;32m   1173\u001b[0m         values \u001b[38;5;241m=\u001b[39m obj\u001b[38;5;241m.\u001b[39mastype(\u001b[38;5;28mobject\u001b[39m)\u001b[38;5;241m.\u001b[39m_values\n\u001b[1;32m-> 1174\u001b[0m         mapped \u001b[38;5;241m=\u001b[39m \u001b[43mlib\u001b[49m\u001b[38;5;241;43m.\u001b[39;49m\u001b[43mmap_infer\u001b[49m\u001b[43m(\u001b[49m\n\u001b[0;32m   1175\u001b[0m \u001b[43m            \u001b[49m\u001b[43mvalues\u001b[49m\u001b[43m,\u001b[49m\n\u001b[0;32m   1176\u001b[0m \u001b[43m            \u001b[49m\u001b[43mf\u001b[49m\u001b[43m,\u001b[49m\n\u001b[0;32m   1177\u001b[0m \u001b[43m            \u001b[49m\u001b[43mconvert\u001b[49m\u001b[38;5;241;43m=\u001b[39;49m\u001b[38;5;28;43mself\u001b[39;49m\u001b[38;5;241;43m.\u001b[39;49m\u001b[43mconvert_dtype\u001b[49m\u001b[43m,\u001b[49m\n\u001b[0;32m   1178\u001b[0m \u001b[43m        \u001b[49m\u001b[43m)\u001b[49m\n\u001b[0;32m   1180\u001b[0m \u001b[38;5;28;01mif\u001b[39;00m \u001b[38;5;28mlen\u001b[39m(mapped) \u001b[38;5;129;01mand\u001b[39;00m \u001b[38;5;28misinstance\u001b[39m(mapped[\u001b[38;5;241m0\u001b[39m], ABCSeries):\n\u001b[0;32m   1181\u001b[0m     \u001b[38;5;66;03m# GH#43986 Need to do list(mapped) in order to get treated as nested\u001b[39;00m\n\u001b[0;32m   1182\u001b[0m     \u001b[38;5;66;03m#  See also GH#25959 regarding EA support\u001b[39;00m\n\u001b[0;32m   1183\u001b[0m     \u001b[38;5;28;01mreturn\u001b[39;00m obj\u001b[38;5;241m.\u001b[39m_constructor_expanddim(\u001b[38;5;28mlist\u001b[39m(mapped), index\u001b[38;5;241m=\u001b[39mobj\u001b[38;5;241m.\u001b[39mindex)\n",
      "File \u001b[1;32m~\\anaconda3\\lib\\site-packages\\pandas\\_libs\\lib.pyx:2924\u001b[0m, in \u001b[0;36mpandas._libs.lib.map_infer\u001b[1;34m()\u001b[0m\n",
      "Cell \u001b[1;32mIn[80], line 3\u001b[0m, in \u001b[0;36mconvert\u001b[1;34m(obj)\u001b[0m\n\u001b[0;32m      1\u001b[0m \u001b[38;5;28;01mdef\u001b[39;00m \u001b[38;5;21mconvert\u001b[39m(obj):\n\u001b[0;32m      2\u001b[0m     L \u001b[38;5;241m=\u001b[39m []\n\u001b[1;32m----> 3\u001b[0m     \u001b[38;5;28;01mfor\u001b[39;00m i \u001b[38;5;129;01min\u001b[39;00m \u001b[43mast\u001b[49m\u001b[38;5;241m.\u001b[39mliteral_eval(obj):\n\u001b[0;32m      4\u001b[0m         L\u001b[38;5;241m.\u001b[39mappend(i[\u001b[38;5;124m'\u001b[39m\u001b[38;5;124mname\u001b[39m\u001b[38;5;124m'\u001b[39m])\n\u001b[0;32m      5\u001b[0m     \u001b[38;5;28;01mreturn\u001b[39;00m L\n",
      "\u001b[1;31mNameError\u001b[0m: name 'ast' is not defined"
     ]
    }
   ],
   "source": [
    "movies['genres'] = movies['genres'].apply(convert)"
   ]
  },
  {
   "cell_type": "code",
   "execution_count": 82,
   "id": "a8b06f46",
   "metadata": {},
   "outputs": [
    {
     "data": {
      "text/html": [
       "<div>\n",
       "<style scoped>\n",
       "    .dataframe tbody tr th:only-of-type {\n",
       "        vertical-align: middle;\n",
       "    }\n",
       "\n",
       "    .dataframe tbody tr th {\n",
       "        vertical-align: top;\n",
       "    }\n",
       "\n",
       "    .dataframe thead th {\n",
       "        text-align: right;\n",
       "    }\n",
       "</style>\n",
       "<table border=\"1\" class=\"dataframe\">\n",
       "  <thead>\n",
       "    <tr style=\"text-align: right;\">\n",
       "      <th></th>\n",
       "      <th>movie_id</th>\n",
       "      <th>title</th>\n",
       "      <th>overview</th>\n",
       "      <th>genres</th>\n",
       "      <th>keywords</th>\n",
       "      <th>cast</th>\n",
       "      <th>crew</th>\n",
       "    </tr>\n",
       "  </thead>\n",
       "  <tbody>\n",
       "    <tr>\n",
       "      <th>0</th>\n",
       "      <td>19995</td>\n",
       "      <td>Avatar</td>\n",
       "      <td>In the 22nd century, a paraplegic Marine is di...</td>\n",
       "      <td>[{\"id\": 28, \"name\": \"Action\"}, {\"id\": 12, \"nam...</td>\n",
       "      <td>[{\"id\": 1463, \"name\": \"culture clash\"}, {\"id\":...</td>\n",
       "      <td>[{\"cast_id\": 242, \"character\": \"Jake Sully\", \"...</td>\n",
       "      <td>[{\"credit_id\": \"52fe48009251416c750aca23\", \"de...</td>\n",
       "    </tr>\n",
       "    <tr>\n",
       "      <th>1</th>\n",
       "      <td>285</td>\n",
       "      <td>Pirates of the Caribbean: At World's End</td>\n",
       "      <td>Captain Barbossa, long believed to be dead, ha...</td>\n",
       "      <td>[{\"id\": 12, \"name\": \"Adventure\"}, {\"id\": 14, \"...</td>\n",
       "      <td>[{\"id\": 270, \"name\": \"ocean\"}, {\"id\": 726, \"na...</td>\n",
       "      <td>[{\"cast_id\": 4, \"character\": \"Captain Jack Spa...</td>\n",
       "      <td>[{\"credit_id\": \"52fe4232c3a36847f800b579\", \"de...</td>\n",
       "    </tr>\n",
       "    <tr>\n",
       "      <th>2</th>\n",
       "      <td>206647</td>\n",
       "      <td>Spectre</td>\n",
       "      <td>A cryptic message from Bond’s past sends him o...</td>\n",
       "      <td>[{\"id\": 28, \"name\": \"Action\"}, {\"id\": 12, \"nam...</td>\n",
       "      <td>[{\"id\": 470, \"name\": \"spy\"}, {\"id\": 818, \"name...</td>\n",
       "      <td>[{\"cast_id\": 1, \"character\": \"James Bond\", \"cr...</td>\n",
       "      <td>[{\"credit_id\": \"54805967c3a36829b5002c41\", \"de...</td>\n",
       "    </tr>\n",
       "    <tr>\n",
       "      <th>3</th>\n",
       "      <td>49026</td>\n",
       "      <td>The Dark Knight Rises</td>\n",
       "      <td>Following the death of District Attorney Harve...</td>\n",
       "      <td>[{\"id\": 28, \"name\": \"Action\"}, {\"id\": 80, \"nam...</td>\n",
       "      <td>[{\"id\": 849, \"name\": \"dc comics\"}, {\"id\": 853,...</td>\n",
       "      <td>[{\"cast_id\": 2, \"character\": \"Bruce Wayne / Ba...</td>\n",
       "      <td>[{\"credit_id\": \"52fe4781c3a36847f81398c3\", \"de...</td>\n",
       "    </tr>\n",
       "    <tr>\n",
       "      <th>4</th>\n",
       "      <td>49529</td>\n",
       "      <td>John Carter</td>\n",
       "      <td>John Carter is a war-weary, former military ca...</td>\n",
       "      <td>[{\"id\": 28, \"name\": \"Action\"}, {\"id\": 12, \"nam...</td>\n",
       "      <td>[{\"id\": 818, \"name\": \"based on novel\"}, {\"id\":...</td>\n",
       "      <td>[{\"cast_id\": 5, \"character\": \"John Carter\", \"c...</td>\n",
       "      <td>[{\"credit_id\": \"52fe479ac3a36847f813eaa3\", \"de...</td>\n",
       "    </tr>\n",
       "  </tbody>\n",
       "</table>\n",
       "</div>"
      ],
      "text/plain": [
       "   movie_id                                     title  \\\n",
       "0     19995                                    Avatar   \n",
       "1       285  Pirates of the Caribbean: At World's End   \n",
       "2    206647                                   Spectre   \n",
       "3     49026                     The Dark Knight Rises   \n",
       "4     49529                               John Carter   \n",
       "\n",
       "                                            overview  \\\n",
       "0  In the 22nd century, a paraplegic Marine is di...   \n",
       "1  Captain Barbossa, long believed to be dead, ha...   \n",
       "2  A cryptic message from Bond’s past sends him o...   \n",
       "3  Following the death of District Attorney Harve...   \n",
       "4  John Carter is a war-weary, former military ca...   \n",
       "\n",
       "                                              genres  \\\n",
       "0  [{\"id\": 28, \"name\": \"Action\"}, {\"id\": 12, \"nam...   \n",
       "1  [{\"id\": 12, \"name\": \"Adventure\"}, {\"id\": 14, \"...   \n",
       "2  [{\"id\": 28, \"name\": \"Action\"}, {\"id\": 12, \"nam...   \n",
       "3  [{\"id\": 28, \"name\": \"Action\"}, {\"id\": 80, \"nam...   \n",
       "4  [{\"id\": 28, \"name\": \"Action\"}, {\"id\": 12, \"nam...   \n",
       "\n",
       "                                            keywords  \\\n",
       "0  [{\"id\": 1463, \"name\": \"culture clash\"}, {\"id\":...   \n",
       "1  [{\"id\": 270, \"name\": \"ocean\"}, {\"id\": 726, \"na...   \n",
       "2  [{\"id\": 470, \"name\": \"spy\"}, {\"id\": 818, \"name...   \n",
       "3  [{\"id\": 849, \"name\": \"dc comics\"}, {\"id\": 853,...   \n",
       "4  [{\"id\": 818, \"name\": \"based on novel\"}, {\"id\":...   \n",
       "\n",
       "                                                cast  \\\n",
       "0  [{\"cast_id\": 242, \"character\": \"Jake Sully\", \"...   \n",
       "1  [{\"cast_id\": 4, \"character\": \"Captain Jack Spa...   \n",
       "2  [{\"cast_id\": 1, \"character\": \"James Bond\", \"cr...   \n",
       "3  [{\"cast_id\": 2, \"character\": \"Bruce Wayne / Ba...   \n",
       "4  [{\"cast_id\": 5, \"character\": \"John Carter\", \"c...   \n",
       "\n",
       "                                                crew  \n",
       "0  [{\"credit_id\": \"52fe48009251416c750aca23\", \"de...  \n",
       "1  [{\"credit_id\": \"52fe4232c3a36847f800b579\", \"de...  \n",
       "2  [{\"credit_id\": \"54805967c3a36829b5002c41\", \"de...  \n",
       "3  [{\"credit_id\": \"52fe4781c3a36847f81398c3\", \"de...  \n",
       "4  [{\"credit_id\": \"52fe479ac3a36847f813eaa3\", \"de...  "
      ]
     },
     "execution_count": 82,
     "metadata": {},
     "output_type": "execute_result"
    }
   ],
   "source": [
    "movies.head()"
   ]
  },
  {
   "cell_type": "code",
   "execution_count": null,
   "id": "be537446",
   "metadata": {},
   "outputs": [],
   "source": [
    "movies['keywords']=movies['keywords'].apply(convert)"
   ]
  },
  {
   "cell_type": "code",
   "execution_count": null,
   "id": "4603925e",
   "metadata": {},
   "outputs": [],
   "source": [
    "movies.head()"
   ]
  },
  {
   "cell_type": "code",
   "execution_count": null,
   "id": "7254f3ae",
   "metadata": {},
   "outputs": [],
   "source": [
    "def convert3(obj):\n",
    "    L = []\n",
    "    counter =0\n",
    "    for i in ast.literal_eval(obj):\n",
    "        if counter != 3:\n",
    "            L.append(i['name'])\n",
    "            counter+=1\n",
    "        else:\n",
    "            break\n",
    "    return L"
   ]
  },
  {
   "cell_type": "code",
   "execution_count": null,
   "id": "07561481",
   "metadata": {},
   "outputs": [],
   "source": [
    "movies['cast']=movies['cast'].apply(convert3)"
   ]
  },
  {
   "cell_type": "code",
   "execution_count": 32,
   "id": "ce867dc9",
   "metadata": {},
   "outputs": [
    {
     "data": {
      "text/html": [
       "<div>\n",
       "<style scoped>\n",
       "    .dataframe tbody tr th:only-of-type {\n",
       "        vertical-align: middle;\n",
       "    }\n",
       "\n",
       "    .dataframe tbody tr th {\n",
       "        vertical-align: top;\n",
       "    }\n",
       "\n",
       "    .dataframe thead th {\n",
       "        text-align: right;\n",
       "    }\n",
       "</style>\n",
       "<table border=\"1\" class=\"dataframe\">\n",
       "  <thead>\n",
       "    <tr style=\"text-align: right;\">\n",
       "      <th></th>\n",
       "      <th>movie_id</th>\n",
       "      <th>title</th>\n",
       "      <th>overview</th>\n",
       "      <th>genres</th>\n",
       "      <th>keywords</th>\n",
       "      <th>cast</th>\n",
       "      <th>crew</th>\n",
       "    </tr>\n",
       "  </thead>\n",
       "  <tbody>\n",
       "    <tr>\n",
       "      <th>0</th>\n",
       "      <td>19995</td>\n",
       "      <td>Avatar</td>\n",
       "      <td>In the 22nd century, a paraplegic Marine is di...</td>\n",
       "      <td>[{\"id\": 28, \"name\": \"Action\"}, {\"id\": 12, \"nam...</td>\n",
       "      <td>[{\"id\": 1463, \"name\": \"culture clash\"}, {\"id\":...</td>\n",
       "      <td>[{\"cast_id\": 242, \"character\": \"Jake Sully\", \"...</td>\n",
       "      <td>[{\"credit_id\": \"52fe48009251416c750aca23\", \"de...</td>\n",
       "    </tr>\n",
       "    <tr>\n",
       "      <th>1</th>\n",
       "      <td>285</td>\n",
       "      <td>Pirates of the Caribbean: At World's End</td>\n",
       "      <td>Captain Barbossa, long believed to be dead, ha...</td>\n",
       "      <td>[{\"id\": 12, \"name\": \"Adventure\"}, {\"id\": 14, \"...</td>\n",
       "      <td>[{\"id\": 270, \"name\": \"ocean\"}, {\"id\": 726, \"na...</td>\n",
       "      <td>[{\"cast_id\": 4, \"character\": \"Captain Jack Spa...</td>\n",
       "      <td>[{\"credit_id\": \"52fe4232c3a36847f800b579\", \"de...</td>\n",
       "    </tr>\n",
       "    <tr>\n",
       "      <th>2</th>\n",
       "      <td>206647</td>\n",
       "      <td>Spectre</td>\n",
       "      <td>A cryptic message from Bond’s past sends him o...</td>\n",
       "      <td>[{\"id\": 28, \"name\": \"Action\"}, {\"id\": 12, \"nam...</td>\n",
       "      <td>[{\"id\": 470, \"name\": \"spy\"}, {\"id\": 818, \"name...</td>\n",
       "      <td>[{\"cast_id\": 1, \"character\": \"James Bond\", \"cr...</td>\n",
       "      <td>[{\"credit_id\": \"54805967c3a36829b5002c41\", \"de...</td>\n",
       "    </tr>\n",
       "    <tr>\n",
       "      <th>3</th>\n",
       "      <td>49026</td>\n",
       "      <td>The Dark Knight Rises</td>\n",
       "      <td>Following the death of District Attorney Harve...</td>\n",
       "      <td>[{\"id\": 28, \"name\": \"Action\"}, {\"id\": 80, \"nam...</td>\n",
       "      <td>[{\"id\": 849, \"name\": \"dc comics\"}, {\"id\": 853,...</td>\n",
       "      <td>[{\"cast_id\": 2, \"character\": \"Bruce Wayne / Ba...</td>\n",
       "      <td>[{\"credit_id\": \"52fe4781c3a36847f81398c3\", \"de...</td>\n",
       "    </tr>\n",
       "    <tr>\n",
       "      <th>4</th>\n",
       "      <td>49529</td>\n",
       "      <td>John Carter</td>\n",
       "      <td>John Carter is a war-weary, former military ca...</td>\n",
       "      <td>[{\"id\": 28, \"name\": \"Action\"}, {\"id\": 12, \"nam...</td>\n",
       "      <td>[{\"id\": 818, \"name\": \"based on novel\"}, {\"id\":...</td>\n",
       "      <td>[{\"cast_id\": 5, \"character\": \"John Carter\", \"c...</td>\n",
       "      <td>[{\"credit_id\": \"52fe479ac3a36847f813eaa3\", \"de...</td>\n",
       "    </tr>\n",
       "  </tbody>\n",
       "</table>\n",
       "</div>"
      ],
      "text/plain": [
       "   movie_id                                     title  \\\n",
       "0     19995                                    Avatar   \n",
       "1       285  Pirates of the Caribbean: At World's End   \n",
       "2    206647                                   Spectre   \n",
       "3     49026                     The Dark Knight Rises   \n",
       "4     49529                               John Carter   \n",
       "\n",
       "                                            overview  \\\n",
       "0  In the 22nd century, a paraplegic Marine is di...   \n",
       "1  Captain Barbossa, long believed to be dead, ha...   \n",
       "2  A cryptic message from Bond’s past sends him o...   \n",
       "3  Following the death of District Attorney Harve...   \n",
       "4  John Carter is a war-weary, former military ca...   \n",
       "\n",
       "                                              genres  \\\n",
       "0  [{\"id\": 28, \"name\": \"Action\"}, {\"id\": 12, \"nam...   \n",
       "1  [{\"id\": 12, \"name\": \"Adventure\"}, {\"id\": 14, \"...   \n",
       "2  [{\"id\": 28, \"name\": \"Action\"}, {\"id\": 12, \"nam...   \n",
       "3  [{\"id\": 28, \"name\": \"Action\"}, {\"id\": 80, \"nam...   \n",
       "4  [{\"id\": 28, \"name\": \"Action\"}, {\"id\": 12, \"nam...   \n",
       "\n",
       "                                            keywords  \\\n",
       "0  [{\"id\": 1463, \"name\": \"culture clash\"}, {\"id\":...   \n",
       "1  [{\"id\": 270, \"name\": \"ocean\"}, {\"id\": 726, \"na...   \n",
       "2  [{\"id\": 470, \"name\": \"spy\"}, {\"id\": 818, \"name...   \n",
       "3  [{\"id\": 849, \"name\": \"dc comics\"}, {\"id\": 853,...   \n",
       "4  [{\"id\": 818, \"name\": \"based on novel\"}, {\"id\":...   \n",
       "\n",
       "                                                cast  \\\n",
       "0  [{\"cast_id\": 242, \"character\": \"Jake Sully\", \"...   \n",
       "1  [{\"cast_id\": 4, \"character\": \"Captain Jack Spa...   \n",
       "2  [{\"cast_id\": 1, \"character\": \"James Bond\", \"cr...   \n",
       "3  [{\"cast_id\": 2, \"character\": \"Bruce Wayne / Ba...   \n",
       "4  [{\"cast_id\": 5, \"character\": \"John Carter\", \"c...   \n",
       "\n",
       "                                                crew  \n",
       "0  [{\"credit_id\": \"52fe48009251416c750aca23\", \"de...  \n",
       "1  [{\"credit_id\": \"52fe4232c3a36847f800b579\", \"de...  \n",
       "2  [{\"credit_id\": \"54805967c3a36829b5002c41\", \"de...  \n",
       "3  [{\"credit_id\": \"52fe4781c3a36847f81398c3\", \"de...  \n",
       "4  [{\"credit_id\": \"52fe479ac3a36847f813eaa3\", \"de...  "
      ]
     },
     "execution_count": 32,
     "metadata": {},
     "output_type": "execute_result"
    }
   ],
   "source": [
    "movies.head()"
   ]
  },
  {
   "cell_type": "code",
   "execution_count": 62,
   "id": "677107f9",
   "metadata": {},
   "outputs": [],
   "source": [
    "def fetch_director(obj):\n",
    "    L = []\n",
    "    for i in ast.literal_eval(obj):\n",
    "        if i['job'] == 'Director':\n",
    "            L.append(i['name'])\n",
    "            break\n",
    "    return L"
   ]
  },
  {
   "cell_type": "code",
   "execution_count": 64,
   "id": "1b8ce9b9",
   "metadata": {},
   "outputs": [
    {
     "ename": "NameError",
     "evalue": "name 'ast' is not defined",
     "output_type": "error",
     "traceback": [
      "\u001b[1;31m---------------------------------------------------------------------------\u001b[0m",
      "\u001b[1;31mNameError\u001b[0m                                 Traceback (most recent call last)",
      "Cell \u001b[1;32mIn[64], line 1\u001b[0m\n\u001b[1;32m----> 1\u001b[0m movies[\u001b[38;5;124m'\u001b[39m\u001b[38;5;124mcrew\u001b[39m\u001b[38;5;124m'\u001b[39m]\u001b[38;5;241m=\u001b[39m\u001b[43mmovies\u001b[49m\u001b[43m[\u001b[49m\u001b[38;5;124;43m'\u001b[39;49m\u001b[38;5;124;43mcrew\u001b[39;49m\u001b[38;5;124;43m'\u001b[39;49m\u001b[43m]\u001b[49m\u001b[38;5;241;43m.\u001b[39;49m\u001b[43mapply\u001b[49m\u001b[43m(\u001b[49m\u001b[43mfetch_director\u001b[49m\u001b[43m)\u001b[49m\n",
      "File \u001b[1;32m~\\anaconda3\\lib\\site-packages\\pandas\\core\\series.py:4771\u001b[0m, in \u001b[0;36mSeries.apply\u001b[1;34m(self, func, convert_dtype, args, **kwargs)\u001b[0m\n\u001b[0;32m   4661\u001b[0m \u001b[38;5;28;01mdef\u001b[39;00m \u001b[38;5;21mapply\u001b[39m(\n\u001b[0;32m   4662\u001b[0m     \u001b[38;5;28mself\u001b[39m,\n\u001b[0;32m   4663\u001b[0m     func: AggFuncType,\n\u001b[1;32m   (...)\u001b[0m\n\u001b[0;32m   4666\u001b[0m     \u001b[38;5;241m*\u001b[39m\u001b[38;5;241m*\u001b[39mkwargs,\n\u001b[0;32m   4667\u001b[0m ) \u001b[38;5;241m-\u001b[39m\u001b[38;5;241m>\u001b[39m DataFrame \u001b[38;5;241m|\u001b[39m Series:\n\u001b[0;32m   4668\u001b[0m     \u001b[38;5;124;03m\"\"\"\u001b[39;00m\n\u001b[0;32m   4669\u001b[0m \u001b[38;5;124;03m    Invoke function on values of Series.\u001b[39;00m\n\u001b[0;32m   4670\u001b[0m \n\u001b[1;32m   (...)\u001b[0m\n\u001b[0;32m   4769\u001b[0m \u001b[38;5;124;03m    dtype: float64\u001b[39;00m\n\u001b[0;32m   4770\u001b[0m \u001b[38;5;124;03m    \"\"\"\u001b[39;00m\n\u001b[1;32m-> 4771\u001b[0m     \u001b[38;5;28;01mreturn\u001b[39;00m \u001b[43mSeriesApply\u001b[49m\u001b[43m(\u001b[49m\u001b[38;5;28;43mself\u001b[39;49m\u001b[43m,\u001b[49m\u001b[43m \u001b[49m\u001b[43mfunc\u001b[49m\u001b[43m,\u001b[49m\u001b[43m \u001b[49m\u001b[43mconvert_dtype\u001b[49m\u001b[43m,\u001b[49m\u001b[43m \u001b[49m\u001b[43margs\u001b[49m\u001b[43m,\u001b[49m\u001b[43m \u001b[49m\u001b[43mkwargs\u001b[49m\u001b[43m)\u001b[49m\u001b[38;5;241;43m.\u001b[39;49m\u001b[43mapply\u001b[49m\u001b[43m(\u001b[49m\u001b[43m)\u001b[49m\n",
      "File \u001b[1;32m~\\anaconda3\\lib\\site-packages\\pandas\\core\\apply.py:1123\u001b[0m, in \u001b[0;36mSeriesApply.apply\u001b[1;34m(self)\u001b[0m\n\u001b[0;32m   1120\u001b[0m     \u001b[38;5;28;01mreturn\u001b[39;00m \u001b[38;5;28mself\u001b[39m\u001b[38;5;241m.\u001b[39mapply_str()\n\u001b[0;32m   1122\u001b[0m \u001b[38;5;66;03m# self.f is Callable\u001b[39;00m\n\u001b[1;32m-> 1123\u001b[0m \u001b[38;5;28;01mreturn\u001b[39;00m \u001b[38;5;28;43mself\u001b[39;49m\u001b[38;5;241;43m.\u001b[39;49m\u001b[43mapply_standard\u001b[49m\u001b[43m(\u001b[49m\u001b[43m)\u001b[49m\n",
      "File \u001b[1;32m~\\anaconda3\\lib\\site-packages\\pandas\\core\\apply.py:1174\u001b[0m, in \u001b[0;36mSeriesApply.apply_standard\u001b[1;34m(self)\u001b[0m\n\u001b[0;32m   1172\u001b[0m     \u001b[38;5;28;01melse\u001b[39;00m:\n\u001b[0;32m   1173\u001b[0m         values \u001b[38;5;241m=\u001b[39m obj\u001b[38;5;241m.\u001b[39mastype(\u001b[38;5;28mobject\u001b[39m)\u001b[38;5;241m.\u001b[39m_values\n\u001b[1;32m-> 1174\u001b[0m         mapped \u001b[38;5;241m=\u001b[39m \u001b[43mlib\u001b[49m\u001b[38;5;241;43m.\u001b[39;49m\u001b[43mmap_infer\u001b[49m\u001b[43m(\u001b[49m\n\u001b[0;32m   1175\u001b[0m \u001b[43m            \u001b[49m\u001b[43mvalues\u001b[49m\u001b[43m,\u001b[49m\n\u001b[0;32m   1176\u001b[0m \u001b[43m            \u001b[49m\u001b[43mf\u001b[49m\u001b[43m,\u001b[49m\n\u001b[0;32m   1177\u001b[0m \u001b[43m            \u001b[49m\u001b[43mconvert\u001b[49m\u001b[38;5;241;43m=\u001b[39;49m\u001b[38;5;28;43mself\u001b[39;49m\u001b[38;5;241;43m.\u001b[39;49m\u001b[43mconvert_dtype\u001b[49m\u001b[43m,\u001b[49m\n\u001b[0;32m   1178\u001b[0m \u001b[43m        \u001b[49m\u001b[43m)\u001b[49m\n\u001b[0;32m   1180\u001b[0m \u001b[38;5;28;01mif\u001b[39;00m \u001b[38;5;28mlen\u001b[39m(mapped) \u001b[38;5;129;01mand\u001b[39;00m \u001b[38;5;28misinstance\u001b[39m(mapped[\u001b[38;5;241m0\u001b[39m], ABCSeries):\n\u001b[0;32m   1181\u001b[0m     \u001b[38;5;66;03m# GH#43986 Need to do list(mapped) in order to get treated as nested\u001b[39;00m\n\u001b[0;32m   1182\u001b[0m     \u001b[38;5;66;03m#  See also GH#25959 regarding EA support\u001b[39;00m\n\u001b[0;32m   1183\u001b[0m     \u001b[38;5;28;01mreturn\u001b[39;00m obj\u001b[38;5;241m.\u001b[39m_constructor_expanddim(\u001b[38;5;28mlist\u001b[39m(mapped), index\u001b[38;5;241m=\u001b[39mobj\u001b[38;5;241m.\u001b[39mindex)\n",
      "File \u001b[1;32m~\\anaconda3\\lib\\site-packages\\pandas\\_libs\\lib.pyx:2924\u001b[0m, in \u001b[0;36mpandas._libs.lib.map_infer\u001b[1;34m()\u001b[0m\n",
      "Cell \u001b[1;32mIn[62], line 3\u001b[0m, in \u001b[0;36mfetch_director\u001b[1;34m(obj)\u001b[0m\n\u001b[0;32m      1\u001b[0m \u001b[38;5;28;01mdef\u001b[39;00m \u001b[38;5;21mfetch_director\u001b[39m(obj):\n\u001b[0;32m      2\u001b[0m     L \u001b[38;5;241m=\u001b[39m []\n\u001b[1;32m----> 3\u001b[0m     \u001b[38;5;28;01mfor\u001b[39;00m i \u001b[38;5;129;01min\u001b[39;00m \u001b[43mast\u001b[49m\u001b[38;5;241m.\u001b[39mliteral_eval(obj):\n\u001b[0;32m      4\u001b[0m         \u001b[38;5;28;01mif\u001b[39;00m i[\u001b[38;5;124m'\u001b[39m\u001b[38;5;124mjob\u001b[39m\u001b[38;5;124m'\u001b[39m] \u001b[38;5;241m==\u001b[39m \u001b[38;5;124m'\u001b[39m\u001b[38;5;124mDirector\u001b[39m\u001b[38;5;124m'\u001b[39m:\n\u001b[0;32m      5\u001b[0m             L\u001b[38;5;241m.\u001b[39mappend(i[\u001b[38;5;124m'\u001b[39m\u001b[38;5;124mname\u001b[39m\u001b[38;5;124m'\u001b[39m])\n",
      "\u001b[1;31mNameError\u001b[0m: name 'ast' is not defined"
     ]
    }
   ],
   "source": [
    "movies['crew']=movies['crew'].apply(fetch_director)"
   ]
  },
  {
   "cell_type": "code",
   "execution_count": 35,
   "id": "46b9383c",
   "metadata": {},
   "outputs": [
    {
     "data": {
      "text/html": [
       "<div>\n",
       "<style scoped>\n",
       "    .dataframe tbody tr th:only-of-type {\n",
       "        vertical-align: middle;\n",
       "    }\n",
       "\n",
       "    .dataframe tbody tr th {\n",
       "        vertical-align: top;\n",
       "    }\n",
       "\n",
       "    .dataframe thead th {\n",
       "        text-align: right;\n",
       "    }\n",
       "</style>\n",
       "<table border=\"1\" class=\"dataframe\">\n",
       "  <thead>\n",
       "    <tr style=\"text-align: right;\">\n",
       "      <th></th>\n",
       "      <th>movie_id</th>\n",
       "      <th>title</th>\n",
       "      <th>overview</th>\n",
       "      <th>genres</th>\n",
       "      <th>keywords</th>\n",
       "      <th>cast</th>\n",
       "      <th>crew</th>\n",
       "    </tr>\n",
       "  </thead>\n",
       "  <tbody>\n",
       "    <tr>\n",
       "      <th>0</th>\n",
       "      <td>19995</td>\n",
       "      <td>Avatar</td>\n",
       "      <td>In the 22nd century, a paraplegic Marine is di...</td>\n",
       "      <td>[{\"id\": 28, \"name\": \"Action\"}, {\"id\": 12, \"nam...</td>\n",
       "      <td>[{\"id\": 1463, \"name\": \"culture clash\"}, {\"id\":...</td>\n",
       "      <td>[{\"cast_id\": 242, \"character\": \"Jake Sully\", \"...</td>\n",
       "      <td>[{\"credit_id\": \"52fe48009251416c750aca23\", \"de...</td>\n",
       "    </tr>\n",
       "    <tr>\n",
       "      <th>1</th>\n",
       "      <td>285</td>\n",
       "      <td>Pirates of the Caribbean: At World's End</td>\n",
       "      <td>Captain Barbossa, long believed to be dead, ha...</td>\n",
       "      <td>[{\"id\": 12, \"name\": \"Adventure\"}, {\"id\": 14, \"...</td>\n",
       "      <td>[{\"id\": 270, \"name\": \"ocean\"}, {\"id\": 726, \"na...</td>\n",
       "      <td>[{\"cast_id\": 4, \"character\": \"Captain Jack Spa...</td>\n",
       "      <td>[{\"credit_id\": \"52fe4232c3a36847f800b579\", \"de...</td>\n",
       "    </tr>\n",
       "    <tr>\n",
       "      <th>2</th>\n",
       "      <td>206647</td>\n",
       "      <td>Spectre</td>\n",
       "      <td>A cryptic message from Bond’s past sends him o...</td>\n",
       "      <td>[{\"id\": 28, \"name\": \"Action\"}, {\"id\": 12, \"nam...</td>\n",
       "      <td>[{\"id\": 470, \"name\": \"spy\"}, {\"id\": 818, \"name...</td>\n",
       "      <td>[{\"cast_id\": 1, \"character\": \"James Bond\", \"cr...</td>\n",
       "      <td>[{\"credit_id\": \"54805967c3a36829b5002c41\", \"de...</td>\n",
       "    </tr>\n",
       "    <tr>\n",
       "      <th>3</th>\n",
       "      <td>49026</td>\n",
       "      <td>The Dark Knight Rises</td>\n",
       "      <td>Following the death of District Attorney Harve...</td>\n",
       "      <td>[{\"id\": 28, \"name\": \"Action\"}, {\"id\": 80, \"nam...</td>\n",
       "      <td>[{\"id\": 849, \"name\": \"dc comics\"}, {\"id\": 853,...</td>\n",
       "      <td>[{\"cast_id\": 2, \"character\": \"Bruce Wayne / Ba...</td>\n",
       "      <td>[{\"credit_id\": \"52fe4781c3a36847f81398c3\", \"de...</td>\n",
       "    </tr>\n",
       "    <tr>\n",
       "      <th>4</th>\n",
       "      <td>49529</td>\n",
       "      <td>John Carter</td>\n",
       "      <td>John Carter is a war-weary, former military ca...</td>\n",
       "      <td>[{\"id\": 28, \"name\": \"Action\"}, {\"id\": 12, \"nam...</td>\n",
       "      <td>[{\"id\": 818, \"name\": \"based on novel\"}, {\"id\":...</td>\n",
       "      <td>[{\"cast_id\": 5, \"character\": \"John Carter\", \"c...</td>\n",
       "      <td>[{\"credit_id\": \"52fe479ac3a36847f813eaa3\", \"de...</td>\n",
       "    </tr>\n",
       "  </tbody>\n",
       "</table>\n",
       "</div>"
      ],
      "text/plain": [
       "   movie_id                                     title  \\\n",
       "0     19995                                    Avatar   \n",
       "1       285  Pirates of the Caribbean: At World's End   \n",
       "2    206647                                   Spectre   \n",
       "3     49026                     The Dark Knight Rises   \n",
       "4     49529                               John Carter   \n",
       "\n",
       "                                            overview  \\\n",
       "0  In the 22nd century, a paraplegic Marine is di...   \n",
       "1  Captain Barbossa, long believed to be dead, ha...   \n",
       "2  A cryptic message from Bond’s past sends him o...   \n",
       "3  Following the death of District Attorney Harve...   \n",
       "4  John Carter is a war-weary, former military ca...   \n",
       "\n",
       "                                              genres  \\\n",
       "0  [{\"id\": 28, \"name\": \"Action\"}, {\"id\": 12, \"nam...   \n",
       "1  [{\"id\": 12, \"name\": \"Adventure\"}, {\"id\": 14, \"...   \n",
       "2  [{\"id\": 28, \"name\": \"Action\"}, {\"id\": 12, \"nam...   \n",
       "3  [{\"id\": 28, \"name\": \"Action\"}, {\"id\": 80, \"nam...   \n",
       "4  [{\"id\": 28, \"name\": \"Action\"}, {\"id\": 12, \"nam...   \n",
       "\n",
       "                                            keywords  \\\n",
       "0  [{\"id\": 1463, \"name\": \"culture clash\"}, {\"id\":...   \n",
       "1  [{\"id\": 270, \"name\": \"ocean\"}, {\"id\": 726, \"na...   \n",
       "2  [{\"id\": 470, \"name\": \"spy\"}, {\"id\": 818, \"name...   \n",
       "3  [{\"id\": 849, \"name\": \"dc comics\"}, {\"id\": 853,...   \n",
       "4  [{\"id\": 818, \"name\": \"based on novel\"}, {\"id\":...   \n",
       "\n",
       "                                                cast  \\\n",
       "0  [{\"cast_id\": 242, \"character\": \"Jake Sully\", \"...   \n",
       "1  [{\"cast_id\": 4, \"character\": \"Captain Jack Spa...   \n",
       "2  [{\"cast_id\": 1, \"character\": \"James Bond\", \"cr...   \n",
       "3  [{\"cast_id\": 2, \"character\": \"Bruce Wayne / Ba...   \n",
       "4  [{\"cast_id\": 5, \"character\": \"John Carter\", \"c...   \n",
       "\n",
       "                                                crew  \n",
       "0  [{\"credit_id\": \"52fe48009251416c750aca23\", \"de...  \n",
       "1  [{\"credit_id\": \"52fe4232c3a36847f800b579\", \"de...  \n",
       "2  [{\"credit_id\": \"54805967c3a36829b5002c41\", \"de...  \n",
       "3  [{\"credit_id\": \"52fe4781c3a36847f81398c3\", \"de...  \n",
       "4  [{\"credit_id\": \"52fe479ac3a36847f813eaa3\", \"de...  "
      ]
     },
     "execution_count": 35,
     "metadata": {},
     "output_type": "execute_result"
    }
   ],
   "source": [
    "movies.head()"
   ]
  },
  {
   "cell_type": "code",
   "execution_count": 36,
   "id": "3b062d83",
   "metadata": {},
   "outputs": [
    {
     "data": {
      "text/plain": [
       "'In the 22nd century, a paraplegic Marine is dispatched to the moon Pandora on a unique mission, but becomes torn between following orders and protecting an alien civilization.'"
      ]
     },
     "execution_count": 36,
     "metadata": {},
     "output_type": "execute_result"
    }
   ],
   "source": [
    "movies['overview'][0]"
   ]
  },
  {
   "cell_type": "code",
   "execution_count": 37,
   "id": "ab486c97",
   "metadata": {},
   "outputs": [],
   "source": [
    "movies['overview']=movies['overview'].apply(lambda x:x.split())"
   ]
  },
  {
   "cell_type": "code",
   "execution_count": 38,
   "id": "2afcfbec",
   "metadata": {},
   "outputs": [
    {
     "data": {
      "text/html": [
       "<div>\n",
       "<style scoped>\n",
       "    .dataframe tbody tr th:only-of-type {\n",
       "        vertical-align: middle;\n",
       "    }\n",
       "\n",
       "    .dataframe tbody tr th {\n",
       "        vertical-align: top;\n",
       "    }\n",
       "\n",
       "    .dataframe thead th {\n",
       "        text-align: right;\n",
       "    }\n",
       "</style>\n",
       "<table border=\"1\" class=\"dataframe\">\n",
       "  <thead>\n",
       "    <tr style=\"text-align: right;\">\n",
       "      <th></th>\n",
       "      <th>movie_id</th>\n",
       "      <th>title</th>\n",
       "      <th>overview</th>\n",
       "      <th>genres</th>\n",
       "      <th>keywords</th>\n",
       "      <th>cast</th>\n",
       "      <th>crew</th>\n",
       "    </tr>\n",
       "  </thead>\n",
       "  <tbody>\n",
       "    <tr>\n",
       "      <th>0</th>\n",
       "      <td>19995</td>\n",
       "      <td>Avatar</td>\n",
       "      <td>[In, the, 22nd, century,, a, paraplegic, Marin...</td>\n",
       "      <td>[{\"id\": 28, \"name\": \"Action\"}, {\"id\": 12, \"nam...</td>\n",
       "      <td>[{\"id\": 1463, \"name\": \"culture clash\"}, {\"id\":...</td>\n",
       "      <td>[{\"cast_id\": 242, \"character\": \"Jake Sully\", \"...</td>\n",
       "      <td>[{\"credit_id\": \"52fe48009251416c750aca23\", \"de...</td>\n",
       "    </tr>\n",
       "    <tr>\n",
       "      <th>1</th>\n",
       "      <td>285</td>\n",
       "      <td>Pirates of the Caribbean: At World's End</td>\n",
       "      <td>[Captain, Barbossa,, long, believed, to, be, d...</td>\n",
       "      <td>[{\"id\": 12, \"name\": \"Adventure\"}, {\"id\": 14, \"...</td>\n",
       "      <td>[{\"id\": 270, \"name\": \"ocean\"}, {\"id\": 726, \"na...</td>\n",
       "      <td>[{\"cast_id\": 4, \"character\": \"Captain Jack Spa...</td>\n",
       "      <td>[{\"credit_id\": \"52fe4232c3a36847f800b579\", \"de...</td>\n",
       "    </tr>\n",
       "    <tr>\n",
       "      <th>2</th>\n",
       "      <td>206647</td>\n",
       "      <td>Spectre</td>\n",
       "      <td>[A, cryptic, message, from, Bond’s, past, send...</td>\n",
       "      <td>[{\"id\": 28, \"name\": \"Action\"}, {\"id\": 12, \"nam...</td>\n",
       "      <td>[{\"id\": 470, \"name\": \"spy\"}, {\"id\": 818, \"name...</td>\n",
       "      <td>[{\"cast_id\": 1, \"character\": \"James Bond\", \"cr...</td>\n",
       "      <td>[{\"credit_id\": \"54805967c3a36829b5002c41\", \"de...</td>\n",
       "    </tr>\n",
       "    <tr>\n",
       "      <th>3</th>\n",
       "      <td>49026</td>\n",
       "      <td>The Dark Knight Rises</td>\n",
       "      <td>[Following, the, death, of, District, Attorney...</td>\n",
       "      <td>[{\"id\": 28, \"name\": \"Action\"}, {\"id\": 80, \"nam...</td>\n",
       "      <td>[{\"id\": 849, \"name\": \"dc comics\"}, {\"id\": 853,...</td>\n",
       "      <td>[{\"cast_id\": 2, \"character\": \"Bruce Wayne / Ba...</td>\n",
       "      <td>[{\"credit_id\": \"52fe4781c3a36847f81398c3\", \"de...</td>\n",
       "    </tr>\n",
       "    <tr>\n",
       "      <th>4</th>\n",
       "      <td>49529</td>\n",
       "      <td>John Carter</td>\n",
       "      <td>[John, Carter, is, a, war-weary,, former, mili...</td>\n",
       "      <td>[{\"id\": 28, \"name\": \"Action\"}, {\"id\": 12, \"nam...</td>\n",
       "      <td>[{\"id\": 818, \"name\": \"based on novel\"}, {\"id\":...</td>\n",
       "      <td>[{\"cast_id\": 5, \"character\": \"John Carter\", \"c...</td>\n",
       "      <td>[{\"credit_id\": \"52fe479ac3a36847f813eaa3\", \"de...</td>\n",
       "    </tr>\n",
       "  </tbody>\n",
       "</table>\n",
       "</div>"
      ],
      "text/plain": [
       "   movie_id                                     title  \\\n",
       "0     19995                                    Avatar   \n",
       "1       285  Pirates of the Caribbean: At World's End   \n",
       "2    206647                                   Spectre   \n",
       "3     49026                     The Dark Knight Rises   \n",
       "4     49529                               John Carter   \n",
       "\n",
       "                                            overview  \\\n",
       "0  [In, the, 22nd, century,, a, paraplegic, Marin...   \n",
       "1  [Captain, Barbossa,, long, believed, to, be, d...   \n",
       "2  [A, cryptic, message, from, Bond’s, past, send...   \n",
       "3  [Following, the, death, of, District, Attorney...   \n",
       "4  [John, Carter, is, a, war-weary,, former, mili...   \n",
       "\n",
       "                                              genres  \\\n",
       "0  [{\"id\": 28, \"name\": \"Action\"}, {\"id\": 12, \"nam...   \n",
       "1  [{\"id\": 12, \"name\": \"Adventure\"}, {\"id\": 14, \"...   \n",
       "2  [{\"id\": 28, \"name\": \"Action\"}, {\"id\": 12, \"nam...   \n",
       "3  [{\"id\": 28, \"name\": \"Action\"}, {\"id\": 80, \"nam...   \n",
       "4  [{\"id\": 28, \"name\": \"Action\"}, {\"id\": 12, \"nam...   \n",
       "\n",
       "                                            keywords  \\\n",
       "0  [{\"id\": 1463, \"name\": \"culture clash\"}, {\"id\":...   \n",
       "1  [{\"id\": 270, \"name\": \"ocean\"}, {\"id\": 726, \"na...   \n",
       "2  [{\"id\": 470, \"name\": \"spy\"}, {\"id\": 818, \"name...   \n",
       "3  [{\"id\": 849, \"name\": \"dc comics\"}, {\"id\": 853,...   \n",
       "4  [{\"id\": 818, \"name\": \"based on novel\"}, {\"id\":...   \n",
       "\n",
       "                                                cast  \\\n",
       "0  [{\"cast_id\": 242, \"character\": \"Jake Sully\", \"...   \n",
       "1  [{\"cast_id\": 4, \"character\": \"Captain Jack Spa...   \n",
       "2  [{\"cast_id\": 1, \"character\": \"James Bond\", \"cr...   \n",
       "3  [{\"cast_id\": 2, \"character\": \"Bruce Wayne / Ba...   \n",
       "4  [{\"cast_id\": 5, \"character\": \"John Carter\", \"c...   \n",
       "\n",
       "                                                crew  \n",
       "0  [{\"credit_id\": \"52fe48009251416c750aca23\", \"de...  \n",
       "1  [{\"credit_id\": \"52fe4232c3a36847f800b579\", \"de...  \n",
       "2  [{\"credit_id\": \"54805967c3a36829b5002c41\", \"de...  \n",
       "3  [{\"credit_id\": \"52fe4781c3a36847f81398c3\", \"de...  \n",
       "4  [{\"credit_id\": \"52fe479ac3a36847f813eaa3\", \"de...  "
      ]
     },
     "execution_count": 38,
     "metadata": {},
     "output_type": "execute_result"
    }
   ],
   "source": [
    "movies.head()"
   ]
  },
  {
   "cell_type": "code",
   "execution_count": 39,
   "id": "8d592319",
   "metadata": {},
   "outputs": [],
   "source": [
    "movies['genres']=movies['genres'].apply(lambda x:[i.replace(\" \",\" \") for i in x])\n",
    "movies['keywords']=movies['keywords'].apply(lambda x:[i.replace(\" \",\" \") for i in x])\n",
    "movies['cast']=movies['cast'].apply(lambda x:[i.replace(\" \",\" \") for i in x])\n",
    "movies['crew']=movies['crew'].apply(lambda x:[i.replace(\" \",\" \") for i in x])"
   ]
  },
  {
   "cell_type": "code",
   "execution_count": 40,
   "id": "13c6122c",
   "metadata": {},
   "outputs": [
    {
     "data": {
      "text/html": [
       "<div>\n",
       "<style scoped>\n",
       "    .dataframe tbody tr th:only-of-type {\n",
       "        vertical-align: middle;\n",
       "    }\n",
       "\n",
       "    .dataframe tbody tr th {\n",
       "        vertical-align: top;\n",
       "    }\n",
       "\n",
       "    .dataframe thead th {\n",
       "        text-align: right;\n",
       "    }\n",
       "</style>\n",
       "<table border=\"1\" class=\"dataframe\">\n",
       "  <thead>\n",
       "    <tr style=\"text-align: right;\">\n",
       "      <th></th>\n",
       "      <th>movie_id</th>\n",
       "      <th>title</th>\n",
       "      <th>overview</th>\n",
       "      <th>genres</th>\n",
       "      <th>keywords</th>\n",
       "      <th>cast</th>\n",
       "      <th>crew</th>\n",
       "    </tr>\n",
       "  </thead>\n",
       "  <tbody>\n",
       "    <tr>\n",
       "      <th>0</th>\n",
       "      <td>19995</td>\n",
       "      <td>Avatar</td>\n",
       "      <td>[In, the, 22nd, century,, a, paraplegic, Marin...</td>\n",
       "      <td>[[, {, \", i, d, \", :,  , 2, 8, ,,  , \", n, a, ...</td>\n",
       "      <td>[[, {, \", i, d, \", :,  , 1, 4, 6, 3, ,,  , \", ...</td>\n",
       "      <td>[[, {, \", c, a, s, t, _, i, d, \", :,  , 2, 4, ...</td>\n",
       "      <td>[[, {, \", c, r, e, d, i, t, _, i, d, \", :,  , ...</td>\n",
       "    </tr>\n",
       "    <tr>\n",
       "      <th>1</th>\n",
       "      <td>285</td>\n",
       "      <td>Pirates of the Caribbean: At World's End</td>\n",
       "      <td>[Captain, Barbossa,, long, believed, to, be, d...</td>\n",
       "      <td>[[, {, \", i, d, \", :,  , 1, 2, ,,  , \", n, a, ...</td>\n",
       "      <td>[[, {, \", i, d, \", :,  , 2, 7, 0, ,,  , \", n, ...</td>\n",
       "      <td>[[, {, \", c, a, s, t, _, i, d, \", :,  , 4, ,, ...</td>\n",
       "      <td>[[, {, \", c, r, e, d, i, t, _, i, d, \", :,  , ...</td>\n",
       "    </tr>\n",
       "    <tr>\n",
       "      <th>2</th>\n",
       "      <td>206647</td>\n",
       "      <td>Spectre</td>\n",
       "      <td>[A, cryptic, message, from, Bond’s, past, send...</td>\n",
       "      <td>[[, {, \", i, d, \", :,  , 2, 8, ,,  , \", n, a, ...</td>\n",
       "      <td>[[, {, \", i, d, \", :,  , 4, 7, 0, ,,  , \", n, ...</td>\n",
       "      <td>[[, {, \", c, a, s, t, _, i, d, \", :,  , 1, ,, ...</td>\n",
       "      <td>[[, {, \", c, r, e, d, i, t, _, i, d, \", :,  , ...</td>\n",
       "    </tr>\n",
       "    <tr>\n",
       "      <th>3</th>\n",
       "      <td>49026</td>\n",
       "      <td>The Dark Knight Rises</td>\n",
       "      <td>[Following, the, death, of, District, Attorney...</td>\n",
       "      <td>[[, {, \", i, d, \", :,  , 2, 8, ,,  , \", n, a, ...</td>\n",
       "      <td>[[, {, \", i, d, \", :,  , 8, 4, 9, ,,  , \", n, ...</td>\n",
       "      <td>[[, {, \", c, a, s, t, _, i, d, \", :,  , 2, ,, ...</td>\n",
       "      <td>[[, {, \", c, r, e, d, i, t, _, i, d, \", :,  , ...</td>\n",
       "    </tr>\n",
       "    <tr>\n",
       "      <th>4</th>\n",
       "      <td>49529</td>\n",
       "      <td>John Carter</td>\n",
       "      <td>[John, Carter, is, a, war-weary,, former, mili...</td>\n",
       "      <td>[[, {, \", i, d, \", :,  , 2, 8, ,,  , \", n, a, ...</td>\n",
       "      <td>[[, {, \", i, d, \", :,  , 8, 1, 8, ,,  , \", n, ...</td>\n",
       "      <td>[[, {, \", c, a, s, t, _, i, d, \", :,  , 5, ,, ...</td>\n",
       "      <td>[[, {, \", c, r, e, d, i, t, _, i, d, \", :,  , ...</td>\n",
       "    </tr>\n",
       "  </tbody>\n",
       "</table>\n",
       "</div>"
      ],
      "text/plain": [
       "   movie_id                                     title  \\\n",
       "0     19995                                    Avatar   \n",
       "1       285  Pirates of the Caribbean: At World's End   \n",
       "2    206647                                   Spectre   \n",
       "3     49026                     The Dark Knight Rises   \n",
       "4     49529                               John Carter   \n",
       "\n",
       "                                            overview  \\\n",
       "0  [In, the, 22nd, century,, a, paraplegic, Marin...   \n",
       "1  [Captain, Barbossa,, long, believed, to, be, d...   \n",
       "2  [A, cryptic, message, from, Bond’s, past, send...   \n",
       "3  [Following, the, death, of, District, Attorney...   \n",
       "4  [John, Carter, is, a, war-weary,, former, mili...   \n",
       "\n",
       "                                              genres  \\\n",
       "0  [[, {, \", i, d, \", :,  , 2, 8, ,,  , \", n, a, ...   \n",
       "1  [[, {, \", i, d, \", :,  , 1, 2, ,,  , \", n, a, ...   \n",
       "2  [[, {, \", i, d, \", :,  , 2, 8, ,,  , \", n, a, ...   \n",
       "3  [[, {, \", i, d, \", :,  , 2, 8, ,,  , \", n, a, ...   \n",
       "4  [[, {, \", i, d, \", :,  , 2, 8, ,,  , \", n, a, ...   \n",
       "\n",
       "                                            keywords  \\\n",
       "0  [[, {, \", i, d, \", :,  , 1, 4, 6, 3, ,,  , \", ...   \n",
       "1  [[, {, \", i, d, \", :,  , 2, 7, 0, ,,  , \", n, ...   \n",
       "2  [[, {, \", i, d, \", :,  , 4, 7, 0, ,,  , \", n, ...   \n",
       "3  [[, {, \", i, d, \", :,  , 8, 4, 9, ,,  , \", n, ...   \n",
       "4  [[, {, \", i, d, \", :,  , 8, 1, 8, ,,  , \", n, ...   \n",
       "\n",
       "                                                cast  \\\n",
       "0  [[, {, \", c, a, s, t, _, i, d, \", :,  , 2, 4, ...   \n",
       "1  [[, {, \", c, a, s, t, _, i, d, \", :,  , 4, ,, ...   \n",
       "2  [[, {, \", c, a, s, t, _, i, d, \", :,  , 1, ,, ...   \n",
       "3  [[, {, \", c, a, s, t, _, i, d, \", :,  , 2, ,, ...   \n",
       "4  [[, {, \", c, a, s, t, _, i, d, \", :,  , 5, ,, ...   \n",
       "\n",
       "                                                crew  \n",
       "0  [[, {, \", c, r, e, d, i, t, _, i, d, \", :,  , ...  \n",
       "1  [[, {, \", c, r, e, d, i, t, _, i, d, \", :,  , ...  \n",
       "2  [[, {, \", c, r, e, d, i, t, _, i, d, \", :,  , ...  \n",
       "3  [[, {, \", c, r, e, d, i, t, _, i, d, \", :,  , ...  \n",
       "4  [[, {, \", c, r, e, d, i, t, _, i, d, \", :,  , ...  "
      ]
     },
     "execution_count": 40,
     "metadata": {},
     "output_type": "execute_result"
    }
   ],
   "source": [
    "movies.head()"
   ]
  },
  {
   "cell_type": "code",
   "execution_count": 41,
   "id": "1a97f04f",
   "metadata": {},
   "outputs": [],
   "source": [
    "movies['tags'] = movies['overview'] + movies['genres'] + movies['keywords'] + movies['cast'] + movies['crew']"
   ]
  },
  {
   "cell_type": "code",
   "execution_count": 42,
   "id": "a20e65c2",
   "metadata": {},
   "outputs": [
    {
     "data": {
      "text/html": [
       "<div>\n",
       "<style scoped>\n",
       "    .dataframe tbody tr th:only-of-type {\n",
       "        vertical-align: middle;\n",
       "    }\n",
       "\n",
       "    .dataframe tbody tr th {\n",
       "        vertical-align: top;\n",
       "    }\n",
       "\n",
       "    .dataframe thead th {\n",
       "        text-align: right;\n",
       "    }\n",
       "</style>\n",
       "<table border=\"1\" class=\"dataframe\">\n",
       "  <thead>\n",
       "    <tr style=\"text-align: right;\">\n",
       "      <th></th>\n",
       "      <th>movie_id</th>\n",
       "      <th>title</th>\n",
       "      <th>overview</th>\n",
       "      <th>genres</th>\n",
       "      <th>keywords</th>\n",
       "      <th>cast</th>\n",
       "      <th>crew</th>\n",
       "      <th>tags</th>\n",
       "    </tr>\n",
       "  </thead>\n",
       "  <tbody>\n",
       "    <tr>\n",
       "      <th>0</th>\n",
       "      <td>19995</td>\n",
       "      <td>Avatar</td>\n",
       "      <td>[In, the, 22nd, century,, a, paraplegic, Marin...</td>\n",
       "      <td>[[, {, \", i, d, \", :,  , 2, 8, ,,  , \", n, a, ...</td>\n",
       "      <td>[[, {, \", i, d, \", :,  , 1, 4, 6, 3, ,,  , \", ...</td>\n",
       "      <td>[[, {, \", c, a, s, t, _, i, d, \", :,  , 2, 4, ...</td>\n",
       "      <td>[[, {, \", c, r, e, d, i, t, _, i, d, \", :,  , ...</td>\n",
       "      <td>[In, the, 22nd, century,, a, paraplegic, Marin...</td>\n",
       "    </tr>\n",
       "    <tr>\n",
       "      <th>1</th>\n",
       "      <td>285</td>\n",
       "      <td>Pirates of the Caribbean: At World's End</td>\n",
       "      <td>[Captain, Barbossa,, long, believed, to, be, d...</td>\n",
       "      <td>[[, {, \", i, d, \", :,  , 1, 2, ,,  , \", n, a, ...</td>\n",
       "      <td>[[, {, \", i, d, \", :,  , 2, 7, 0, ,,  , \", n, ...</td>\n",
       "      <td>[[, {, \", c, a, s, t, _, i, d, \", :,  , 4, ,, ...</td>\n",
       "      <td>[[, {, \", c, r, e, d, i, t, _, i, d, \", :,  , ...</td>\n",
       "      <td>[Captain, Barbossa,, long, believed, to, be, d...</td>\n",
       "    </tr>\n",
       "    <tr>\n",
       "      <th>2</th>\n",
       "      <td>206647</td>\n",
       "      <td>Spectre</td>\n",
       "      <td>[A, cryptic, message, from, Bond’s, past, send...</td>\n",
       "      <td>[[, {, \", i, d, \", :,  , 2, 8, ,,  , \", n, a, ...</td>\n",
       "      <td>[[, {, \", i, d, \", :,  , 4, 7, 0, ,,  , \", n, ...</td>\n",
       "      <td>[[, {, \", c, a, s, t, _, i, d, \", :,  , 1, ,, ...</td>\n",
       "      <td>[[, {, \", c, r, e, d, i, t, _, i, d, \", :,  , ...</td>\n",
       "      <td>[A, cryptic, message, from, Bond’s, past, send...</td>\n",
       "    </tr>\n",
       "    <tr>\n",
       "      <th>3</th>\n",
       "      <td>49026</td>\n",
       "      <td>The Dark Knight Rises</td>\n",
       "      <td>[Following, the, death, of, District, Attorney...</td>\n",
       "      <td>[[, {, \", i, d, \", :,  , 2, 8, ,,  , \", n, a, ...</td>\n",
       "      <td>[[, {, \", i, d, \", :,  , 8, 4, 9, ,,  , \", n, ...</td>\n",
       "      <td>[[, {, \", c, a, s, t, _, i, d, \", :,  , 2, ,, ...</td>\n",
       "      <td>[[, {, \", c, r, e, d, i, t, _, i, d, \", :,  , ...</td>\n",
       "      <td>[Following, the, death, of, District, Attorney...</td>\n",
       "    </tr>\n",
       "    <tr>\n",
       "      <th>4</th>\n",
       "      <td>49529</td>\n",
       "      <td>John Carter</td>\n",
       "      <td>[John, Carter, is, a, war-weary,, former, mili...</td>\n",
       "      <td>[[, {, \", i, d, \", :,  , 2, 8, ,,  , \", n, a, ...</td>\n",
       "      <td>[[, {, \", i, d, \", :,  , 8, 1, 8, ,,  , \", n, ...</td>\n",
       "      <td>[[, {, \", c, a, s, t, _, i, d, \", :,  , 5, ,, ...</td>\n",
       "      <td>[[, {, \", c, r, e, d, i, t, _, i, d, \", :,  , ...</td>\n",
       "      <td>[John, Carter, is, a, war-weary,, former, mili...</td>\n",
       "    </tr>\n",
       "  </tbody>\n",
       "</table>\n",
       "</div>"
      ],
      "text/plain": [
       "   movie_id                                     title  \\\n",
       "0     19995                                    Avatar   \n",
       "1       285  Pirates of the Caribbean: At World's End   \n",
       "2    206647                                   Spectre   \n",
       "3     49026                     The Dark Knight Rises   \n",
       "4     49529                               John Carter   \n",
       "\n",
       "                                            overview  \\\n",
       "0  [In, the, 22nd, century,, a, paraplegic, Marin...   \n",
       "1  [Captain, Barbossa,, long, believed, to, be, d...   \n",
       "2  [A, cryptic, message, from, Bond’s, past, send...   \n",
       "3  [Following, the, death, of, District, Attorney...   \n",
       "4  [John, Carter, is, a, war-weary,, former, mili...   \n",
       "\n",
       "                                              genres  \\\n",
       "0  [[, {, \", i, d, \", :,  , 2, 8, ,,  , \", n, a, ...   \n",
       "1  [[, {, \", i, d, \", :,  , 1, 2, ,,  , \", n, a, ...   \n",
       "2  [[, {, \", i, d, \", :,  , 2, 8, ,,  , \", n, a, ...   \n",
       "3  [[, {, \", i, d, \", :,  , 2, 8, ,,  , \", n, a, ...   \n",
       "4  [[, {, \", i, d, \", :,  , 2, 8, ,,  , \", n, a, ...   \n",
       "\n",
       "                                            keywords  \\\n",
       "0  [[, {, \", i, d, \", :,  , 1, 4, 6, 3, ,,  , \", ...   \n",
       "1  [[, {, \", i, d, \", :,  , 2, 7, 0, ,,  , \", n, ...   \n",
       "2  [[, {, \", i, d, \", :,  , 4, 7, 0, ,,  , \", n, ...   \n",
       "3  [[, {, \", i, d, \", :,  , 8, 4, 9, ,,  , \", n, ...   \n",
       "4  [[, {, \", i, d, \", :,  , 8, 1, 8, ,,  , \", n, ...   \n",
       "\n",
       "                                                cast  \\\n",
       "0  [[, {, \", c, a, s, t, _, i, d, \", :,  , 2, 4, ...   \n",
       "1  [[, {, \", c, a, s, t, _, i, d, \", :,  , 4, ,, ...   \n",
       "2  [[, {, \", c, a, s, t, _, i, d, \", :,  , 1, ,, ...   \n",
       "3  [[, {, \", c, a, s, t, _, i, d, \", :,  , 2, ,, ...   \n",
       "4  [[, {, \", c, a, s, t, _, i, d, \", :,  , 5, ,, ...   \n",
       "\n",
       "                                                crew  \\\n",
       "0  [[, {, \", c, r, e, d, i, t, _, i, d, \", :,  , ...   \n",
       "1  [[, {, \", c, r, e, d, i, t, _, i, d, \", :,  , ...   \n",
       "2  [[, {, \", c, r, e, d, i, t, _, i, d, \", :,  , ...   \n",
       "3  [[, {, \", c, r, e, d, i, t, _, i, d, \", :,  , ...   \n",
       "4  [[, {, \", c, r, e, d, i, t, _, i, d, \", :,  , ...   \n",
       "\n",
       "                                                tags  \n",
       "0  [In, the, 22nd, century,, a, paraplegic, Marin...  \n",
       "1  [Captain, Barbossa,, long, believed, to, be, d...  \n",
       "2  [A, cryptic, message, from, Bond’s, past, send...  \n",
       "3  [Following, the, death, of, District, Attorney...  \n",
       "4  [John, Carter, is, a, war-weary,, former, mili...  "
      ]
     },
     "execution_count": 42,
     "metadata": {},
     "output_type": "execute_result"
    }
   ],
   "source": [
    "movies.head()"
   ]
  },
  {
   "cell_type": "code",
   "execution_count": 43,
   "id": "ee1ef329",
   "metadata": {},
   "outputs": [],
   "source": [
    "new_df = movies[['movie_id','title','tags']]"
   ]
  },
  {
   "cell_type": "code",
   "execution_count": 44,
   "id": "26b03147",
   "metadata": {},
   "outputs": [
    {
     "name": "stderr",
     "output_type": "stream",
     "text": [
      "C:\\Users\\hp\\AppData\\Local\\Temp\\ipykernel_9616\\684433085.py:1: SettingWithCopyWarning: \n",
      "A value is trying to be set on a copy of a slice from a DataFrame.\n",
      "Try using .loc[row_indexer,col_indexer] = value instead\n",
      "\n",
      "See the caveats in the documentation: https://pandas.pydata.org/pandas-docs/stable/user_guide/indexing.html#returning-a-view-versus-a-copy\n",
      "  new_df['tags']=new_df['tags'].apply(lambda x: \" \".join(x))\n"
     ]
    }
   ],
   "source": [
    "new_df['tags']=new_df['tags'].apply(lambda x: \" \".join(x))"
   ]
  },
  {
   "cell_type": "code",
   "execution_count": 45,
   "id": "c96d0e4d",
   "metadata": {
    "scrolled": false
   },
   "outputs": [
    {
     "data": {
      "text/html": [
       "<div>\n",
       "<style scoped>\n",
       "    .dataframe tbody tr th:only-of-type {\n",
       "        vertical-align: middle;\n",
       "    }\n",
       "\n",
       "    .dataframe tbody tr th {\n",
       "        vertical-align: top;\n",
       "    }\n",
       "\n",
       "    .dataframe thead th {\n",
       "        text-align: right;\n",
       "    }\n",
       "</style>\n",
       "<table border=\"1\" class=\"dataframe\">\n",
       "  <thead>\n",
       "    <tr style=\"text-align: right;\">\n",
       "      <th></th>\n",
       "      <th>movie_id</th>\n",
       "      <th>title</th>\n",
       "      <th>tags</th>\n",
       "    </tr>\n",
       "  </thead>\n",
       "  <tbody>\n",
       "    <tr>\n",
       "      <th>0</th>\n",
       "      <td>19995</td>\n",
       "      <td>Avatar</td>\n",
       "      <td>In the 22nd century, a paraplegic Marine is di...</td>\n",
       "    </tr>\n",
       "    <tr>\n",
       "      <th>1</th>\n",
       "      <td>285</td>\n",
       "      <td>Pirates of the Caribbean: At World's End</td>\n",
       "      <td>Captain Barbossa, long believed to be dead, ha...</td>\n",
       "    </tr>\n",
       "    <tr>\n",
       "      <th>2</th>\n",
       "      <td>206647</td>\n",
       "      <td>Spectre</td>\n",
       "      <td>A cryptic message from Bond’s past sends him o...</td>\n",
       "    </tr>\n",
       "    <tr>\n",
       "      <th>3</th>\n",
       "      <td>49026</td>\n",
       "      <td>The Dark Knight Rises</td>\n",
       "      <td>Following the death of District Attorney Harve...</td>\n",
       "    </tr>\n",
       "    <tr>\n",
       "      <th>4</th>\n",
       "      <td>49529</td>\n",
       "      <td>John Carter</td>\n",
       "      <td>John Carter is a war-weary, former military ca...</td>\n",
       "    </tr>\n",
       "  </tbody>\n",
       "</table>\n",
       "</div>"
      ],
      "text/plain": [
       "   movie_id                                     title  \\\n",
       "0     19995                                    Avatar   \n",
       "1       285  Pirates of the Caribbean: At World's End   \n",
       "2    206647                                   Spectre   \n",
       "3     49026                     The Dark Knight Rises   \n",
       "4     49529                               John Carter   \n",
       "\n",
       "                                                tags  \n",
       "0  In the 22nd century, a paraplegic Marine is di...  \n",
       "1  Captain Barbossa, long believed to be dead, ha...  \n",
       "2  A cryptic message from Bond’s past sends him o...  \n",
       "3  Following the death of District Attorney Harve...  \n",
       "4  John Carter is a war-weary, former military ca...  "
      ]
     },
     "execution_count": 45,
     "metadata": {},
     "output_type": "execute_result"
    }
   ],
   "source": [
    "new_df.head()"
   ]
  },
  {
   "cell_type": "code",
   "execution_count": 46,
   "id": "027ded1b",
   "metadata": {},
   "outputs": [],
   "source": [
    "import nltk"
   ]
  },
  {
   "cell_type": "code",
   "execution_count": 47,
   "id": "14d4c610",
   "metadata": {},
   "outputs": [],
   "source": [
    "from nltk.stem.porter import PorterStemmer\n",
    "ps = PorterStemmer()"
   ]
  },
  {
   "cell_type": "code",
   "execution_count": 48,
   "id": "f005c64e",
   "metadata": {},
   "outputs": [],
   "source": [
    "def stem(text):\n",
    "    y = []\n",
    "    \n",
    "    for i in text.split():\n",
    "        y.append(ps.stem(i))\n",
    "        \n",
    "    return \" \".join(y)"
   ]
  },
  {
   "cell_type": "code",
   "execution_count": 49,
   "id": "228d70c6",
   "metadata": {},
   "outputs": [
    {
     "name": "stderr",
     "output_type": "stream",
     "text": [
      "C:\\Users\\hp\\AppData\\Local\\Temp\\ipykernel_9616\\3514595201.py:1: SettingWithCopyWarning: \n",
      "A value is trying to be set on a copy of a slice from a DataFrame.\n",
      "Try using .loc[row_indexer,col_indexer] = value instead\n",
      "\n",
      "See the caveats in the documentation: https://pandas.pydata.org/pandas-docs/stable/user_guide/indexing.html#returning-a-view-versus-a-copy\n",
      "  new_df['tags']=new_df['tags'].apply(stem)\n"
     ]
    }
   ],
   "source": [
    "new_df['tags']=new_df['tags'].apply(stem)"
   ]
  },
  {
   "cell_type": "code",
   "execution_count": 50,
   "id": "0925d726",
   "metadata": {},
   "outputs": [
    {
     "data": {
      "text/plain": [
       "'in the 22nd century, a parapleg marin is dispatch to the moon pandora on a uniqu mission, but becom torn between follow order and protect an alien civilization. [ { \" i d \" : 2 8 , \" n a m e \" : \" a c t i o n \" } , { \" i d \" : 1 2 , \" n a m e \" : \" a d v e n t u r e \" } , { \" i d \" : 1 4 , \" n a m e \" : \" f a n t a s y \" } , { \" i d \" : 8 7 8 , \" n a m e \" : \" s c i e n c e f i c t i o n \" } ] [ { \" i d \" : 1 4 6 3 , \" n a m e \" : \" c u l t u r e c l a s h \" } , { \" i d \" : 2 9 6 4 , \" n a m e \" : \" f u t u r e \" } , { \" i d \" : 3 3 8 6 , \" n a m e \" : \" s p a c e w a r \" } , { \" i d \" : 3 3 8 8 , \" n a m e \" : \" s p a c e c o l o n y \" } , { \" i d \" : 3 6 7 9 , \" n a m e \" : \" s o c i e t y \" } , { \" i d \" : 3 8 0 1 , \" n a m e \" : \" s p a c e t r a v e l \" } , { \" i d \" : 9 6 8 5 , \" n a m e \" : \" f u t u r i s t i c \" } , { \" i d \" : 9 8 4 0 , \" n a m e \" : \" r o m a n c e \" } , { \" i d \" : 9 8 8 2 , \" n a m e \" : \" s p a c e \" } , { \" i d \" : 9 9 5 1 , \" n a m e \" : \" a l i e n \" } , { \" i d \" : 1 0 1 4 8 , \" n a m e \" : \" t r i b e \" } , { \" i d \" : 1 0 1 5 8 , \" n a m e \" : \" a l i e n p l a n e t \" } , { \" i d \" : 1 0 9 8 7 , \" n a m e \" : \" c g i \" } , { \" i d \" : 1 1 3 9 9 , \" n a m e \" : \" m a r i n e \" } , { \" i d \" : 1 3 0 6 5 , \" n a m e \" : \" s o l d i e r \" } , { \" i d \" : 1 4 6 4 3 , \" n a m e \" : \" b a t t l e \" } , { \" i d \" : 1 4 7 2 0 , \" n a m e \" : \" l o v e a f f a i r \" } , { \" i d \" : 1 6 5 4 3 1 , \" n a m e \" : \" a n t i w a r \" } , { \" i d \" : 1 9 3 5 5 4 , \" n a m e \" : \" p o w e r r e l a t i o n s \" } , { \" i d \" : 2 0 6 6 9 0 , \" n a m e \" : \" m i n d a n d s o u l \" } , { \" i d \" : 2 0 9 7 1 4 , \" n a m e \" : \" 3 d \" } ] [ { \" c a s t _ i d \" : 2 4 2 , \" c h a r a c t e r \" : \" j a k e s u l l y \" , \" c r e d i t _ i d \" : \" 5 6 0 2 a 8 a 7 c 3 a 3 6 8 5 5 3 2 0 0 1 c 9 a \" , \" g e n d e r \" : 2 , \" i d \" : 6 5 7 3 1 , \" n a m e \" : \" s a m w o r t h i n g t o n \" , \" o r d e r \" : 0 } , { \" c a s t _ i d \" : 3 , \" c h a r a c t e r \" : \" n e y t i r i \" , \" c r e d i t _ i d \" : \" 5 2 f e 4 8 0 0 9 2 5 1 4 1 6 c 7 5 0 a c 9 c b \" , \" g e n d e r \" : 1 , \" i d \" : 8 6 9 1 , \" n a m e \" : \" z o e s a l d a n a \" , \" o r d e r \" : 1 } , { \" c a s t _ i d \" : 2 5 , \" c h a r a c t e r \" : \" d r . g r a c e a u g u s t i n e \" , \" c r e d i t _ i d \" : \" 5 2 f e 4 8 0 0 9 2 5 1 4 1 6 c 7 5 0 a c a 3 9 \" , \" g e n d e r \" : 1 , \" i d \" : 1 0 2 0 5 , \" n a m e \" : \" s i g o u r n e y w e a v e r \" , \" o r d e r \" : 2 } , { \" c a s t _ i d \" : 4 , \" c h a r a c t e r \" : \" c o l . q u a r i t c h \" , \" c r e d i t _ i d \" : \" 5 2 f e 4 8 0 0 9 2 5 1 4 1 6 c 7 5 0 a c 9 c f \" , \" g e n d e r \" : 2 , \" i d \" : 3 2 7 4 7 , \" n a m e \" : \" s t e p h e n l a n g \" , \" o r d e r \" : 3 } , { \" c a s t _ i d \" : 5 , \" c h a r a c t e r \" : \" t r u d y c h a c o n \" , \" c r e d i t _ i d \" : \" 5 2 f e 4 8 0 0 9 2 5 1 4 1 6 c 7 5 0 a c 9 d 3 \" , \" g e n d e r \" : 1 , \" i d \" : 1 7 6 4 7 , \" n a m e \" : \" m i c h e l l e r o d r i g u e z \" , \" o r d e r \" : 4 } , { \" c a s t _ i d \" : 8 , \" c h a r a c t e r \" : \" s e l f r i d g e \" , \" c r e d i t _ i d \" : \" 5 2 f e 4 8 0 0 9 2 5 1 4 1 6 c 7 5 0 a c 9 e 1 \" , \" g e n d e r \" : 2 , \" i d \" : 1 7 7 1 , \" n a m e \" : \" g i o v a n n i r i b i s i \" , \" o r d e r \" : 5 } , { \" c a s t _ i d \" : 7 , \" c h a r a c t e r \" : \" n o r m s p e l l m a n \" , \" c r e d i t _ i d \" : \" 5 2 f e 4 8 0 0 9 2 5 1 4 1 6 c 7 5 0 a c 9 d d \" , \" g e n d e r \" : 2 , \" i d \" : 5 9 2 3 1 , \" n a m e \" : \" j o e l d a v i d m o o r e \" , \" o r d e r \" : 6 } , { \" c a s t _ i d \" : 9 , \" c h a r a c t e r \" : \" m o a t \" , \" c r e d i t _ i d \" : \" 5 2 f e 4 8 0 0 9 2 5 1 4 1 6 c 7 5 0 a c 9 e 5 \" , \" g e n d e r \" : 1 , \" i d \" : 3 0 4 8 5 , \" n a m e \" : \" c c h p o u n d e r \" , \" o r d e r \" : 7 } , { \" c a s t _ i d \" : 1 1 , \" c h a r a c t e r \" : \" e y t u k a n \" , \" c r e d i t _ i d \" : \" 5 2 f e 4 8 0 0 9 2 5 1 4 1 6 c 7 5 0 a c 9 e d \" , \" g e n d e r \" : 2 , \" i d \" : 1 5 8 5 3 , \" n a m e \" : \" w e s s t u d i \" , \" o r d e r \" : 8 } , { \" c a s t _ i d \" : 1 0 , \" c h a r a c t e r \" : \" t s u \\' t e y \" , \" c r e d i t _ i d \" : \" 5 2 f e 4 8 0 0 9 2 5 1 4 1 6 c 7 5 0 a c 9 e 9 \" , \" g e n d e r \" : 2 , \" i d \" : 1 0 9 6 4 , \" n a m e \" : \" l a z a l o n s o \" , \" o r d e r \" : 9 } , { \" c a s t _ i d \" : 1 2 , \" c h a r a c t e r \" : \" d r . m a x p a t e l \" , \" c r e d i t _ i d \" : \" 5 2 f e 4 8 0 0 9 2 5 1 4 1 6 c 7 5 0 a c 9 f 1 \" , \" g e n d e r \" : 2 , \" i d \" : 9 5 6 9 7 , \" n a m e \" : \" d i l e e p r a o \" , \" o r d e r \" : 1 0 } , { \" c a s t _ i d \" : 1 3 , \" c h a r a c t e r \" : \" l y l e w a i n f l e e t \" , \" c r e d i t _ i d \" : \" 5 2 f e 4 8 0 0 9 2 5 1 4 1 6 c 7 5 0 a c 9 f 5 \" , \" g e n d e r \" : 2 , \" i d \" : 9 8 2 1 5 , \" n a m e \" : \" m a t t g e r a l d \" , \" o r d e r \" : 1 1 } , { \" c a s t _ i d \" : 3 2 , \" c h a r a c t e r \" : \" p r i v a t e f i k e \" , \" c r e d i t _ i d \" : \" 5 2 f e 4 8 0 0 9 2 5 1 4 1 6 c 7 5 0 a c a 5 b \" , \" g e n d e r \" : 2 , \" i d \" : 1 5 4 1 5 3 , \" n a m e \" : \" s e a n a n t h o n y m o r a n \" , \" o r d e r \" : 1 2 } , { \" c a s t _ i d \" : 3 3 , \" c h a r a c t e r \" : \" c r y o v a u l t m e d t e c h \" , \" c r e d i t _ i d \" : \" 5 2 f e 4 8 0 0 9 2 5 1 4 1 6 c 7 5 0 a c a 5 f \" , \" g e n d e r \" : 2 , \" i d \" : 3 9 7 3 1 2 , \" n a m e \" : \" j a s o n w h y t e \" , \" o r d e r \" : 1 3 } , { \" c a s t _ i d \" : 3 4 , \" c h a r a c t e r \" : \" v e n t u r e s t a r c r e w c h i e f \" , \" c r e d i t _ i d \" : \" 5 2 f e 4 8 0 0 9 2 5 1 4 1 6 c 7 5 0 a c a 6 3 \" , \" g e n d e r \" : 2 , \" i d \" : 4 2 3 1 7 , \" n a m e \" : \" s c o t t l a w r e n c e \" , \" o r d e r \" : 1 4 } , { \" c a s t _ i d \" : 3 5 , \" c h a r a c t e r \" : \" l o c k u p t r o o p e r \" , \" c r e d i t _ i d \" : \" 5 2 f e 4 8 0 0 9 2 5 1 4 1 6 c 7 5 0 a c a 6 7 \" , \" g e n d e r \" : 2 , \" i d \" : 9 8 6 7 3 4 , \" n a m e \" : \" k e l l y k i l g o u r \" , \" o r d e r \" : 1 5 } , { \" c a s t _ i d \" : 3 6 , \" c h a r a c t e r \" : \" s h u t t l e p i l o t \" , \" c r e d i t _ i d \" : \" 5 2 f e 4 8 0 0 9 2 5 1 4 1 6 c 7 5 0 a c a 6 b \" , \" g e n d e r \" : 0 , \" i d \" : 1 2 0 7 2 2 7 , \" n a m e \" : \" j a m e s p a t r i c k p i t t \" , \" o r d e r \" : 1 6 } , { \" c a s t _ i d \" : 3 7 , \" c h a r a c t e r \" : \" s h u t t l e c o - p i l o t \" , \" c r e d i t _ i d \" : \" 5 2 f e 4 8 0 0 9 2 5 1 4 1 6 c 7 5 0 a c a 6 f \" , \" g e n d e r \" : 0 , \" i d \" : 1 1 8 0 9 3 6 , \" n a m e \" : \" s e a n p a t r i c k m u r p h y \" , \" o r d e r \" : 1 7 } , { \" c a s t _ i d \" : 3 8 , \" c h a r a c t e r \" : \" s h u t t l e c r e w c h i e f \" , \" c r e d i t _ i d \" : \" 5 2 f e 4 8 0 0 9 2 5 1 4 1 6 c 7 5 0 a c a 7 3 \" , \" g e n d e r \" : 2 , \" i d \" : 1 0 1 9 5 7 8 , \" n a m e \" : \" p e t e r d i l l o n \" , \" o r d e r \" : 1 8 } , { \" c a s t _ i d \" : 3 9 , \" c h a r a c t e r \" : \" t r a c t o r o p e r a t o r / t r o u p e \" , \" c r e d i t _ i d \" : \" 5 2 f e 4 8 0 0 9 2 5 1 4 1 6 c 7 5 0 a c a 7 7 \" , \" g e n d e r \" : 0 , \" i d \" : 9 1 4 4 3 , \" n a m e \" : \" k e v i n d o r m a n \" , \" o r d e r \" : 1 9 } , { \" c a s t _ i d \" : 4 0 , \" c h a r a c t e r \" : \" d r a g o n g u n s h i p p i l o t \" , \" c r e d i t _ i d \" : \" 5 2 f e 4 8 0 0 9 2 5 1 4 1 6 c 7 5 0 a c a 7 b \" , \" g e n d e r \" : 2 , \" i d \" : 1 7 3 3 9 1 , \" n a m e \" : \" k e l s o n h e n d e r s o n \" , \" o r d e r \" : 2 0 } , { \" c a s t _ i d \" : 4 1 , \" c h a r a c t e r \" : \" d r a g o n g u n s h i p g u n n e r \" , \" c r e d i t _ i d \" : \" 5 2 f e 4 8 0 0 9 2 5 1 4 1 6 c 7 5 0 a c a 7 f \" , \" g e n d e r \" : 0 , \" i d \" : 1 2 0 7 2 3 6 , \" n a m e \" : \" d a v i d v a n h o r n \" , \" o r d e r \" : 2 1 } , { \" c a s t _ i d \" : 4 2 , \" c h a r a c t e r \" : \" d r a g o n g u n s h i p n a v i g a t o r \" , \" c r e d i t _ i d \" : \" 5 2 f e 4 8 0 0 9 2 5 1 4 1 6 c 7 5 0 a c a 8 3 \" , \" g e n d e r \" : 0 , \" i d \" : 2 1 5 9 1 3 , \" n a m e \" : \" j a c o b t o m u r i \" , \" o r d e r \" : 2 2 } , { \" c a s t _ i d \" : 4 3 , \" c h a r a c t e r \" : \" s u i t # 1 \" , \" c r e d i t _ i d \" : \" 5 2 f e 4 8 0 0 9 2 5 1 4 1 6 c 7 5 0 a c a 8 7 \" , \" g e n d e r \" : 0 , \" i d \" : 1 4 3 2 0 6 , \" n a m e \" : \" m i c h a e l b l a i n - r o z g a y \" , \" o r d e r \" : 2 3 } , { \" c a s t _ i d \" : 4 4 , \" c h a r a c t e r \" : \" s u i t # 2 \" , \" c r e d i t _ i d \" : \" 5 2 f e 4 8 0 0 9 2 5 1 4 1 6 c 7 5 0 a c a 8 b \" , \" g e n d e r \" : 2 , \" i d \" : 1 6 9 6 7 6 , \" n a m e \" : \" j o n c u r r y \" , \" o r d e r \" : 2 4 } , { \" c a s t _ i d \" : 4 6 , \" c h a r a c t e r \" : \" a m b i e n t r o o m t e c h \" , \" c r e d i t _ i d \" : \" 5 2 f e 4 8 0 0 9 2 5 1 4 1 6 c 7 5 0 a c a 8 f \" , \" g e n d e r \" : 0 , \" i d \" : 1 0 4 8 6 1 0 , \" n a m e \" : \" l u k e h a w k e r \" , \" o r d e r \" : 2 5 } , { \" c a s t _ i d \" : 4 7 , \" c h a r a c t e r \" : \" a m b i e n t r o o m t e c h / t r o u p e \" , \" c r e d i t _ i d \" : \" 5 2 f e 4 8 0 0 9 2 5 1 4 1 6 c 7 5 0 a c a 9 3 \" , \" g e n d e r \" : 0 , \" i d \" : 4 2 2 8 8 , \" n a m e \" : \" w o o d y s c h u l t z \" , \" o r d e r \" : 2 6 } , { \" c a s t _ i d \" : 4 8 , \" c h a r a c t e r \" : \" h o r s e c l a n l e a d e r \" , \" c r e d i t _ i d \" : \" 5 2 f e 4 8 0 0 9 2 5 1 4 1 6 c 7 5 0 a c a 9 7 \" , \" g e n d e r \" : 2 , \" i d \" : 6 8 2 7 8 , \" n a m e \" : \" p e t e r m e n s a h \" , \" o r d e r \" : 2 7 } , { \" c a s t _ i d \" : 4 9 , \" c h a r a c t e r \" : \" l i n k r o o m t e c h \" , \" c r e d i t _ i d \" : \" 5 2 f e 4 8 0 0 9 2 5 1 4 1 6 c 7 5 0 a c a 9 b \" , \" g e n d e r \" : 0 , \" i d \" : 1 2 0 7 2 4 7 , \" n a m e \" : \" s o n i a y e e \" , \" o r d e r \" : 2 8 } , { \" c a s t _ i d \" : 5 0 , \" c h a r a c t e r \" : \" b a s k e t b a l l a v a t a r / t r o u p e \" , \" c r e d i t _ i d \" : \" 5 2 f e 4 8 0 0 9 2 5 1 4 1 6 c 7 5 0 a c a 9 f \" , \" g e n d e r \" : 1 , \" i d \" : 1 2 0 7 2 4 8 , \" n a m e \" : \" j a h n e l c u r f m a n \" , \" o r d e r \" : 2 9 } , { \" c a s t _ i d \" : 5 1 , \" c h a r a c t e r \" : \" b a s k e t b a l l a v a t a r \" , \" c r e d i t _ i d \" : \" 5 2 f e 4 8 0 0 9 2 5 1 4 1 6 c 7 5 0 a c a a 3 \" , \" g e n d e r \" : 0 , \" i d \" : 8 9 7 1 4 , \" n a m e \" : \" i l r a m c h o i \" , \" o r d e r \" : 3 0 } , { \" c a s t _ i d \" : 5 2 , \" c h a r a c t e r \" : \" n a \\' v i c h i l d \" , \" c r e d i t _ i d \" : \" 5 2 f e 4 8 0 0 9 2 5 1 4 1 6 c 7 5 0 a c a a 7 \" , \" g e n d e r \" : 0 , \" i d \" : 1 2 0 7 2 4 9 , \" n a m e \" : \" k y l a w a r r e n \" , \" o r d e r \" : 3 1 } , { \" c a s t _ i d \" : 5 3 , \" c h a r a c t e r \" : \" t r o u p e \" , \" c r e d i t _ i d \" : \" 5 2 f e 4 8 0 0 9 2 5 1 4 1 6 c 7 5 0 a c a a b \" , \" g e n d e r \" : 0 , \" i d \" : 1 2 0 7 2 5 0 , \" n a m e \" : \" l i s a r o u m a i n \" , \" o r d e r \" : 3 2 } , { \" c a s t _ i d \" : 5 4 , \" c h a r a c t e r \" : \" t r o u p e \" , \" c r e d i t _ i d \" : \" 5 2 f e 4 8 0 0 9 2 5 1 4 1 6 c 7 5 0 a c a a f \" , \" g e n d e r \" : 1 , \" i d \" : 8 3 1 0 5 , \" n a m e \" : \" d e b r a w i l s o n \" , \" o r d e r \" : 3 3 } , { \" c a s t _ i d \" : 5 7 , \" c h a r a c t e r \" : \" t r o u p e \" , \" c r e d i t _ i d \" : \" 5 2 f e 4 8 0 0 9 2 5 1 4 1 6 c 7 5 0 a c a b b \" , \" g e n d e r \" : 0 , \" i d \" : 1 2 0 7 2 5 3 , \" n a m e \" : \" c h r i s m a l a \" , \" o r d e r \" : 3 4 } , { \" c a s t _ i d \" : 5 5 , \" c h a r a c t e r \" : \" t r o u p e \" , \" c r e d i t _ i d \" : \" 5 2 f e 4 8 0 0 9 2 5 1 4 1 6 c 7 5 0 a c a b 3 \" , \" g e n d e r \" : 0 , \" i d \" : 1 2 0 7 2 5 1 , \" n a m e \" : \" t a y l o r k i b b y \" , \" o r d e r \" : 3 5 } , { \" c a s t _ i d \" : 5 6 , \" c h a r a c t e r \" : \" t r o u p e \" , \" c r e d i t _ i d \" : \" 5 2 f e 4 8 0 0 9 2 5 1 4 1 6 c 7 5 0 a c a b 7 \" , \" g e n d e r \" : 0 , \" i d \" : 1 2 0 7 2 5 2 , \" n a m e \" : \" j o d i e l a n d a u \" , \" o r d e r \" : 3 6 } , { \" c a s t _ i d \" : 5 8 , \" c h a r a c t e r \" : \" t r o u p e \" , \" c r e d i t _ i d \" : \" 5 2 f e 4 8 0 0 9 2 5 1 4 1 6 c 7 5 0 a c a b f \" , \" g e n d e r \" : 0 , \" i d \" : 1 2 0 7 2 5 4 , \" n a m e \" : \" j u l i e l a m m \" , \" o r d e r \" : 3 7 } , { \" c a s t _ i d \" : 5 9 , \" c h a r a c t e r \" : \" t r o u p e \" , \" c r e d i t _ i d \" : \" 5 2 f e 4 8 0 0 9 2 5 1 4 1 6 c 7 5 0 a c a c 3 \" , \" g e n d e r \" : 0 , \" i d \" : 1 2 0 7 2 5 7 , \" n a m e \" : \" c u l l e n b . m a d d e n \" , \" o r d e r \" : 3 8 } , { \" c a s t _ i d \" : 6 0 , \" c h a r a c t e r \" : \" t r o u p e \" , \" c r e d i t _ i d \" : \" 5 2 f e 4 8 0 0 9 2 5 1 4 1 6 c 7 5 0 a c a c 7 \" , \" g e n d e r \" : 0 , \" i d \" : 1 2 0 7 2 5 9 , \" n a m e \" : \" j o s e p h b r a d y m a d d e n \" , \" o r d e r \" : 3 9 } , { \" c a s t _ i d \" : 6 1 , \" c h a r a c t e r \" : \" t r o u p e \" , \" c r e d i t _ i d \" : \" 5 2 f e 4 8 0 0 9 2 5 1 4 1 6 c 7 5 0 a c a c b \" , \" g e n d e r \" : 0 , \" i d \" : 1 2 0 7 2 6 2 , \" n a m e \" : \" f r a n k i e t o r r e s \" , \" o r d e r \" : 4 0 } , { \" c a s t _ i d \" : 6 2 , \" c h a r a c t e r \" : \" t r o u p e \" , \" c r e d i t _ i d \" : \" 5 2 f e 4 8 0 0 9 2 5 1 4 1 6 c 7 5 0 a c a c f \" , \" g e n d e r \" : 1 , \" i d \" : 1 1 5 8 6 0 0 , \" n a m e \" : \" a u s t i n w i l s o n \" , \" o r d e r \" : 4 1 } , { \" c a s t _ i d \" : 6 3 , \" c h a r a c t e r \" : \" t r o u p e \" , \" c r e d i t _ i d \" : \" 5 2 f e 4 8 0 1 9 2 5 1 4 1 6 c 7 5 0 a c a d 3 \" , \" g e n d e r \" : 1 , \" i d \" : 9 8 3 7 0 5 , \" n a m e \" : \" s a r a w i l s o n \" , \" o r d e r \" : 4 2 } , { \" c a s t _ i d \" : 6 4 , \" c h a r a c t e r \" : \" t r o u p e \" , \" c r e d i t _ i d \" : \" 5 2 f e 4 8 0 1 9 2 5 1 4 1 6 c 7 5 0 a c a d 7 \" , \" g e n d e r \" : 0 , \" i d \" : 1 2 0 7 2 6 3 , \" n a m e \" : \" t a m i c a w a s h i n g t o n - m i l l e r \" , \" o r d e r \" : 4 3 } , { \" c a s t _ i d \" : 6 5 , \" c h a r a c t e r \" : \" o p c e n t e r s t a f f \" , \" c r e d i t _ i d \" : \" 5 2 f e 4 8 0 1 9 2 5 1 4 1 6 c 7 5 0 a c a d b \" , \" g e n d e r \" : 1 , \" i d \" : 1 1 4 5 0 9 8 , \" n a m e \" : \" l u c y b r i a n t \" , \" o r d e r \" : 4 4 } , { \" c a s t _ i d \" : 6 6 , \" c h a r a c t e r \" : \" o p c e n t e r s t a f f \" , \" c r e d i t _ i d \" : \" 5 2 f e 4 8 0 1 9 2 5 1 4 1 6 c 7 5 0 a c a d f \" , \" g e n d e r \" : 2 , \" i d \" : 3 3 3 0 5 , \" n a m e \" : \" n a t h a n m e i s t e r \" , \" o r d e r \" : 4 5 } , { \" c a s t _ i d \" : 6 7 , \" c h a r a c t e r \" : \" o p c e n t e r s t a f f \" , \" c r e d i t _ i d \" : \" 5 2 f e 4 8 0 1 9 2 5 1 4 1 6 c 7 5 0 a c a e 3 \" , \" g e n d e r \" : 0 , \" i d \" : 1 2 0 7 2 6 4 , \" n a m e \" : \" g e r r y b l a i r \" , \" o r d e r \" : 4 6 } , { \" c a s t _ i d \" : 6 8 , \" c h a r a c t e r \" : \" o p c e n t e r s t a f f \" , \" c r e d i t _ i d \" : \" 5 2 f e 4 8 0 1 9 2 5 1 4 1 6 c 7 5 0 a c a e 7 \" , \" g e n d e r \" : 2 , \" i d \" : 3 3 3 1 1 , \" n a m e \" : \" m a t t h e w c h a m b e r l a i n \" , \" o r d e r \" : 4 7 } , { \" c a s t _ i d \" : 6 9 , \" c h a r a c t e r \" : \" o p c e n t e r s t a f f \" , \" c r e d i t _ i d \" : \" 5 2 f e 4 8 0 1 9 2 5 1 4 1 6 c 7 5 0 a c a e b \" , \" g e n d e r \" : 0 , \" i d \" : 1 2 0 7 2 6 5 , \" n a m e \" : \" p a u l y a t e s \" , \" o r d e r \" : 4 8 } , { \" c a s t _ i d \" : 7 0 , \" c h a r a c t e r \" : \" o p c e n t e r d u t y o f f i c e r \" , \" c r e d i t _ i d \" : \" 5 2 f e 4 8 0 1 9 2 5 1 4 1 6 c 7 5 0 a c a e f \" , \" g e n d e r \" : 0 , \" i d \" : 1 2 0 7 2 6 6 , \" n a m e \" : \" w r a y w i l s o n \" , \" o r d e r \" : 4 9 } , { \" c a s t _ i d \" : 7 1 , \" c h a r a c t e r \" : \" o p c e n t e r s t a f f \" , \" c r e d i t _ i d \" : \" 5 2 f e 4 8 0 1 9 2 5 1 4 1 6 c 7 5 0 a c a f 3 \" , \" g e n d e r \" : 2 , \" i d \" : 5 4 4 9 2 , \" n a m e \" : \" j a m e s g a y l y n \" , \" o r d e r \" : 5 0 } , { \" c a s t _ i d \" : 7 2 , \" c h a r a c t e r \" : \" d a n c e r \" , \" c r e d i t _ i d \" : \" 5 2 f e 4 8 0 1 9 2 5 1 4 1 6 c 7 5 0 a c a f 7 \" , \" g e n d e r \" : 0 , \" i d \" : 1 2 0 7 2 6 7 , \" n a m e \" : \" m e l v i n l e n o c l a r k i i i \" , \" o r d e r \" : 5 1 } , { \" c a s t _ i d \" : 7 3 , \" c h a r a c t e r \" : \" d a n c e r \" , \" c r e d i t _ i d \" : \" 5 2 f e 4 8 0 1 9 2 5 1 4 1 6 c 7 5 0 a c a f b \" , \" g e n d e r \" : 0 , \" i d \" : 1 2 0 7 2 6 8 , \" n a m e \" : \" c a r v o n f u t r e l l \" , \" o r d e r \" : 5 2 } , { \" c a s t _ i d \" : 7 4 , \" c h a r a c t e r \" : \" d a n c e r \" , \" c r e d i t _ i d \" : \" 5 2 f e 4 8 0 1 9 2 5 1 4 1 6 c 7 5 0 a c a f f \" , \" g e n d e r \" : 0 , \" i d \" : 1 2 0 7 2 6 9 , \" n a m e \" : \" b r a n d o n j e l k e s \" , \" o r d e r \" : 5 3 } , { \" c a s t _ i d \" : 7 5 , \" c h a r a c t e r \" : \" d a n c e r \" , \" c r e d i t _ i d \" : \" 5 2 f e 4 8 0 1 9 2 5 1 4 1 6 c 7 5 0 a c b 0 3 \" , \" g e n d e r \" : 0 , \" i d \" : 1 2 0 7 2 7 0 , \" n a m e \" : \" m i c a h m o c h \" , \" o r d e r \" : 5 4 } , { \" c a s t _ i d \" : 7 6 , \" c h a r a c t e r \" : \" d a n c e r \" , \" c r e d i t _ i d \" : \" 5 2 f e 4 8 0 1 9 2 5 1 4 1 6 c 7 5 0 a c b 0 7 \" , \" g e n d e r \" : 0 , \" i d \" : 1 2 0 7 2 7 1 , \" n a m e \" : \" h a n n i y a h m u h a m m a d \" , \" o r d e r \" : 5 5 } , { \" c a s t _ i d \" : 7 7 , \" c h a r a c t e r \" : \" d a n c e r \" , \" c r e d i t _ i d \" : \" 5 2 f e 4 8 0 1 9 2 5 1 4 1 6 c 7 5 0 a c b 0 b \" , \" g e n d e r \" : 0 , \" i d \" : 1 2 0 7 2 7 2 , \" n a m e \" : \" c h r i s t o p h e r n o l e n \" , \" o r d e r \" : 5 6 } , { \" c a s t _ i d \" : 7 8 , \" c h a r a c t e r \" : \" d a n c e r \" , \" c r e d i t _ i d \" : \" 5 2 f e 4 8 0 1 9 2 5 1 4 1 6 c 7 5 0 a c b 0 f \" , \" g e n d e r \" : 0 , \" i d \" : 1 2 0 7 2 7 3 , \" n a m e \" : \" c h r i s t a o l i v e r \" , \" o r d e r \" : 5 7 } , { \" c a s t _ i d \" : 7 9 , \" c h a r a c t e r \" : \" d a n c e r \" , \" c r e d i t _ i d \" : \" 5 2 f e 4 8 0 1 9 2 5 1 4 1 6 c 7 5 0 a c b 1 3 \" , \" g e n d e r \" : 0 , \" i d \" : 1 2 0 7 2 7 4 , \" n a m e \" : \" a p r i l m a r i e t h o m a s \" , \" o r d e r \" : 5 8 } , { \" c a s t _ i d \" : 8 0 , \" c h a r a c t e r \" : \" d a n c e r \" , \" c r e d i t _ i d \" : \" 5 2 f e 4 8 0 1 9 2 5 1 4 1 6 c 7 5 0 a c b 1 7 \" , \" g e n d e r \" : 0 , \" i d \" : 1 2 0 7 2 7 5 , \" n a m e \" : \" b r a v i t a a . t h r e a t t \" , \" o r d e r \" : 5 9 } , { \" c a s t _ i d \" : 8 1 , \" c h a r a c t e r \" : \" m i n i n g c h i e f ( u n c r e d i t e d ) \" , \" c r e d i t _ i d \" : \" 5 2 f e 4 8 0 1 9 2 5 1 4 1 6 c 7 5 0 a c b 1 b \" , \" g e n d e r \" : 0 , \" i d \" : 1 2 0 7 2 7 6 , \" n a m e \" : \" c o l i n b l e a s d a l e \" , \" o r d e r \" : 6 0 } , { \" c a s t _ i d \" : 8 2 , \" c h a r a c t e r \" : \" v e t e r a n m i n e r ( u n c r e d i t e d ) \" , \" c r e d i t _ i d \" : \" 5 2 f e 4 8 0 1 9 2 5 1 4 1 6 c 7 5 0 a c b 1 f \" , \" g e n d e r \" : 0 , \" i d \" : 1 0 7 9 6 9 , \" n a m e \" : \" m i k e b o d n a r \" , \" o r d e r \" : 6 1 } , { \" c a s t _ i d \" : 8 3 , \" c h a r a c t e r \" : \" r i c h a r d ( u n c r e d i t e d ) \" , \" c r e d i t _ i d \" : \" 5 2 f e 4 8 0 1 9 2 5 1 4 1 6 c 7 5 0 a c b 2 3 \" , \" g e n d e r \" : 0 , \" i d \" : 1 2 0 7 2 7 8 , \" n a m e \" : \" m a t t c l a y t o n \" , \" o r d e r \" : 6 2 } , { \" c a s t _ i d \" : 8 4 , \" c h a r a c t e r \" : \" n a v \\' i ( u n c r e d i t e d ) \" , \" c r e d i t _ i d \" : \" 5 2 f e 4 8 0 1 9 2 5 1 4 1 6 c 7 5 0 a c b 2 7 \" , \" g e n d e r \" : 1 , \" i d \" : 1 4 7 8 9 8 , \" n a m e \" : \" n i c o l e d i o n n e \" , \" o r d e r \" : 6 3 } , { \" c a s t _ i d \" : 8 5 , \" c h a r a c t e r \" : \" t r o o p e r ( u n c r e d i t e d ) \" , \" c r e d i t _ i d \" : \" 5 2 f e 4 8 0 1 9 2 5 1 4 1 6 c 7 5 0 a c b 2 b \" , \" g e n d e r \" : 0 , \" i d \" : 1 2 0 7 2 8 0 , \" n a m e \" : \" j a m i e h a r r i s o n \" , \" o r d e r \" : 6 4 } , { \" c a s t _ i d \" : 8 6 , \" c h a r a c t e r \" : \" t r o o p e r ( u n c r e d i t e d ) \" , \" c r e d i t _ i d \" : \" 5 2 f e 4 8 0 1 9 2 5 1 4 1 6 c 7 5 0 a c b 2 f \" , \" g e n d e r \" : 0 , \" i d \" : 1 2 0 7 2 8 1 , \" n a m e \" : \" a l l a n h e n r y \" , \" o r d e r \" : 6 5 } , { \" c a s t _ i d \" : 8 7 , \" c h a r a c t e r \" : \" g r o u n d t e c h n i c i a n ( u n c r e d i t e d ) \" , \" c r e d i t _ i d \" : \" 5 2 f e 4 8 0 1 9 2 5 1 4 1 6 c 7 5 0 a c b 3 3 \" , \" g e n d e r \" : 2 , \" i d \" : 1 2 0 7 2 8 2 , \" n a m e \" : \" a n t h o n y i n g r u b e r \" , \" o r d e r \" : 6 6 } , { \" c a s t _ i d \" : 8 8 , \" c h a r a c t e r \" : \" f l i g h t c r e w m e c h a n i c ( u n c r e d i t e d ) \" , \" c r e d i t _ i d \" : \" 5 2 f e 4 8 0 1 9 2 5 1 4 1 6 c 7 5 0 a c b 3 7 \" , \" g e n d e r \" : 0 , \" i d \" : 1 2 0 7 2 8 3 , \" n a m e \" : \" a s h l e y j e f f e r y \" , \" o r d e r \" : 6 7 } , { \" c a s t _ i d \" : 1 4 , \" c h a r a c t e r \" : \" s a m s o n p i l o t \" , \" c r e d i t _ i d \" : \" 5 2 f e 4 8 0 0 9 2 5 1 4 1 6 c 7 5 0 a c 9 f 9 \" , \" g e n d e r \" : 0 , \" i d \" : 9 8 2 1 6 , \" n a m e \" : \" d e a n k n o w s l e y \" , \" o r d e r \" : 6 8 } , { \" c a s t _ i d \" : 8 9 , \" c h a r a c t e r \" : \" t r o o p e r ( u n c r e d i t e d ) \" , \" c r e d i t _ i d \" : \" 5 2 f e 4 8 0 1 9 2 5 1 4 1 6 c 7 5 0 a c b 3 b \" , \" g e n d e r \" : 0 , \" i d \" : 1 2 0 1 3 9 9 , \" n a m e \" : \" j o s e p h m i k a - h u n t \" , \" o r d e r \" : 6 9 } , { \" c a s t _ i d \" : 9 0 , \" c h a r a c t e r \" : \" b a n s h e e ( u n c r e d i t e d ) \" , \" c r e d i t _ i d \" : \" 5 2 f e 4 8 0 1 9 2 5 1 4 1 6 c 7 5 0 a c b 3 f \" , \" g e n d e r \" : 0 , \" i d \" : 2 3 6 6 9 6 , \" n a m e \" : \" t e r r y n o t a r y \" , \" o r d e r \" : 7 0 } , { \" c a s t _ i d \" : 9 1 , \" c h a r a c t e r \" : \" s o l d i e r ( u n c r e d i t e d ) \" , \" c r e d i t _ i d \" : \" 5 2 f e 4 8 0 1 9 2 5 1 4 1 6 c 7 5 0 a c b 4 3 \" , \" g e n d e r \" : 0 , \" i d \" : 1 2 0 7 2 8 7 , \" n a m e \" : \" k a i p a n t a n o \" , \" o r d e r \" : 7 1 } , { \" c a s t _ i d \" : 9 2 , \" c h a r a c t e r \" : \" b l a s t t e c h n i c i a n ( u n c r e d i t e d ) \" , \" c r e d i t _ i d \" : \" 5 2 f e 4 8 0 1 9 2 5 1 4 1 6 c 7 5 0 a c b 4 7 \" , \" g e n d e r \" : 0 , \" i d \" : 1 2 0 7 2 8 8 , \" n a m e \" : \" l o g a n p i t h y o u \" , \" o r d e r \" : 7 2 } , { \" c a s t _ i d \" : 9 3 , \" c h a r a c t e r \" : \" v i n d u m r a a h ( u n c r e d i t e d ) \" , \" c r e d i t _ i d \" : \" 5 2 f e 4 8 0 1 9 2 5 1 4 1 6 c 7 5 0 a c b 4 b \" , \" g e n d e r \" : 0 , \" i d \" : 1 2 0 7 2 8 9 , \" n a m e \" : \" s t u a r t p o l l o c k \" , \" o r d e r \" : 7 3 } , { \" c a s t _ i d \" : 9 4 , \" c h a r a c t e r \" : \" h e r o ( u n c r e d i t e d ) \" , \" c r e d i t _ i d \" : \" 5 2 f e 4 8 0 1 9 2 5 1 4 1 6 c 7 5 0 a c b 4 f \" , \" g e n d e r \" : 0 , \" i d \" : 5 8 4 8 6 8 , \" n a m e \" : \" r a j a \" , \" o r d e r \" : 7 4 } , { \" c a s t _ i d \" : 9 5 , \" c h a r a c t e r \" : \" o p s c e n t r e w o r k e r ( u n c r e d i t e d ) \" , \" c r e d i t _ i d \" : \" 5 2 f e 4 8 0 1 9 2 5 1 4 1 6 c 7 5 0 a c b 5 3 \" , \" g e n d e r \" : 0 , \" i d \" : 1 2 0 7 2 9 0 , \" n a m e \" : \" g a r e t h r u c k \" , \" o r d e r \" : 7 5 } , { \" c a s t _ i d \" : 9 6 , \" c h a r a c t e r \" : \" e n g i n e e r ( u n c r e d i t e d ) \" , \" c r e d i t _ i d \" : \" 5 2 f e 4 8 0 1 9 2 5 1 4 1 6 c 7 5 0 a c b 5 7 \" , \" g e n d e r \" : 0 , \" i d \" : 1 0 6 2 4 6 3 , \" n a m e \" : \" r h i a n s h e e h a n \" , \" o r d e r \" : 7 6 } , { \" c a s t _ i d \" : 9 7 , \" c h a r a c t e r \" : \" c o l . q u a r i t c h \\' s m e c h s u i t ( u n c r e d i t e d ) \" , \" c r e d i t _ i d \" : \" 5 2 f e 4 8 0 1 9 2 5 1 4 1 6 c 7 5 0 a c b 5 b \" , \" g e n d e r \" : 0 , \" i d \" : 6 0 6 5 6 , \" n a m e \" : \" t . j . s t o r m \" , \" o r d e r \" : 7 7 } , { \" c a s t _ i d \" : 9 8 , \" c h a r a c t e r \" : \" f e m a l e m a r i n e ( u n c r e d i t e d ) \" , \" c r e d i t _ i d \" : \" 5 2 f e 4 8 0 1 9 2 5 1 4 1 6 c 7 5 0 a c b 5 f \" , \" g e n d e r \" : 0 , \" i d \" : 1 2 0 7 2 9 1 , \" n a m e \" : \" j o d i e t a y l o r \" , \" o r d e r \" : 7 8 } , { \" c a s t _ i d \" : 9 9 , \" c h a r a c t e r \" : \" i k r a n c l a n l e a d e r ( u n c r e d i t e d ) \" , \" c r e d i t _ i d \" : \" 5 2 f e 4 8 0 1 9 2 5 1 4 1 6 c 7 5 0 a c b 6 3 \" , \" g e n d e r \" : 1 , \" i d \" : 1 1 8 6 0 2 7 , \" n a m e \" : \" a l i c i a v e l a - b a i l e y \" , \" o r d e r \" : 7 9 } , { \" c a s t _ i d \" : 1 0 0 , \" c h a r a c t e r \" : \" g e o l o g i s t ( u n c r e d i t e d ) \" , \" c r e d i t _ i d \" : \" 5 2 f e 4 8 0 1 9 2 5 1 4 1 6 c 7 5 0 a c b 6 7 \" , \" g e n d e r \" : 0 , \" i d \" : 1 2 0 7 2 9 2 , \" n a m e \" : \" r i c h a r d w h i t e s i d e \" , \" o r d e r \" : 8 0 } , { \" c a s t _ i d \" : 1 0 1 , \" c h a r a c t e r \" : \" n a \\' v i ( u n c r e d i t e d ) \" , \" c r e d i t _ i d \" : \" 5 2 f e 4 8 0 1 9 2 5 1 4 1 6 c 7 5 0 a c b 6 b \" , \" g e n d e r \" : 0 , \" i d \" : 1 0 3 2 5 9 , \" n a m e \" : \" n i k i e z a m b o \" , \" o r d e r \" : 8 1 } , { \" c a s t _ i d \" : 1 0 2 , \" c h a r a c t e r \" : \" a m b i e n t r o o m t e c h / t r o u p e \" , \" c r e d i t _ i d \" : \" 5 2 f e 4 8 0 1 9 2 5 1 4 1 6 c 7 5 0 a c b 6 f \" , \" g e n d e r \" : 1 , \" i d \" : 4 2 2 8 6 , \" n a m e \" : \" j u l e n e r e n e e \" , \" o r d e r \" : 8 2 } ] [ { \" c r e d i t _ i d \" : \" 5 2 f e 4 8 0 0 9 2 5 1 4 1 6 c 7 5 0 a c a 2 3 \" , \" d e p a r t m e n t \" : \" e d i t i n g \" , \" g e n d e r \" : 0 , \" i d \" : 1 7 2 1 , \" j o b \" : \" e d i t o r \" , \" n a m e \" : \" s t e p h e n e . r i v k i n \" } , { \" c r e d i t _ i d \" : \" 5 3 9 c 4 7 e c c 3 a 3 6 8 1 0 e 3 0 0 1 f 8 7 \" , \" d e p a r t m e n t \" : \" a r t \" , \" g e n d e r \" : 2 , \" i d \" : 4 9 6 , \" j o b \" : \" p r o d u c t i o n d e s i g n \" , \" n a m e \" : \" r i c k c a r t e r \" } , { \" c r e d i t _ i d \" : \" 5 4 4 9 1 c 8 9 c 3 a 3 6 8 0 f b 4 0 0 1 c f 7 \" , \" d e p a r t m e n t \" : \" s o u n d \" , \" g e n d e r \" : 0 , \" i d \" : 9 0 0 , \" j o b \" : \" s o u n d d e s i g n e r \" , \" n a m e \" : \" c h r i s t o p h e r b o y e s \" } , { \" c r e d i t _ i d \" : \" 5 4 4 9 1 c b 7 0 e 0 a 2 6 7 4 8 0 0 0 1 b d 0 \" , \" d e p a r t m e n t \" : \" s o u n d \" , \" g e n d e r \" : 0 , \" i d \" : 9 0 0 , \" j o b \" : \" s u p e r v i s i n g s o u n d e d i t o r \" , \" n a m e \" : \" c h r i s t o p h e r b o y e s \" } , { \" c r e d i t _ i d \" : \" 5 3 9 c 4 a 4 c c 3 a 3 6 8 1 0 c 9 0 0 2 1 0 1 \" , \" d e p a r t m e n t \" : \" p r o d u c t i o n \" , \" g e n d e r \" : 1 , \" i d \" : 1 2 6 2 , \" j o b \" : \" c a s t i n g \" , \" n a m e \" : \" m a l i f i n n \" } , { \" c r e d i t _ i d \" : \" 5 5 4 4 e e 3 b 9 2 5 1 4 1 4 9 9 f 0 0 0 8 f c \" , \" d e p a r t m e n t \" : \" s o u n d \" , \" g e n d e r \" : 2 , \" i d \" : 1 7 2 9 , \" j o b \" : \" o r i g i n a l m u s i c c o m p o s e r \" , \" n a m e \" : \" j a m e s h o r n e r \" } , { \" c r e d i t _ i d \" : \" 5 2 f e 4 8 0 0 9 2 5 1 4 1 6 c 7 5 0 a c 9 c 3 \" , \" d e p a r t m e n t \" : \" d i r e c t i n g \" , \" g e n d e r \" : 2 , \" i d \" : 2 7 1 0 , \" j o b \" : \" d i r e c t o r \" , \" n a m e \" : \" j a m e s c a m e r o n \" } , { \" c r e d i t _ i d \" : \" 5 2 f e 4 8 0 0 9 2 5 1 4 1 6 c 7 5 0 a c 9 d 9 \" , \" d e p a r t m e n t \" : \" w r i t i n g \" , \" g e n d e r \" : 2 , \" i d \" : 2 7 1 0 , \" j o b \" : \" w r i t e r \" , \" n a m e \" : \" j a m e s c a m e r o n \" } , { \" c r e d i t _ i d \" : \" 5 2 f e 4 8 0 0 9 2 5 1 4 1 6 c 7 5 0 a c a 1 7 \" , \" d e p a r t m e n t \" : \" e d i t i n g \" , \" g e n d e r \" : 2 , \" i d \" : 2 7 1 0 , \" j o b \" : \" e d i t o r \" , \" n a m e \" : \" j a m e s c a m e r o n \" } , { \" c r e d i t _ i d \" : \" 5 2 f e 4 8 0 0 9 2 5 1 4 1 6 c 7 5 0 a c a 2 9 \" , \" d e p a r t m e n t \" : \" p r o d u c t i o n \" , \" g e n d e r \" : 2 , \" i d \" : 2 7 1 0 , \" j o b \" : \" p r o d u c e r \" , \" n a m e \" : \" j a m e s c a m e r o n \" } , { \" c r e d i t _ i d \" : \" 5 2 f e 4 8 0 0 9 2 5 1 4 1 6 c 7 5 0 a c a 3 f \" , \" d e p a r t m e n t \" : \" w r i t i n g \" , \" g e n d e r \" : 2 , \" i d \" : 2 7 1 0 , \" j o b \" : \" s c r e e n p l a y \" , \" n a m e \" : \" j a m e s c a m e r o n \" } , { \" c r e d i t _ i d \" : \" 5 3 9 c 4 9 8 7 c 3 a 3 6 8 1 0 b a 0 0 2 1 a 4 \" , \" d e p a r t m e n t \" : \" a r t \" , \" g e n d e r \" : 2 , \" i d \" : 7 2 3 6 , \" j o b \" : \" a r t d i r e c t i o n \" , \" n a m e \" : \" a n d r e w m e n z i e s \" } , { \" c r e d i t _ i d \" : \" 5 4 9 5 9 8 c 3 c 3 a 3 6 8 6 a e 9 0 0 4 3 8 3 \" , \" d e p a r t m e n t \" : \" v i s u a l e f f e c t s \" , \" g e n d e r \" : 0 , \" i d \" : 6 6 9 0 , \" j o b \" : \" v i s u a l e f f e c t s p r o d u c e r \" , \" n a m e \" : \" j i l l b r o o k s \" } , { \" c r e d i t _ i d \" : \" 5 2 f e 4 8 0 0 9 2 5 1 4 1 6 c 7 5 0 a c a 4 b \" , \" d e p a r t m e n t \" : \" p r o d u c t i o n \" , \" g e n d e r \" : 1 , \" i d \" : 6 3 4 7 , \" j o b \" : \" c a s t i n g \" , \" n a m e \" : \" m a r g e r y s i m k i n \" } , { \" c r e d i t _ i d \" : \" 5 7 0 b 6 f 4 1 9 2 5 1 4 1 7 d a 7 0 0 3 2 f e \" , \" d e p a r t m e n t \" : \" a r t \" , \" g e n d e r \" : 2 , \" i d \" : 6 8 7 8 , \" j o b \" : \" s u p e r v i s i n g a r t d i r e c t o r \" , \" n a m e \" : \" k e v i n i s h i o k a \" } , { \" c r e d i t _ i d \" : \" 5 4 9 5 a 0 f a c 3 a 3 6 8 6 a e 9 0 0 4 4 6 8 \" , \" d e p a r t m e n t \" : \" s o u n d \" , \" g e n d e r \" : 0 , \" i d \" : 6 8 8 3 , \" j o b \" : \" m u s i c e d i t o r \" , \" n a m e \" : \" d i c k b e r n s t e i n \" } , { \" c r e d i t _ i d \" : \" 5 4 9 5 9 7 0 6 c 3 a 3 6 8 6 a f 3 0 0 3 e 8 1 \" , \" d e p a r t m e n t \" : \" s o u n d \" , \" g e n d e r \" : 0 , \" i d \" : 8 1 5 9 , \" j o b \" : \" s o u n d e f f e c t s e d i t o r \" , \" n a m e \" : \" s h a n n o n m i l l s \" } , { \" c r e d i t _ i d \" : \" 5 4 4 9 1 d 5 8 c 3 a 3 6 8 0 f b 1 0 0 1 c c b \" , \" d e p a r t m e n t \" : \" s o u n d \" , \" g e n d e r \" : 0 , \" i d \" : 8 1 6 0 , \" j o b \" : \" f o l e y \" , \" n a m e \" : \" d e n n i e t h o r p e \" } , { \" c r e d i t _ i d \" : \" 5 4 4 9 1 d 6 c c 3 a 3 6 8 0 f a 5 0 0 1 b 2 c \" , \" d e p a r t m e n t \" : \" s o u n d \" , \" g e n d e r \" : 0 , \" i d \" : 8 1 6 3 , \" j o b \" : \" f o l e y \" , \" n a m e \" : \" j a n a v a n c e \" } , { \" c r e d i t _ i d \" : \" 5 2 f e 4 8 0 0 9 2 5 1 4 1 6 c 7 5 0 a c a 5 7 \" , \" d e p a r t m e n t \" : \" c o s t u m e & m a k e - u p \" , \" g e n d e r \" : 1 , \" i d \" : 8 5 2 7 , \" j o b \" : \" c o s t u m e d e s i g n \" , \" n a m e \" : \" d e b o r a h l y n n s c o t t \" } , { \" c r e d i t _ i d \" : \" 5 2 f e 4 8 0 0 9 2 5 1 4 1 6 c 7 5 0 a c a 2 f \" , \" d e p a r t m e n t \" : \" p r o d u c t i o n \" , \" g e n d e r \" : 2 , \" i d \" : 8 5 2 9 , \" j o b \" : \" p r o d u c e r \" , \" n a m e \" : \" j o n l a n d a u \" } , { \" c r e d i t _ i d \" : \" 5 3 9 c 4 9 3 7 c 3 a 3 6 8 1 0 b a 0 0 2 1 9 4 \" , \" d e p a r t m e n t \" : \" a r t \" , \" g e n d e r \" : 0 , \" i d \" : 9 6 1 8 , \" j o b \" : \" a r t d i r e c t i o n \" , \" n a m e \" : \" s e a n h a w o r t h \" } , { \" c r e d i t _ i d \" : \" 5 3 9 c 4 9 b 6 c 3 a 3 6 8 1 0 c 1 0 0 2 0 e 6 \" , \" d e p a r t m e n t \" : \" a r t \" , \" g e n d e r \" : 1 , \" i d \" : 1 2 6 5 3 , \" j o b \" : \" s e t d e c o r a t i o n \" , \" n a m e \" : \" k i m s i n c l a i r \" } , { \" c r e d i t _ i d \" : \" 5 7 0 b 6 f 2 f 9 2 5 1 4 1 3 a 0 e 0 0 0 2 0 d \" , \" d e p a r t m e n t \" : \" a r t \" , \" g e n d e r \" : 1 , \" i d \" : 1 2 6 5 3 , \" j o b \" : \" s u p e r v i s i n g a r t d i r e c t o r \" , \" n a m e \" : \" k i m s i n c l a i r \" } , { \" c r e d i t _ i d \" : \" 5 4 4 9 1 a 6 c 0 e 0 a 2 6 7 4 8 c 0 0 1 b 1 9 \" , \" d e p a r t m e n t \" : \" a r t \" , \" g e n d e r \" : 2 , \" i d \" : 1 4 3 5 0 , \" j o b \" : \" s e t d e s i g n e r \" , \" n a m e \" : \" r i c h a r d f . m a y s \" } , { \" c r e d i t _ i d \" : \" 5 6 9 2 8 c f 4 c 3 a 3 6 8 4 c f f 0 0 2 5 c 4 \" , \" d e p a r t m e n t \" : \" p r o d u c t i o n \" , \" g e n d e r \" : 1 , \" i d \" : 2 0 2 9 4 , \" j o b \" : \" e x e c u t i v e p r o d u c e r \" , \" n a m e \" : \" l a e t a k a l o g r i d i s \" } , { \" c r e d i t _ i d \" : \" 5 2 f e 4 8 0 0 9 2 5 1 4 1 6 c 7 5 0 a c a 5 1 \" , \" d e p a r t m e n t \" : \" c o s t u m e & m a k e - u p \" , \" g e n d e r \" : 0 , \" i d \" : 1 7 6 7 5 , \" j o b \" : \" c o s t u m e d e s i g n \" , \" n a m e \" : \" m a y e s c . r u b e o \" } , { \" c r e d i t _ i d \" : \" 5 2 f e 4 8 0 0 9 2 5 1 4 1 6 c 7 5 0 a c a 1 1 \" , \" d e p a r t m e n t \" : \" c a m e r a \" , \" g e n d e r \" : 2 , \" i d \" : 1 8 2 6 5 , \" j o b \" : \" d i r e c t o r o f p h o t o g r a p h y \" , \" n a m e \" : \" m a u r o f i o r e \" } , { \" c r e d i t _ i d \" : \" 5 4 4 9 1 9 4 d 0 e 0 a 2 6 7 4 8 f 0 0 1 b 3 9 \" , \" d e p a r t m e n t \" : \" a r t \" , \" g e n d e r \" : 0 , \" i d \" : 4 2 2 8 1 , \" j o b \" : \" s e t d e s i g n e r \" , \" n a m e \" : \" s c o t t h e r b e r t s o n \" } , { \" c r e d i t _ i d \" : \" 5 2 f e 4 8 0 0 9 2 5 1 4 1 6 c 7 5 0 a c a 0 5 \" , \" d e p a r t m e n t \" : \" c r e w \" , \" g e n d e r \" : 0 , \" i d \" : 4 2 2 8 8 , \" j o b \" : \" s t u n t s \" , \" n a m e \" : \" w o o d y s c h u l t z \" } , { \" c r e d i t _ i d \" : \" 5 5 9 2 a e f b 9 2 5 1 4 1 5 2 d e 0 0 1 0 f 5 \" , \" d e p a r t m e n t \" : \" c o s t u m e & m a k e - u p \" , \" g e n d e r \" : 0 , \" i d \" : 2 9 0 6 7 , \" j o b \" : \" m a k e u p a r t i s t \" , \" n a m e \" : \" l i n d a d e v e t t a \" } , { \" c r e d i t _ i d \" : \" 5 5 9 2 a f a 4 9 2 5 1 4 1 5 2 d e 0 0 1 1 2 c \" , \" d e p a r t m e n t \" : \" c o s t u m e & m a k e - u p \" , \" g e n d e r \" : 0 , \" i d \" : 2 9 0 6 7 , \" j o b \" : \" h a i r s t y l i s t \" , \" n a m e \" : \" l i n d a d e v e t t a \" } , { \" c r e d i t _ i d \" : \" 5 4 9 5 9 e d 5 9 2 5 1 4 1 3 0 f c 0 0 2 e 5 d \" , \" d e p a r t m e n t \" : \" c a m e r a \" , \" g e n d e r \" : 2 , \" i d \" : 3 3 3 0 2 , \" j o b \" : \" c a m e r a o p e r a t o r \" , \" n a m e \" : \" r i c h a r d b l u c k \" } , { \" c r e d i t _ i d \" : \" 5 3 9 c 4 8 9 1 c 3 a 3 6 8 1 0 b a 0 0 2 1 4 7 \" , \" d e p a r t m e n t \" : \" a r t \" , \" g e n d e r \" : 2 , \" i d \" : 3 3 3 0 3 , \" j o b \" : \" a r t d i r e c t i o n \" , \" n a m e \" : \" s i m o n b r i g h t \" } , { \" c r e d i t _ i d \" : \" 5 4 9 5 9 c 0 6 9 2 5 1 4 1 7 a 8 1 0 0 1 f 3 a \" , \" d e p a r t m e n t \" : \" v i s u a l e f f e c t s \" , \" g e n d e r \" : 0 , \" i d \" : 1 1 3 1 4 5 , \" j o b \" : \" v i s u a l e f f e c t s s u p e r v i s o r \" , \" n a m e \" : \" r i c h a r d m a r t i n \" } , { \" c r e d i t _ i d \" : \" 5 4 9 5 9 a 0 d c 3 a 3 6 8 0 f f 5 0 0 2 c 8 d \" , \" d e p a r t m e n t \" : \" c r e w \" , \" g e n d e r \" : 2 , \" i d \" : 5 8 1 8 8 , \" j o b \" : \" v i s u a l e f f e c t s e d i t o r \" , \" n a m e \" : \" s t e v e r . m o o r e \" } , { \" c r e d i t _ i d \" : \" 5 2 f e 4 8 0 0 9 2 5 1 4 1 6 c 7 5 0 a c a 1 d \" , \" d e p a r t m e n t \" : \" e d i t i n g \" , \" g e n d e r \" : 2 , \" i d \" : 5 8 8 7 1 , \" j o b \" : \" e d i t o r \" , \" n a m e \" : \" j o h n r e f o u a \" } , { \" c r e d i t _ i d \" : \" 5 4 4 9 1 a 4 d c 3 a 3 6 8 0 f c 3 0 0 1 8 c a \" , \" d e p a r t m e n t \" : \" a r t \" , \" g e n d e r \" : 0 , \" i d \" : 9 2 3 5 9 , \" j o b \" : \" s e t d e s i g n e r \" , \" n a m e \" : \" k a r l j . m a r t i n \" } , { \" c r e d i t _ i d \" : \" 5 2 f e 4 8 0 0 9 2 5 1 4 1 6 c 7 5 0 a c a 3 5 \" , \" d e p a r t m e n t \" : \" c a m e r a \" , \" g e n d e r \" : 1 , \" i d \" : 7 2 2 0 1 , \" j o b \" : \" d i r e c t o r o f p h o t o g r a p h y \" , \" n a m e \" : \" c h i l i n g l i n \" } , { \" c r e d i t _ i d \" : \" 5 2 f e 4 8 0 0 9 2 5 1 4 1 6 c 7 5 0 a c 9 f f \" , \" d e p a r t m e n t \" : \" c r e w \" , \" g e n d e r \" : 0 , \" i d \" : 8 9 7 1 4 , \" j o b \" : \" s t u n t s \" , \" n a m e \" : \" i l r a m c h o i \" } , { \" c r e d i t _ i d \" : \" 5 4 9 5 9 c 5 2 9 2 5 1 4 1 6 e 2 b 0 0 4 3 9 4 \" , \" d e p a r t m e n t \" : \" v i s u a l e f f e c t s \" , \" g e n d e r \" : 2 , \" i d \" : 9 3 2 1 4 , \" j o b \" : \" v i s u a l e f f e c t s s u p e r v i s o r \" , \" n a m e \" : \" s t e v e n q u a l e \" } , { \" c r e d i t _ i d \" : \" 5 4 4 9 1 e d f 0 e 0 a 2 6 7 4 8 9 0 0 1 c 3 7 \" , \" d e p a r t m e n t \" : \" c r e w \" , \" g e n d e r \" : 1 , \" i d \" : 1 2 2 6 0 7 , \" j o b \" : \" d i a l e c t c o a c h \" , \" n a m e \" : \" c a r l a m e y e r \" } , { \" c r e d i t _ i d \" : \" 5 3 9 c 4 8 5 b c 3 a 3 6 8 6 5 3 d 0 0 1 a 3 a \" , \" d e p a r t m e n t \" : \" a r t \" , \" g e n d e r \" : 2 , \" i d \" : 1 3 2 5 8 5 , \" j o b \" : \" a r t d i r e c t i o n \" , \" n a m e \" : \" n i c k b a s s e t t \" } , { \" c r e d i t _ i d \" : \" 5 3 9 c 4 9 0 3 c 3 a 3 6 8 6 5 3 d 0 0 1 a 7 4 \" , \" d e p a r t m e n t \" : \" a r t \" , \" g e n d e r \" : 0 , \" i d \" : 1 3 2 5 9 6 , \" j o b \" : \" a r t d i r e c t i o n \" , \" n a m e \" : \" j i l l c o r m a c k \" } , { \" c r e d i t _ i d \" : \" 5 3 9 c 4 9 6 7 c 3 a 3 6 8 6 5 3 d 0 0 1 a 9 4 \" , \" d e p a r t m e n t \" : \" a r t \" , \" g e n d e r \" : 0 , \" i d \" : 1 3 2 6 0 4 , \" j o b \" : \" a r t d i r e c t i o n \" , \" n a m e \" : \" a n d y m c l a r e n \" } , { \" c r e d i t _ i d \" : \" 5 2 f e 4 8 0 0 9 2 5 1 4 1 6 c 7 5 0 a c a 4 5 \" , \" d e p a r t m e n t \" : \" c r e w \" , \" g e n d e r \" : 0 , \" i d \" : 2 3 6 6 9 6 , \" j o b \" : \" m o t i o n c a p t u r e a r t i s t \" , \" n a m e \" : \" t e r r y n o t a r y \" } , { \" c r e d i t _ i d \" : \" 5 4 9 5 9 e 0 2 c 3 a 3 6 8 0 f c 6 0 0 2 7 d 2 \" , \" d e p a r t m e n t \" : \" c r e w \" , \" g e n d e r \" : 2 , \" i d \" : 9 5 6 1 9 8 , \" j o b \" : \" s t u n t c o o r d i n a t o r \" , \" n a m e \" : \" g a r r e t t w a r r e n \" } , { \" c r e d i t _ i d \" : \" 5 4 9 5 9 c a 3 c 3 a 3 6 8 6 a e 3 0 0 4 3 8 c \" , \" d e p a r t m e n t \" : \" v i s u a l e f f e c t s \" , \" g e n d e r \" : 2 , \" i d \" : 9 5 7 8 7 4 , \" j o b \" : \" v i s u a l e f f e c t s s u p e r v i s o r \" , \" n a m e \" : \" j o n a t h a n r o t h b a r t \" } , { \" c r e d i t _ i d \" : \" 5 7 0 b 6 f 5 1 9 2 5 1 4 1 2 c 7 4 0 0 1 b 2 f \" , \" d e p a r t m e n t \" : \" a r t \" , \" g e n d e r \" : 0 , \" i d \" : 9 5 7 8 8 9 , \" j o b \" : \" s u p e r v i s i n g a r t d i r e c t o r \" , \" n a m e \" : \" s t e f a n d e c h a n t \" } , { \" c r e d i t _ i d \" : \" 5 7 0 b 6 f 6 2 c 3 a 3 6 8 0 b 7 7 0 0 7 4 6 0 \" , \" d e p a r t m e n t \" : \" a r t \" , \" g e n d e r \" : 2 , \" i d \" : 9 5 9 5 5 5 , \" j o b \" : \" s u p e r v i s i n g a r t d i r e c t o r \" , \" n a m e \" : \" t o d d c h e r n i a w s k y \" } , { \" c r e d i t _ i d \" : \" 5 3 9 c 4 a 3 a c 3 a 3 6 8 1 0 d a 0 0 2 1 c c \" , \" d e p a r t m e n t \" : \" p r o d u c t i o n \" , \" g e n d e r \" : 0 , \" i d \" : 1 0 1 6 1 7 7 , \" j o b \" : \" c a s t i n g \" , \" n a m e \" : \" m i r a n d a r i v e r s \" } , { \" c r e d i t _ i d \" : \" 5 3 9 c 4 8 2 c c 3 a 3 6 8 1 0 c 1 0 0 2 0 6 2 \" , \" d e p a r t m e n t \" : \" a r t \" , \" g e n d e r \" : 0 , \" i d \" : 1 0 3 2 5 3 6 , \" j o b \" : \" p r o d u c t i o n d e s i g n \" , \" n a m e \" : \" r o b e r t s t r o m b e r g \" } , { \" c r e d i t _ i d \" : \" 5 3 9 c 4 b 6 5 c 3 a 3 6 8 1 0 c 9 0 0 2 1 2 5 \" , \" d e p a r t m e n t \" : \" c o s t u m e & m a k e - u p \" , \" g e n d e r \" : 2 , \" i d \" : 1 0 7 1 6 8 0 , \" j o b \" : \" c o s t u m e d e s i g n \" , \" n a m e \" : \" j o h n h a r d i n g \" } , { \" c r e d i t _ i d \" : \" 5 4 9 5 9 e 6 6 9 2 5 1 4 1 3 0 f c 0 0 2 e 4 e \" , \" d e p a r t m e n t \" : \" c a m e r a \" , \" g e n d e r \" : 0 , \" i d \" : 1 1 7 7 3 6 4 , \" j o b \" : \" s t e a d i c a m o p e r a t o r \" , \" n a m e \" : \" r o b e r t o d e a n g e l i s \" } , { \" c r e d i t _ i d \" : \" 5 3 9 c 4 9 f 1 c 3 a 3 6 8 6 5 3 d 0 0 1 a a c \" , \" d e p a r t m e n t \" : \" c o s t u m e & m a k e - u p \" , \" g e n d e r \" : 2 , \" i d \" : 1 2 0 2 8 5 0 , \" j o b \" : \" m a k e u p d e p a r t m e n t h e a d \" , \" n a m e \" : \" m i k e s m i t h s o n \" } , { \" c r e d i t _ i d \" : \" 5 4 9 5 9 9 9 e c 3 a 3 6 8 6 a e 1 0 0 4 6 0 c \" , \" d e p a r t m e n t \" : \" v i s u a l e f f e c t s \" , \" g e n d e r \" : 0 , \" i d \" : 1 2 0 4 6 6 8 , \" j o b \" : \" v i s u a l e f f e c t s p r o d u c e r \" , \" n a m e \" : \" a l a i n l a l a n n e \" } , { \" c r e d i t _ i d \" : \" 5 4 9 5 9 c d f c 3 a 3 6 8 1 1 5 3 0 0 2 7 2 9 \" , \" d e p a r t m e n t \" : \" v i s u a l e f f e c t s \" , \" g e n d e r \" : 0 , \" i d \" : 1 2 0 6 4 1 0 , \" j o b \" : \" v i s u a l e f f e c t s s u p e r v i s o r \" , \" n a m e \" : \" l u c a s s a l t o n \" } , { \" c r e d i t _ i d \" : \" 5 4 9 5 9 6 2 3 9 2 5 1 4 1 7 a 8 1 0 0 1 e a e \" , \" d e p a r t m e n t \" : \" c r e w \" , \" g e n d e r \" : 0 , \" i d \" : 1 2 3 4 2 6 6 , \" j o b \" : \" p o s t p r o d u c t i o n s u p e r v i s o r \" , \" n a m e \" : \" j a n a c e t a s h j i a n \" } , { \" c r e d i t _ i d \" : \" 5 4 9 5 9 c 8 5 9 2 5 1 4 1 6 e 1 e 0 0 3 e f e \" , \" d e p a r t m e n t \" : \" v i s u a l e f f e c t s \" , \" g e n d e r \" : 0 , \" i d \" : 1 2 7 1 9 3 2 , \" j o b \" : \" v i s u a l e f f e c t s s u p e r v i s o r \" , \" n a m e \" : \" s t e p h e n r o s e n b a u m \" } , { \" c r e d i t _ i d \" : \" 5 5 9 2 a f 2 8 c 3 a 3 6 8 7 7 5 a 0 0 1 0 5 f \" , \" d e p a r t m e n t \" : \" c o s t u m e & m a k e - u p \" , \" g e n d e r \" : 0 , \" i d \" : 1 3 1 0 0 6 4 , \" j o b \" : \" m a k e u p a r t i s t \" , \" n a m e \" : \" f r a n k i e k a r e n a \" } , { \" c r e d i t _ i d \" : \" 5 3 9 c 4 a d f c 3 a 3 6 8 1 0 e 3 0 0 2 0 3 b \" , \" d e p a r t m e n t \" : \" c o s t u m e & m a k e - u p \" , \" g e n d e r \" : 1 , \" i d \" : 1 3 1 9 8 4 4 , \" j o b \" : \" c o s t u m e s u p e r v i s o r \" , \" n a m e \" : \" l i s a l o v a a s \" } , { \" c r e d i t _ i d \" : \" 5 4 9 5 9 b 5 7 9 2 5 1 4 1 6 e 2 b 0 0 4 3 7 1 \" , \" d e p a r t m e n t \" : \" v i s u a l e f f e c t s \" , \" g e n d e r \" : 0 , \" i d \" : 1 3 2 7 0 2 8 , \" j o b \" : \" v i s u a l e f f e c t s s u p e r v i s o r \" , \" n a m e \" : \" j o n a t h a n f a w k n e r \" } , { \" c r e d i t _ i d \" : \" 5 3 9 c 4 8 a 7 c 3 a 3 6 8 1 0 b 5 0 0 1 f a 7 \" , \" d e p a r t m e n t \" : \" a r t \" , \" g e n d e r \" : 0 , \" i d \" : 1 3 3 0 5 6 1 , \" j o b \" : \" a r t d i r e c t i o n \" , \" n a m e \" : \" r o b e r t b a v i n \" } , { \" c r e d i t _ i d \" : \" 5 3 9 c 4 a 7 1 c 3 a 3 6 8 1 0 d a 0 0 2 1 e 0 \" , \" d e p a r t m e n t \" : \" c o s t u m e & m a k e - u p \" , \" g e n d e r \" : 0 , \" i d \" : 1 3 3 0 5 6 7 , \" j o b \" : \" c o s t u m e s u p e r v i s o r \" , \" n a m e \" : \" a n t h o n y a l m a r a z \" } , { \" c r e d i t _ i d \" : \" 5 3 9 c 4 a 8 a c 3 a 3 6 8 1 0 b a 0 0 2 1 e 4 \" , \" d e p a r t m e n t \" : \" c o s t u m e & m a k e - u p \" , \" g e n d e r \" : 0 , \" i d \" : 1 3 3 0 5 7 0 , \" j o b \" : \" c o s t u m e s u p e r v i s o r \" , \" n a m e \" : \" c a r o l y n m . f e n t o n \" } , { \" c r e d i t _ i d \" : \" 5 3 9 c 4 a b 6 c 3 a 3 6 8 1 0 d a 0 0 2 1 f 0 \" , \" d e p a r t m e n t \" : \" c o s t u m e & m a k e - u p \" , \" g e n d e r \" : 0 , \" i d \" : 1 3 3 0 5 7 4 , \" j o b \" : \" c o s t u m e s u p e r v i s o r \" , \" n a m e \" : \" b e t h k o e n i g s b e r g \" } , { \" c r e d i t _ i d \" : \" 5 4 4 9 1 a b 7 0 e 0 a 2 6 7 4 8 0 0 0 1 b a 2 \" , \" d e p a r t m e n t \" : \" a r t \" , \" g e n d e r \" : 0 , \" i d \" : 1 3 3 6 1 9 1 , \" j o b \" : \" s e t d e s i g n e r \" , \" n a m e \" : \" s a m p a g e \" } , { \" c r e d i t _ i d \" : \" 5 4 4 9 1 9 d 9 c 3 a 3 6 8 0 f c 3 0 0 1 8 b d \" , \" d e p a r t m e n t \" : \" a r t \" , \" g e n d e r \" : 0 , \" i d \" : 1 3 3 9 4 4 1 , \" j o b \" : \" s e t d e s i g n e r \" , \" n a m e \" : \" t e x k a d o n a g a \" } , { \" c r e d i t _ i d \" : \" 5 4 4 9 1 c f 5 0 e 0 a 2 6 7 4 8 3 0 0 1 b 0 c \" , \" d e p a r t m e n t \" : \" e d i t i n g \" , \" g e n d e r \" : 0 , \" i d \" : 1 3 5 2 4 2 2 , \" j o b \" : \" d i a l o g u e e d i t o r \" , \" n a m e \" : \" k i m f o s c a t o \" } , { \" c r e d i t _ i d \" : \" 5 4 4 9 1 9 f 4 0 e 0 a 2 6 7 4 8 c 0 0 1 b 0 9 \" , \" d e p a r t m e n t \" : \" a r t \" , \" g e n d e r \" : 0 , \" i d \" : 1 3 5 2 9 6 2 , \" j o b \" : \" s e t d e s i g n e r \" , \" n a m e \" : \" t a m m y s . l e e \" } , { \" c r e d i t _ i d \" : \" 5 4 9 5 a 1 1 5 c 3 a 3 6 8 0 f f 5 0 0 2 d 7 1 \" , \" d e p a r t m e n t \" : \" c r e w \" , \" g e n d e r \" : 0 , \" i d \" : 1 3 5 7 0 7 0 , \" j o b \" : \" t r a n s p o r t a t i o n c o o r d i n a t o r \" , \" n a m e \" : \" d e n n y c a i r a \" } , { \" c r e d i t _ i d \" : \" 5 4 9 5 a 1 2 f 9 2 5 1 4 1 3 0 f c 0 0 2 e 9 4 \" , \" d e p a r t m e n t \" : \" c r e w \" , \" g e n d e r \" : 0 , \" i d \" : 1 3 5 7 0 7 1 , \" j o b \" : \" t r a n s p o r t a t i o n c o o r d i n a t o r \" , \" n a m e \" : \" j a m e s w a i t k u s \" } , { \" c r e d i t _ i d \" : \" 5 4 9 5 9 7 6 f c 3 a 3 6 8 1 1 5 3 0 0 2 6 b 0 \" , \" d e p a r t m e n t \" : \" s o u n d \" , \" g e n d e r \" : 0 , \" i d \" : 1 3 6 0 1 0 3 , \" j o b \" : \" s u p e r v i s i n g s o u n d e d i t o r \" , \" n a m e \" : \" a d d i s o n t e a g u e \" } , { \" c r e d i t _ i d \" : \" 5 4 4 9 1 8 3 7 c 3 a 3 6 8 0 f b 1 0 0 1 c 5 a \" , \" d e p a r t m e n t \" : \" a r t \" , \" g e n d e r \" : 2 , \" i d \" : 1 3 7 6 8 8 7 , \" j o b \" : \" s e t d e s i g n e r \" , \" n a m e \" : \" c . s c o t t b a k e r \" } , { \" c r e d i t _ i d \" : \" 5 4 4 9 1 8 7 8 c 3 a 3 6 8 0 f b 4 0 0 1 c 9 d \" , \" d e p a r t m e n t \" : \" a r t \" , \" g e n d e r \" : 0 , \" i d \" : 1 3 7 6 8 8 8 , \" j o b \" : \" s e t d e s i g n e r \" , \" n a m e \" : \" l u k e c a s k a \" } , { \" c r e d i t _ i d \" : \" 5 4 4 9 1 8 d a c 3 a 3 6 8 0 f a 5 0 0 1 a e 0 \" , \" d e p a r t m e n t \" : \" a r t \" , \" g e n d e r \" : 0 , \" i d \" : 1 3 7 6 8 8 9 , \" j o b \" : \" s e t d e s i g n e r \" , \" n a m e \" : \" d a v i d c h o w \" } , { \" c r e d i t _ i d \" : \" 5 4 4 9 1 9 1 1 0 e 0 a 2 6 7 4 8 6 0 0 1 b 6 8 \" , \" d e p a r t m e n t \" : \" a r t \" , \" g e n d e r \" : 0 , \" i d \" : 1 3 7 6 8 9 0 , \" j o b \" : \" s e t d e s i g n e r \" , \" n a m e \" : \" j o n a t h a n d y e r \" } , { \" c r e d i t _ i d \" : \" 5 4 4 9 1 9 6 7 c 3 a 3 6 8 0 f a a 0 0 1 b 5 e \" , \" d e p a r t m e n t \" : \" a r t \" , \" g e n d e r \" : 0 , \" i d \" : 1 3 7 6 8 9 1 , \" j o b \" : \" s e t d e s i g n e r \" , \" n a m e \" : \" j o s e p h h i u r a \" } , { \" c r e d i t _ i d \" : \" 5 4 4 9 1 9 9 7 c 3 a 3 6 8 0 f b 1 0 0 1 c 8 a \" , \" d e p a r t m e n t \" : \" a r t \" , \" g e n d e r \" : 0 , \" i d \" : 1 3 7 6 8 9 2 , \" j o b \" : \" a r t d e p a r t m e n t c o o r d i n a t o r \" , \" n a m e \" : \" r e b e c c a j e l l i e \" } , { \" c r e d i t _ i d \" : \" 5 4 4 9 1 9 b a 0 e 0 a 2 6 7 4 8 f 0 0 1 b 4 2 \" , \" d e p a r t m e n t \" : \" a r t \" , \" g e n d e r \" : 0 , \" i d \" : 1 3 7 6 8 9 3 , \" j o b \" : \" s e t d e s i g n e r \" , \" n a m e \" : \" r o b e r t a n d r e w j o h n s o n \" } , { \" c r e d i t _ i d \" : \" 5 4 4 9 1 b 1 d c 3 a 3 6 8 0 f a a 0 0 1 b 8 c \" , \" d e p a r t m e n t \" : \" a r t \" , \" g e n d e r \" : 0 , \" i d \" : 1 3 7 6 8 9 5 , \" j o b \" : \" a s s i s t a n t a r t d i r e c t o r \" , \" n a m e \" : \" m i k e s t a s s i \" } , { \" c r e d i t _ i d \" : \" 5 4 4 9 1 b 7 9 c 3 a 3 6 8 0 f b b 0 0 1 8 2 6 \" , \" d e p a r t m e n t \" : \" a r t \" , \" g e n d e r \" : 0 , \" i d \" : 1 3 7 6 8 9 7 , \" j o b \" : \" c o n s t r u c t i o n c o o r d i n a t o r \" , \" n a m e \" : \" j o h n v i l l a r i n o \" } , { \" c r e d i t _ i d \" : \" 5 4 4 9 1 b a e c 3 a 3 6 8 0 f b 4 0 0 1 c e 6 \" , \" d e p a r t m e n t \" : \" a r t \" , \" g e n d e r \" : 2 , \" i d \" : 1 3 7 6 8 9 8 , \" j o b \" : \" a s s i s t a n t a r t d i r e c t o r \" , \" n a m e \" : \" j e f f r e y w i s n i e w s k i \" } , { \" c r e d i t _ i d \" : \" 5 4 4 9 1 d 2 f c 3 a 3 6 8 0 f b 4 0 0 1 d 0 7 \" , \" d e p a r t m e n t \" : \" e d i t i n g \" , \" g e n d e r \" : 0 , \" i d \" : 1 3 7 6 8 9 9 , \" j o b \" : \" d i a l o g u e e d i t o r \" , \" n a m e \" : \" c h e r y l n a r d i \" } , { \" c r e d i t _ i d \" : \" 5 4 4 9 1 d 8 6 c 3 a 3 6 8 0 f a 5 0 0 1 b 2 f \" , \" d e p a r t m e n t \" : \" e d i t i n g \" , \" g e n d e r \" : 0 , \" i d \" : 1 3 7 6 9 0 1 , \" j o b \" : \" d i a l o g u e e d i t o r \" , \" n a m e \" : \" m a r s h a l l w i n n \" } , { \" c r e d i t _ i d \" : \" 5 4 4 9 1 d 9 d c 3 a 3 6 8 0 f a a 0 0 1 b b 0 \" , \" d e p a r t m e n t \" : \" s o u n d \" , \" g e n d e r \" : 0 , \" i d \" : 1 3 7 6 9 0 2 , \" j o b \" : \" s u p e r v i s i n g s o u n d e d i t o r \" , \" n a m e \" : \" g w e n d o l y n y a t e s w h i t t l e \" } , { \" c r e d i t _ i d \" : \" 5 4 4 9 1 d c 1 0 e 0 a 2 6 7 4 8 6 0 0 1 b c e \" , \" d e p a r t m e n t \" : \" s o u n d \" , \" g e n d e r \" : 0 , \" i d \" : 1 3 7 6 9 0 3 , \" j o b \" : \" s o u n d r e - r e c o r d i n g m i x e r \" , \" n a m e \" : \" w i l l i a m s t e i n \" } , { \" c r e d i t _ i d \" : \" 5 4 4 9 1 f 5 0 0 e 0 a 2 6 7 4 7 c 0 0 1 c 0 7 \" , \" d e p a r t m e n t \" : \" c r e w \" , \" g e n d e r \" : 0 , \" i d \" : 1 3 7 6 9 0 9 , \" j o b \" : \" c h o r e o g r a p h e r \" , \" n a m e \" : \" l u l a w a s h i n g t o n \" } , { \" c r e d i t _ i d \" : \" 5 4 9 5 9 9 2 3 9 2 5 1 4 1 2 c 4 e 0 0 2 a 2 e \" , \" d e p a r t m e n t \" : \" v i s u a l e f f e c t s \" , \" g e n d e r \" : 0 , \" i d \" : 1 3 9 1 6 9 2 , \" j o b \" : \" v i s u a l e f f e c t s p r o d u c e r \" , \" n a m e \" : \" c h r i s d e l c o n t e \" } , { \" c r e d i t _ i d \" : \" 5 4 9 5 9 d 5 4 c 3 a 3 6 8 3 1 b 8 0 0 1 d 9 a \" , \" d e p a r t m e n t \" : \" v i s u a l e f f e c t s \" , \" g e n d e r \" : 2 , \" i d \" : 1 3 9 1 6 9 5 , \" j o b \" : \" v i s u a l e f f e c t s s u p e r v i s o r \" , \" n a m e \" : \" r . c h r i s t o p h e r w h i t e \" } , { \" c r e d i t _ i d \" : \" 5 4 9 5 9 b d f 9 2 5 1 4 1 2 c 4 e 0 0 2 a 6 6 \" , \" d e p a r t m e n t \" : \" v i s u a l e f f e c t s \" , \" g e n d e r \" : 0 , \" i d \" : 1 3 9 4 0 7 0 , \" j o b \" : \" v i s u a l e f f e c t s s u p e r v i s o r \" , \" n a m e \" : \" d a n l e m m o n \" } , { \" c r e d i t _ i d \" : \" 5 4 9 5 9 7 1 d 9 2 5 1 4 1 3 2 e d 0 0 2 9 2 2 \" , \" d e p a r t m e n t \" : \" s o u n d \" , \" g e n d e r \" : 0 , \" i d \" : 1 3 9 4 1 2 9 , \" j o b \" : \" s o u n d e f f e c t s e d i t o r \" , \" n a m e \" : \" t i m n i e l s e n \" } , { \" c r e d i t _ i d \" : \" 5 5 9 2 b 2 5 7 9 2 5 1 4 1 5 2 c c 0 0 1 1 a a \" , \" d e p a r t m e n t \" : \" c r e w \" , \" g e n d e r \" : 0 , \" i d \" : 1 3 9 4 2 8 6 , \" j o b \" : \" c g s u p e r v i s o r \" , \" n a m e \" : \" m i c h a e l m u l h o l l a n d \" } , { \" c r e d i t _ i d \" : \" 5 4 9 5 9 a 3 2 9 2 5 1 4 1 6 e 2 b 0 0 4 3 5 5 \" , \" d e p a r t m e n t \" : \" c r e w \" , \" g e n d e r \" : 0 , \" i d \" : 1 3 9 4 7 5 0 , \" j o b \" : \" v i s u a l e f f e c t s e d i t o r \" , \" n a m e \" : \" t h o m a s n i t t m a n n \" } , { \" c r e d i t _ i d \" : \" 5 4 9 5 9 d 6 d c 3 a 3 6 8 6 a e 9 0 0 4 4 0 1 \" , \" d e p a r t m e n t \" : \" v i s u a l e f f e c t s \" , \" g e n d e r \" : 0 , \" i d \" : 1 3 9 4 7 5 5 , \" j o b \" : \" v i s u a l e f f e c t s s u p e r v i s o r \" , \" n a m e \" : \" e d s o n w i l l i a m s \" } , { \" c r e d i t _ i d \" : \" 5 4 9 5 a 0 8 f c 3 a 3 6 8 6 a e 3 0 0 4 4 1 c \" , \" d e p a r t m e n t \" : \" e d i t i n g \" , \" g e n d e r \" : 0 , \" i d \" : 1 3 9 4 9 5 3 , \" j o b \" : \" d i g i t a l i n t e r m e d i a t e \" , \" n a m e \" : \" c h r i s t i n e c a r r \" } , { \" c r e d i t _ i d \" : \" 5 5 4 0 2 d 6 5 9 2 5 1 4 1 3 d 6 d 0 0 0 2 4 9 \" , \" d e p a r t m e n t \" : \" v i s u a l e f f e c t s \" , \" g e n d e r \" : 0 , \" i d \" : 1 3 9 5 2 6 9 , \" j o b \" : \" v i s u a l e f f e c t s s u p e r v i s o r \" , \" n a m e \" : \" j o h n b r u n o \" } , { \" c r e d i t _ i d \" : \" 5 4 9 5 9 e 7 b 9 2 5 1 4 1 6 e 1 e 0 0 3 f 3 e \" , \" d e p a r t m e n t \" : \" c a m e r a \" , \" g e n d e r \" : 0 , \" i d \" : 1 3 9 8 9 7 0 , \" j o b \" : \" s t e a d i c a m o p e r a t o r \" , \" n a m e \" : \" d a v i d e m m e r i c h s \" } , { \" c r e d i t _ i d \" : \" 5 4 9 5 9 7 3 4 c 3 a 3 6 8 6 a e 1 0 0 4 5 e 0 \" , \" d e p a r t m e n t \" : \" s o u n d \" , \" g e n d e r \" : 0 , \" i d \" : 1 4 0 0 9 0 6 , \" j o b \" : \" s o u n d e f f e c t s e d i t o r \" , \" n a m e \" : \" c h r i s t o p h e r s c a r a b o s i o \" } , { \" c r e d i t _ i d \" : \" 5 4 9 5 9 5 d d 9 2 5 1 4 1 3 0 f c 0 0 2 d 7 9 \" , \" d e p a r t m e n t \" : \" p r o d u c t i o n \" , \" g e n d e r \" : 0 , \" i d \" : 1 4 0 1 7 8 4 , \" j o b \" : \" p r o d u c t i o n s u p e r v i s o r \" , \" n a m e \" : \" j e n n i f e r t e v e s \" } , { \" c r e d i t _ i d \" : \" 5 4 9 5 9 6 0 0 9 2 5 1 4 1 3 a f 7 0 0 2 8 c c \" , \" d e p a r t m e n t \" : \" p r o d u c t i o n \" , \" g e n d e r \" : 0 , \" i d \" : 1 4 0 1 7 8 5 , \" j o b \" : \" p r o d u c t i o n m a n a g e r \" , \" n a m e \" : \" b r i g i t t e y o r k e \" } , { \" c r e d i t _ i d \" : \" 5 4 9 5 9 6 e 8 9 2 5 1 4 1 3 0 f c 0 0 2 d 9 9 \" , \" d e p a r t m e n t \" : \" s o u n d \" , \" g e n d e r \" : 0 , \" i d \" : 1 4 0 1 7 8 6 , \" j o b \" : \" s o u n d e f f e c t s e d i t o r \" , \" n a m e \" : \" k e n f i s c h e r \" } , { \" c r e d i t _ i d \" : \" 5 4 9 5 9 8 2 2 9 2 5 1 4 1 2 c 4 e 0 0 2 a 1 c \" , \" d e p a r t m e n t \" : \" c r e w \" , \" g e n d e r \" : 0 , \" i d \" : 1 4 0 1 7 8 7 , \" j o b \" : \" s p e c i a l e f f e c t s c o o r d i n a t o r \" , \" n a m e \" : \" i a i n h u t t o n \" } , { \" c r e d i t _ i d \" : \" 5 4 9 5 9 8 3 4 9 2 5 1 4 1 6 e 2 b 0 0 4 3 2 b \" , \" d e p a r t m e n t \" : \" c r e w \" , \" g e n d e r \" : 0 , \" i d \" : 1 4 0 1 7 8 8 , \" j o b \" : \" s p e c i a l e f f e c t s c o o r d i n a t o r \" , \" n a m e \" : \" s t e v e i n g r a m \" } , { \" c r e d i t _ i d \" : \" 5 4 9 5 9 9 0 5 c 3 a 3 6 8 6 a e 3 0 0 4 3 2 4 \" , \" d e p a r t m e n t \" : \" v i s u a l e f f e c t s \" , \" g e n d e r \" : 0 , \" i d \" : 1 4 0 1 7 8 9 , \" j o b \" : \" v i s u a l e f f e c t s p r o d u c e r \" , \" n a m e \" : \" j o y c e c o x \" } , { \" c r e d i t _ i d \" : \" 5 4 9 5 9 9 4 b 9 2 5 1 4 1 3 2 e d 0 0 2 9 5 1 \" , \" d e p a r t m e n t \" : \" v i s u a l e f f e c t s \" , \" g e n d e r \" : 0 , \" i d \" : 1 4 0 1 7 9 0 , \" j o b \" : \" v i s u a l e f f e c t s p r o d u c e r \" , \" n a m e \" : \" j e n n y f o s t e r \" } , { \" c r e d i t _ i d \" : \" 5 4 9 5 9 9 c b c 3 a 3 6 8 6 a e 1 0 0 4 6 1 3 \" , \" d e p a r t m e n t \" : \" c r e w \" , \" g e n d e r \" : 0 , \" i d \" : 1 4 0 1 7 9 1 , \" j o b \" : \" v i s u a l e f f e c t s e d i t o r \" , \" n a m e \" : \" c h r i s t o p h e r m a r i n o \" } , { \" c r e d i t _ i d \" : \" 5 4 9 5 9 9 f 2 c 3 a 3 6 8 6 a e 1 0 0 4 6 1 e \" , \" d e p a r t m e n t \" : \" c r e w \" , \" g e n d e r \" : 0 , \" i d \" : 1 4 0 1 7 9 2 , \" j o b \" : \" v i s u a l e f f e c t s e d i t o r \" , \" n a m e \" : \" j i m m i l t o n \" } , { \" c r e d i t _ i d \" : \" 5 4 9 5 9 a 5 1 c 3 a 3 6 8 6 a f 3 0 0 3 e b 5 \" , \" d e p a r t m e n t \" : \" v i s u a l e f f e c t s \" , \" g e n d e r \" : 0 , \" i d \" : 1 4 0 1 7 9 3 , \" j o b \" : \" v i s u a l e f f e c t s p r o d u c e r \" , \" n a m e \" : \" c y n d i o c h s \" } , { \" c r e d i t _ i d \" : \" 5 4 9 5 9 a 7 c c 3 a 3 6 8 1 1 5 3 0 0 2 6 f 4 \" , \" d e p a r t m e n t \" : \" c r e w \" , \" g e n d e r \" : 0 , \" i d \" : 1 4 0 1 7 9 4 , \" j o b \" : \" v i s u a l e f f e c t s e d i t o r \" , \" n a m e \" : \" l u c a s p u t n a m \" } , { \" c r e d i t _ i d \" : \" 5 4 9 5 9 b 9 1 c 3 a 3 6 8 0 f f 5 0 0 2 c b 4 \" , \" d e p a r t m e n t \" : \" v i s u a l e f f e c t s \" , \" g e n d e r \" : 0 , \" i d \" : 1 4 0 1 7 9 5 , \" j o b \" : \" v i s u a l e f f e c t s s u p e r v i s o r \" , \" n a m e \" : \" a n t h o n y \\' m a x \\' i v i n s \" } , { \" c r e d i t _ i d \" : \" 5 4 9 5 9 b b 6 9 2 5 1 4 1 2 c 4 e 0 0 2 a 5 f \" , \" d e p a r t m e n t \" : \" v i s u a l e f f e c t s \" , \" g e n d e r \" : 0 , \" i d \" : 1 4 0 1 7 9 6 , \" j o b \" : \" v i s u a l e f f e c t s s u p e r v i s o r \" , \" n a m e \" : \" j o h n k n o l l \" } , { \" c r e d i t _ i d \" : \" 5 4 9 5 9 c b b c 3 a 3 6 8 6 a e 3 0 0 4 3 9 1 \" , \" d e p a r t m e n t \" : \" v i s u a l e f f e c t s \" , \" g e n d e r \" : 2 , \" i d \" : 1 4 0 1 7 9 9 , \" j o b \" : \" v i s u a l e f f e c t s s u p e r v i s o r \" , \" n a m e \" : \" e r i c s a i n d o n \" } , { \" c r e d i t _ i d \" : \" 5 4 9 5 9 d 0 6 c 3 a 3 6 8 6 a e 9 0 0 4 3 f 6 \" , \" d e p a r t m e n t \" : \" v i s u a l e f f e c t s \" , \" g e n d e r \" : 0 , \" i d \" : 1 4 0 1 8 0 0 , \" j o b \" : \" v i s u a l e f f e c t s s u p e r v i s o r \" , \" n a m e \" : \" w a y n e s t a b l e s \" } , { \" c r e d i t _ i d \" : \" 5 4 9 5 9 d 2 5 9 2 5 1 4 1 6 e 1 e 0 0 3 f 1 1 \" , \" d e p a r t m e n t \" : \" v i s u a l e f f e c t s \" , \" g e n d e r \" : 0 , \" i d \" : 1 4 0 1 8 0 1 , \" j o b \" : \" v i s u a l e f f e c t s s u p e r v i s o r \" , \" n a m e \" : \" d a v i d s t i n n e t t \" } , { \" c r e d i t _ i d \" : \" 5 4 9 5 9 d b 4 9 2 5 1 4 1 3 a f 7 0 0 2 9 7 5 \" , \" d e p a r t m e n t \" : \" v i s u a l e f f e c t s \" , \" g e n d e r \" : 0 , \" i d \" : 1 4 0 1 8 0 3 , \" j o b \" : \" v i s u a l e f f e c t s s u p e r v i s o r \" , \" n a m e \" : \" g u y w i l l i a m s \" } , { \" c r e d i t _ i d \" : \" 5 4 9 5 9 d e 4 c 3 a 3 6 8 1 1 5 3 0 0 2 7 5 0 \" , \" d e p a r t m e n t \" : \" c r e w \" , \" g e n d e r \" : 0 , \" i d \" : 1 4 0 1 8 0 4 , \" j o b \" : \" s t u n t c o o r d i n a t o r \" , \" n a m e \" : \" s t u a r t t h o r p \" } , { \" c r e d i t _ i d \" : \" 5 4 9 5 9 e f 2 c 3 a 3 6 8 0 f c 6 0 0 2 7 f 2 \" , \" d e p a r t m e n t \" : \" l i g h t i n g \" , \" g e n d e r \" : 0 , \" i d \" : 1 4 0 1 8 0 5 , \" j o b \" : \" b e s t b o y e l e c t r i c \" , \" n a m e \" : \" g i l e s c o b u r n \" } , { \" c r e d i t _ i d \" : \" 5 4 9 5 9 f 0 7 c 3 a 3 6 8 0 f c 6 0 0 2 7 f 9 \" , \" d e p a r t m e n t \" : \" c a m e r a \" , \" g e n d e r \" : 2 , \" i d \" : 1 4 0 1 8 0 6 , \" j o b \" : \" s t i l l p h o t o g r a p h e r \" , \" n a m e \" : \" m a r k f e l l m a n \" } , { \" c r e d i t _ i d \" : \" 5 4 9 5 9 f 4 7 c 3 a 3 6 8 1 1 5 3 0 0 2 7 7 4 \" , \" d e p a r t m e n t \" : \" l i g h t i n g \" , \" g e n d e r \" : 0 , \" i d \" : 1 4 0 1 8 0 7 , \" j o b \" : \" l i g h t i n g t e c h n i c i a n \" , \" n a m e \" : \" s c o t t s p r a g u e \" } , { \" c r e d i t _ i d \" : \" 5 4 9 5 9 f 8 c c 3 a 3 6 8 3 1 b 8 0 0 1 d f 2 \" , \" d e p a r t m e n t \" : \" v i s u a l e f f e c t s \" , \" g e n d e r \" : 0 , \" i d \" : 1 4 0 1 8 0 8 , \" j o b \" : \" a n i m a t i o n d i r e c t o r \" , \" n a m e \" : \" j e r e m y h o l l o b o n \" } , { \" c r e d i t _ i d \" : \" 5 4 9 5 9 f a 0 c 3 a 3 6 8 3 1 b 8 0 0 1 d f b \" , \" d e p a r t m e n t \" : \" v i s u a l e f f e c t s \" , \" g e n d e r \" : 0 , \" i d \" : 1 4 0 1 8 0 9 , \" j o b \" : \" a n i m a t i o n d i r e c t o r \" , \" n a m e \" : \" o r l a n d o m e u n i e r \" } , { \" c r e d i t _ i d \" : \" 5 4 9 5 9 f b 6 c 3 a 3 6 8 6 a f 3 0 0 3 f 5 4 \" , \" d e p a r t m e n t \" : \" v i s u a l e f f e c t s \" , \" g e n d e r \" : 0 , \" i d \" : 1 4 0 1 8 1 0 , \" j o b \" : \" a n i m a t i o n d i r e c t o r \" , \" n a m e \" : \" t a i s u k e t a n i m u r a \" } , { \" c r e d i t _ i d \" : \" 5 4 9 5 9 f d 2 c 3 a 3 6 8 3 1 b 8 0 0 1 e 0 2 \" , \" d e p a r t m e n t \" : \" c o s t u m e & m a k e - u p \" , \" g e n d e r \" : 0 , \" i d \" : 1 4 0 1 8 1 2 , \" j o b \" : \" s e t c o s t u m e r \" , \" n a m e \" : \" l i l i a m i s h e l a c e v e d o \" } , { \" c r e d i t _ i d \" : \" 5 4 9 5 9 f f 9 c 3 a 3 6 8 6 a e 3 0 0 4 4 0 c \" , \" d e p a r t m e n t \" : \" c o s t u m e & m a k e - u p \" , \" g e n d e r \" : 0 , \" i d \" : 1 4 0 1 8 1 4 , \" j o b \" : \" s e t c o s t u m e r \" , \" n a m e \" : \" a l e j a n d r o m . h e r n a n d e z \" } , { \" c r e d i t _ i d \" : \" 5 4 9 5 a 0 d d c 3 a 3 6 8 6 a e 1 0 0 4 6 f e \" , \" d e p a r t m e n t \" : \" e d i t i n g \" , \" g e n d e r \" : 0 , \" i d \" : 1 4 0 1 8 1 5 , \" j o b \" : \" d i g i t a l i n t e r m e d i a t e \" , \" n a m e \" : \" m a r v i n h a l l \" } , { \" c r e d i t _ i d \" : \" 5 4 9 5 a 1 f 7 c 3 a 3 6 8 6 a e 3 0 0 4 4 4 3 \" , \" d e p a r t m e n t \" : \" p r o d u c t i o n \" , \" g e n d e r \" : 0 , \" i d \" : 1 4 0 1 8 1 6 , \" j o b \" : \" p u b l i c i s t \" , \" n a m e \" : \" j u d y a l l e y \" } , { \" c r e d i t _ i d \" : \" 5 5 9 2 b 2 9 f c 3 a 3 6 8 6 9 d 1 0 0 0 0 2 f \" , \" d e p a r t m e n t \" : \" c r e w \" , \" g e n d e r \" : 0 , \" i d \" : 1 4 1 8 3 8 1 , \" j o b \" : \" c g s u p e r v i s o r \" , \" n a m e \" : \" m i k e p e r r y \" } , { \" c r e d i t _ i d \" : \" 5 5 9 2 b 2 3 a 9 2 5 1 4 1 5 d f 8 0 0 1 0 8 1 \" , \" d e p a r t m e n t \" : \" c r e w \" , \" g e n d e r \" : 0 , \" i d \" : 1 4 2 6 8 5 4 , \" j o b \" : \" c g s u p e r v i s o r \" , \" n a m e \" : \" a n d r e w m o r l e y \" } , { \" c r e d i t _ i d \" : \" 5 5 4 9 1 e 1 1 9 2 5 1 4 1 0 4 c 4 0 0 0 2 d 8 \" , \" d e p a r t m e n t \" : \" a r t \" , \" g e n d e r \" : 0 , \" i d \" : 1 4 3 8 9 0 1 , \" j o b \" : \" c o n c e p t u a l d e s i g n \" , \" n a m e \" : \" s e t h e n g s t r o m \" } , { \" c r e d i t _ i d \" : \" 5 5 2 5 d 5 8 0 9 2 5 1 4 1 7 2 7 6 0 0 2 b 0 6 \" , \" d e p a r t m e n t \" : \" c r e w \" , \" g e n d e r \" : 0 , \" i d \" : 1 4 4 7 3 6 2 , \" j o b \" : \" v i s u a l e f f e c t s a r t d i r e c t o r \" , \" n a m e \" : \" e r i c o l i v e r \" } , { \" c r e d i t _ i d \" : \" 5 5 4 4 2 7 c a 9 2 5 1 4 1 5 8 6 5 0 0 3 1 2 a \" , \" d e p a r t m e n t \" : \" v i s u a l e f f e c t s \" , \" g e n d e r \" : 0 , \" i d \" : 1 4 4 7 5 0 3 , \" j o b \" : \" m o d e l i n g \" , \" n a m e \" : \" m a t s u n e s u z u k i \" } , { \" c r e d i t _ i d \" : \" 5 5 1 9 0 6 8 8 9 2 5 1 4 1 5 a a b 0 0 1 c 8 8 \" , \" d e p a r t m e n t \" : \" a r t \" , \" g e n d e r \" : 0 , \" i d \" : 1 4 4 7 5 2 4 , \" j o b \" : \" a r t d e p a r t m e n t m a n a g e r \" , \" n a m e \" : \" p a u l t o b i n \" } , { \" c r e d i t _ i d \" : \" 5 5 9 2 a f 8 4 9 2 5 1 4 1 5 2 c c 0 0 1 0 d e \" , \" d e p a r t m e n t \" : \" c o s t u m e & m a k e - u p \" , \" g e n d e r \" : 0 , \" i d \" : 1 4 5 2 6 4 3 , \" j o b \" : \" h a i r s t y l i s t \" , \" n a m e \" : \" r o x a n e g r i f f i n \" } , { \" c r e d i t _ i d \" : \" 5 5 3 d 3 c 1 0 9 2 5 1 4 1 5 8 5 2 0 0 1 3 1 8 \" , \" d e p a r t m e n t \" : \" l i g h t i n g \" , \" g e n d e r \" : 0 , \" i d \" : 1 4 5 3 9 3 8 , \" j o b \" : \" l i g h t i n g a r t i s t \" , \" n a m e \" : \" a r u n r a m - m o h a n \" } , { \" c r e d i t _ i d \" : \" 5 5 9 2 a f 4 6 9 2 5 1 4 1 5 2 d 5 0 0 1 3 5 5 \" , \" d e p a r t m e n t \" : \" c o s t u m e & m a k e - u p \" , \" g e n d e r \" : 0 , \" i d \" : 1 4 5 7 3 0 5 , \" j o b \" : \" m a k e u p a r t i s t \" , \" n a m e \" : \" g e o r g i a l o c k h a r t - a d a m s \" } , { \" c r e d i t _ i d \" : \" 5 5 9 2 b 2 e a c 3 a 3 6 8 7 7 4 7 0 0 1 2 a 5 \" , \" d e p a r t m e n t \" : \" c r e w \" , \" g e n d e r \" : 0 , \" i d \" : 1 4 6 6 0 3 5 , \" j o b \" : \" c g s u p e r v i s o r \" , \" n a m e \" : \" t h r a i n s h a d b o l t \" } , { \" c r e d i t _ i d \" : \" 5 5 9 2 b 0 3 2 c 3 a 3 6 8 7 7 4 5 0 0 1 5 f 1 \" , \" d e p a r t m e n t \" : \" c r e w \" , \" g e n d e r \" : 0 , \" i d \" : 1 4 8 3 2 2 0 , \" j o b \" : \" c g s u p e r v i s o r \" , \" n a m e \" : \" b r a d a l e x a n d e r \" } , { \" c r e d i t _ i d \" : \" 5 5 9 2 b 0 5 5 9 2 5 1 4 1 5 2 d 8 0 0 1 2 f 6 \" , \" d e p a r t m e n t \" : \" c r e w \" , \" g e n d e r \" : 0 , \" i d \" : 1 4 8 3 2 2 1 , \" j o b \" : \" c g s u p e r v i s o r \" , \" n a m e \" : \" s h a d i a l m a s s i z a d e h \" } , { \" c r e d i t _ i d \" : \" 5 5 9 2 b 0 9 0 c 3 a 3 6 8 7 7 5 7 0 0 1 0 b 5 \" , \" d e p a r t m e n t \" : \" c r e w \" , \" g e n d e r \" : 0 , \" i d \" : 1 4 8 3 2 2 2 , \" j o b \" : \" c g s u p e r v i s o r \" , \" n a m e \" : \" s i m o n c l u t t e r b u c k \" } , { \" c r e d i t _ i d \" : \" 5 5 9 2 b 0 d b c 3 a 3 6 8 7 7 4 b 0 0 1 1 2 c \" , \" d e p a r t m e n t \" : \" c r e w \" , \" g e n d e r \" : 0 , \" i d \" : 1 4 8 3 2 2 3 , \" j o b \" : \" c g s u p e r v i s o r \" , \" n a m e \" : \" g r a e m e d e m m o c k s \" } , { \" c r e d i t _ i d \" : \" 5 5 9 2 b 0 f e 9 2 5 1 4 1 5 2 d b 0 0 1 0 c 1 \" , \" d e p a r t m e n t \" : \" c r e w \" , \" g e n d e r \" : 0 , \" i d \" : 1 4 8 3 2 2 4 , \" j o b \" : \" c g s u p e r v i s o r \" , \" n a m e \" : \" a d r i a n f e r n a n d e s \" } , { \" c r e d i t _ i d \" : \" 5 5 9 2 b 1 1 f 9 2 5 1 4 1 5 d f 8 0 0 1 0 5 9 \" , \" d e p a r t m e n t \" : \" c r e w \" , \" g e n d e r \" : 0 , \" i d \" : 1 4 8 3 2 2 5 , \" j o b \" : \" c g s u p e r v i s o r \" , \" n a m e \" : \" m i t c h g a t e s \" } , { \" c r e d i t _ i d \" : \" 5 5 9 2 b 1 5 d c 3 a 3 6 8 7 7 4 5 0 0 1 6 4 5 \" , \" d e p a r t m e n t \" : \" c r e w \" , \" g e n d e r \" : 0 , \" i d \" : 1 4 8 3 2 2 6 , \" j o b \" : \" c g s u p e r v i s o r \" , \" n a m e \" : \" j e r r y k u n g \" } , { \" c r e d i t _ i d \" : \" 5 5 9 2 b 1 8 e 9 2 5 1 4 1 6 4 5 a 0 0 0 4 a e \" , \" d e p a r t m e n t \" : \" c r e w \" , \" g e n d e r \" : 0 , \" i d \" : 1 4 8 3 2 2 7 , \" j o b \" : \" c g s u p e r v i s o r \" , \" n a m e \" : \" a n d y l o m a s \" } , { \" c r e d i t _ i d \" : \" 5 5 9 2 b 1 b f c 3 a 3 6 8 7 7 5 d 0 0 1 0 e 7 \" , \" d e p a r t m e n t \" : \" c r e w \" , \" g e n d e r \" : 0 , \" i d \" : 1 4 8 3 2 2 8 , \" j o b \" : \" c g s u p e r v i s o r \" , \" n a m e \" : \" s e b a s t i a n m a r i n o \" } , { \" c r e d i t _ i d \" : \" 5 5 9 2 b 2 0 4 9 2 5 1 4 1 5 d f 8 0 0 1 0 7 8 \" , \" d e p a r t m e n t \" : \" c r e w \" , \" g e n d e r \" : 0 , \" i d \" : 1 4 8 3 2 2 9 , \" j o b \" : \" c g s u p e r v i s o r \" , \" n a m e \" : \" m a t t h i a s m e n z \" } , { \" c r e d i t _ i d \" : \" 5 5 9 2 b 2 7 b 9 2 5 1 4 1 5 2 d 8 0 0 1 3 6 a \" , \" d e p a r t m e n t \" : \" c r e w \" , \" g e n d e r \" : 0 , \" i d \" : 1 4 8 3 2 3 0 , \" j o b \" : \" c g s u p e r v i s o r \" , \" n a m e \" : \" s e r g e i n e v s h u p o v \" } , { \" c r e d i t _ i d \" : \" 5 5 9 2 b 2 c 3 c 3 a 3 6 8 6 9 e 8 0 0 0 0 3 c \" , \" d e p a r t m e n t \" : \" c r e w \" , \" g e n d e r \" : 0 , \" i d \" : 1 4 8 3 2 3 1 , \" j o b \" : \" c g s u p e r v i s o r \" , \" n a m e \" : \" p h i l i p p e r e b o u r s \" } , { \" c r e d i t _ i d \" : \" 5 5 9 2 b 3 1 7 c 3 a 3 6 8 7 7 4 7 0 0 1 2 a f \" , \" d e p a r t m e n t \" : \" c r e w \" , \" g e n d e r \" : 0 , \" i d \" : 1 4 8 3 2 3 2 , \" j o b \" : \" c g s u p e r v i s o r \" , \" n a m e \" : \" m i c h a e l t a k a r a n g i \" } , { \" c r e d i t _ i d \" : \" 5 5 9 2 b 3 4 5 c 3 a 3 6 8 7 7 4 7 0 0 1 2 b b \" , \" d e p a r t m e n t \" : \" c r e w \" , \" g e n d e r \" : 0 , \" i d \" : 1 4 8 3 2 3 3 , \" j o b \" : \" c g s u p e r v i s o r \" , \" n a m e \" : \" d a v i d w e i t z b e r g \" } , { \" c r e d i t _ i d \" : \" 5 5 9 2 b 3 7 c c 3 a 3 6 8 7 7 5 1 0 0 1 1 3 b \" , \" d e p a r t m e n t \" : \" c r e w \" , \" g e n d e r \" : 0 , \" i d \" : 1 4 8 3 2 3 4 , \" j o b \" : \" c g s u p e r v i s o r \" , \" n a m e \" : \" b e n w h i t e \" } , { \" c r e d i t _ i d \" : \" 5 7 3 c 8 e 2 f 9 2 5 1 4 1 3 f 5 d 0 0 0 0 9 4 \" , \" d e p a r t m e n t \" : \" c r e w \" , \" g e n d e r \" : 1 , \" i d \" : 1 6 2 1 9 3 2 , \" j o b \" : \" s t u n t s \" , \" n a m e \" : \" m i n w i n d l e \" } ]'"
      ]
     },
     "execution_count": 50,
     "metadata": {},
     "output_type": "execute_result"
    }
   ],
   "source": [
    "new_df['tags'][0]"
   ]
  },
  {
   "cell_type": "code",
   "execution_count": 51,
   "id": "aa41bc59",
   "metadata": {},
   "outputs": [
    {
     "name": "stderr",
     "output_type": "stream",
     "text": [
      "C:\\Users\\hp\\AppData\\Local\\Temp\\ipykernel_9616\\4224080999.py:1: SettingWithCopyWarning: \n",
      "A value is trying to be set on a copy of a slice from a DataFrame.\n",
      "Try using .loc[row_indexer,col_indexer] = value instead\n",
      "\n",
      "See the caveats in the documentation: https://pandas.pydata.org/pandas-docs/stable/user_guide/indexing.html#returning-a-view-versus-a-copy\n",
      "  new_df['tags']=new_df['tags'].apply(lambda x:x.lower())\n"
     ]
    }
   ],
   "source": [
    "new_df['tags']=new_df['tags'].apply(lambda x:x.lower())"
   ]
  },
  {
   "cell_type": "code",
   "execution_count": 52,
   "id": "1fb946bf",
   "metadata": {},
   "outputs": [
    {
     "data": {
      "text/html": [
       "<div>\n",
       "<style scoped>\n",
       "    .dataframe tbody tr th:only-of-type {\n",
       "        vertical-align: middle;\n",
       "    }\n",
       "\n",
       "    .dataframe tbody tr th {\n",
       "        vertical-align: top;\n",
       "    }\n",
       "\n",
       "    .dataframe thead th {\n",
       "        text-align: right;\n",
       "    }\n",
       "</style>\n",
       "<table border=\"1\" class=\"dataframe\">\n",
       "  <thead>\n",
       "    <tr style=\"text-align: right;\">\n",
       "      <th></th>\n",
       "      <th>movie_id</th>\n",
       "      <th>title</th>\n",
       "      <th>tags</th>\n",
       "    </tr>\n",
       "  </thead>\n",
       "  <tbody>\n",
       "    <tr>\n",
       "      <th>0</th>\n",
       "      <td>19995</td>\n",
       "      <td>Avatar</td>\n",
       "      <td>in the 22nd century, a parapleg marin is dispa...</td>\n",
       "    </tr>\n",
       "    <tr>\n",
       "      <th>1</th>\n",
       "      <td>285</td>\n",
       "      <td>Pirates of the Caribbean: At World's End</td>\n",
       "      <td>captain barbossa, long believ to be dead, ha c...</td>\n",
       "    </tr>\n",
       "    <tr>\n",
       "      <th>2</th>\n",
       "      <td>206647</td>\n",
       "      <td>Spectre</td>\n",
       "      <td>a cryptic messag from bond’ past send him on a...</td>\n",
       "    </tr>\n",
       "    <tr>\n",
       "      <th>3</th>\n",
       "      <td>49026</td>\n",
       "      <td>The Dark Knight Rises</td>\n",
       "      <td>follow the death of district attorney harvey d...</td>\n",
       "    </tr>\n",
       "    <tr>\n",
       "      <th>4</th>\n",
       "      <td>49529</td>\n",
       "      <td>John Carter</td>\n",
       "      <td>john carter is a war-weary, former militari ca...</td>\n",
       "    </tr>\n",
       "  </tbody>\n",
       "</table>\n",
       "</div>"
      ],
      "text/plain": [
       "   movie_id                                     title  \\\n",
       "0     19995                                    Avatar   \n",
       "1       285  Pirates of the Caribbean: At World's End   \n",
       "2    206647                                   Spectre   \n",
       "3     49026                     The Dark Knight Rises   \n",
       "4     49529                               John Carter   \n",
       "\n",
       "                                                tags  \n",
       "0  in the 22nd century, a parapleg marin is dispa...  \n",
       "1  captain barbossa, long believ to be dead, ha c...  \n",
       "2  a cryptic messag from bond’ past send him on a...  \n",
       "3  follow the death of district attorney harvey d...  \n",
       "4  john carter is a war-weary, former militari ca...  "
      ]
     },
     "execution_count": 52,
     "metadata": {},
     "output_type": "execute_result"
    }
   ],
   "source": [
    "new_df.head()"
   ]
  },
  {
   "cell_type": "code",
   "execution_count": 53,
   "id": "953a7c73",
   "metadata": {},
   "outputs": [
    {
     "data": {
      "text/plain": [
       "'captain barbossa, long believ to be dead, ha come back to life and is head to the edg of the earth with will turner and elizabeth swann. but noth is quit as it seems. [ { \" i d \" : 1 2 , \" n a m e \" : \" a d v e n t u r e \" } , { \" i d \" : 1 4 , \" n a m e \" : \" f a n t a s y \" } , { \" i d \" : 2 8 , \" n a m e \" : \" a c t i o n \" } ] [ { \" i d \" : 2 7 0 , \" n a m e \" : \" o c e a n \" } , { \" i d \" : 7 2 6 , \" n a m e \" : \" d r u g a b u s e \" } , { \" i d \" : 9 1 1 , \" n a m e \" : \" e x o t i c i s l a n d \" } , { \" i d \" : 1 3 1 9 , \" n a m e \" : \" e a s t i n d i a t r a d i n g c o m p a n y \" } , { \" i d \" : 2 0 3 8 , \" n a m e \" : \" l o v e o f o n e \\' s l i f e \" } , { \" i d \" : 2 0 5 2 , \" n a m e \" : \" t r a i t o r \" } , { \" i d \" : 2 5 8 0 , \" n a m e \" : \" s h i p w r e c k \" } , { \" i d \" : 2 6 6 0 , \" n a m e \" : \" s t r o n g w o m a n \" } , { \" i d \" : 3 7 9 9 , \" n a m e \" : \" s h i p \" } , { \" i d \" : 5 7 4 0 , \" n a m e \" : \" a l l i a n c e \" } , { \" i d \" : 5 9 4 1 , \" n a m e \" : \" c a l y p s o \" } , { \" i d \" : 6 1 5 5 , \" n a m e \" : \" a f t e r l i f e \" } , { \" i d \" : 6 2 1 1 , \" n a m e \" : \" f i g h t e r \" } , { \" i d \" : 1 2 9 8 8 , \" n a m e \" : \" p i r a t e \" } , { \" i d \" : 1 5 7 1 8 6 , \" n a m e \" : \" s w a s h b u c k l e r \" } , { \" i d \" : 1 7 9 4 3 0 , \" n a m e \" : \" a f t e r c r e d i t s s t i n g e r \" } ] [ { \" c a s t _ i d \" : 4 , \" c h a r a c t e r \" : \" c a p t a i n j a c k s p a r r o w \" , \" c r e d i t _ i d \" : \" 5 2 f e 4 2 3 2 c 3 a 3 6 8 4 7 f 8 0 0 b 5 0 d \" , \" g e n d e r \" : 2 , \" i d \" : 8 5 , \" n a m e \" : \" j o h n n y d e p p \" , \" o r d e r \" : 0 } , { \" c a s t _ i d \" : 5 , \" c h a r a c t e r \" : \" w i l l t u r n e r \" , \" c r e d i t _ i d \" : \" 5 2 f e 4 2 3 2 c 3 a 3 6 8 4 7 f 8 0 0 b 5 1 1 \" , \" g e n d e r \" : 2 , \" i d \" : 1 1 4 , \" n a m e \" : \" o r l a n d o b l o o m \" , \" o r d e r \" : 1 } , { \" c a s t _ i d \" : 6 , \" c h a r a c t e r \" : \" e l i z a b e t h s w a n n \" , \" c r e d i t _ i d \" : \" 5 2 f e 4 2 3 2 c 3 a 3 6 8 4 7 f 8 0 0 b 5 1 5 \" , \" g e n d e r \" : 1 , \" i d \" : 1 1 6 , \" n a m e \" : \" k e i r a k n i g h t l e y \" , \" o r d e r \" : 2 } , { \" c a s t _ i d \" : 1 2 , \" c h a r a c t e r \" : \" w i l l i a m \\\\ \" b o o t s t r a p b i l l \\\\ \" t u r n e r \" , \" c r e d i t _ i d \" : \" 5 2 f e 4 2 3 2 c 3 a 3 6 8 4 7 f 8 0 0 b 5 2 d \" , \" g e n d e r \" : 2 , \" i d \" : 1 6 4 0 , \" n a m e \" : \" s t e l l a n s k a r s g \\\\ u 0 0 e 5 r d \" , \" o r d e r \" : 3 } , { \" c a s t _ i d \" : 1 0 , \" c h a r a c t e r \" : \" c a p t a i n s a o f e n g \" , \" c r e d i t _ i d \" : \" 5 2 f e 4 2 3 2 c 3 a 3 6 8 4 7 f 8 0 0 b 5 2 5 \" , \" g e n d e r \" : 2 , \" i d \" : 1 6 1 9 , \" n a m e \" : \" c h o w y u n - f a t \" , \" o r d e r \" : 4 } , { \" c a s t _ i d \" : 9 , \" c h a r a c t e r \" : \" c a p t a i n d a v y j o n e s \" , \" c r e d i t _ i d \" : \" 5 2 f e 4 2 3 2 c 3 a 3 6 8 4 7 f 8 0 0 b 5 2 1 \" , \" g e n d e r \" : 2 , \" i d \" : 2 4 4 0 , \" n a m e \" : \" b i l l n i g h y \" , \" o r d e r \" : 5 } , { \" c a s t _ i d \" : 7 , \" c h a r a c t e r \" : \" c a p t a i n h e c t o r b a r b o s s a \" , \" c r e d i t _ i d \" : \" 5 2 f e 4 2 3 2 c 3 a 3 6 8 4 7 f 8 0 0 b 5 1 9 \" , \" g e n d e r \" : 2 , \" i d \" : 1 1 8 , \" n a m e \" : \" g e o f f r e y r u s h \" , \" o r d e r \" : 6 } , { \" c a s t _ i d \" : 1 4 , \" c h a r a c t e r \" : \" a d m i r a l j a m e s n o r r i n g t o n \" , \" c r e d i t _ i d \" : \" 5 2 f e 4 2 3 2 c 3 a 3 6 8 4 7 f 8 0 0 b 5 3 5 \" , \" g e n d e r \" : 2 , \" i d \" : 1 7 0 9 , \" n a m e \" : \" j a c k d a v e n p o r t \" , \" o r d e r \" : 7 } , { \" c a s t _ i d \" : 1 3 , \" c h a r a c t e r \" : \" j o s h a m e e g i b b s \" , \" c r e d i t _ i d \" : \" 5 2 f e 4 2 3 2 c 3 a 3 6 8 4 7 f 8 0 0 b 5 3 1 \" , \" g e n d e r \" : 2 , \" i d \" : 2 4 4 9 , \" n a m e \" : \" k e v i n m c n a l l y \" , \" o r d e r \" : 8 } , { \" c a s t _ i d \" : 1 1 , \" c h a r a c t e r \" : \" l o r d c u t l e r b e c k e t t \" , \" c r e d i t _ i d \" : \" 5 2 f e 4 2 3 2 c 3 a 3 6 8 4 7 f 8 0 0 b 5 2 9 \" , \" g e n d e r \" : 2 , \" i d \" : 2 4 4 1 , \" n a m e \" : \" t o m h o l l a n d e r \" , \" o r d e r \" : 9 } , { \" c a s t _ i d \" : 1 9 , \" c h a r a c t e r \" : \" t i a d a l m a \" , \" c r e d i t _ i d \" : \" 5 2 f e 4 2 3 2 c 3 a 3 6 8 4 7 f 8 0 0 b 5 4 9 \" , \" g e n d e r \" : 1 , \" i d \" : 2 0 3 8 , \" n a m e \" : \" n a o m i e h a r r i s \" , \" o r d e r \" : 1 0 } , { \" c a s t _ i d \" : 8 , \" c h a r a c t e r \" : \" g o v e r n o r w e a t h e r b y s w a n n \" , \" c r e d i t _ i d \" : \" 5 2 f e 4 2 3 2 c 3 a 3 6 8 4 7 f 8 0 0 b 5 1 d \" , \" g e n d e r \" : 2 , \" i d \" : 3 7 8 , \" n a m e \" : \" j o n a t h a n p r y c e \" , \" o r d e r \" : 1 1 } , { \" c a s t _ i d \" : 3 7 , \" c h a r a c t e r \" : \" c a p t a i n t e a g u e s p a r r o w \" , \" c r e d i t _ i d \" : \" 5 2 f e 4 2 3 2 c 3 a 3 6 8 4 7 f 8 0 0 b 5 b 3 \" , \" g e n d e r \" : 2 , \" i d \" : 1 4 3 0 , \" n a m e \" : \" k e i t h r i c h a r d s \" , \" o r d e r \" : 1 2 } , { \" c a s t _ i d \" : 1 6 , \" c h a r a c t e r \" : \" p i n t e l \" , \" c r e d i t _ i d \" : \" 5 2 f e 4 2 3 2 c 3 a 3 6 8 4 7 f 8 0 0 b 5 3 d \" , \" g e n d e r \" : 2 , \" i d \" : 1 7 1 0 , \" n a m e \" : \" l e e a r e n b e r g \" , \" o r d e r \" : 1 3 } , { \" c a s t _ i d \" : 1 5 , \" c h a r a c t e r \" : \" r a g e t t i \" , \" c r e d i t _ i d \" : \" 5 2 f e 4 2 3 2 c 3 a 3 6 8 4 7 f 8 0 0 b 5 3 9 \" , \" g e n d e r \" : 2 , \" i d \" : 1 7 1 1 , \" n a m e \" : \" m a c k e n z i e c r o o k \" , \" o r d e r \" : 1 4 } , { \" c a s t _ i d \" : 1 8 , \" c h a r a c t e r \" : \" l i e u t e n a n t t h e o d o r e g r o v e s \" , \" c r e d i t _ i d \" : \" 5 2 f e 4 2 3 2 c 3 a 3 6 8 4 7 f 8 0 0 b 5 4 5 \" , \" g e n d e r \" : 2 , \" i d \" : 4 0 3 1 , \" n a m e \" : \" g r e g e l l i s \" , \" o r d e r \" : 1 5 } , { \" c a s t _ i d \" : 5 5 , \" c h a r a c t e r \" : \" c o t t o n \" , \" c r e d i t _ i d \" : \" 5 7 e 2 8 d 2 e c 3 a 3 6 8 1 a 0 1 0 0 5 b 5 c \" , \" g e n d e r \" : 2 , \" i d \" : 1 7 1 5 , \" n a m e \" : \" d a v i d b a i l i e \" , \" o r d e r \" : 1 6 } , { \" c a s t _ i d \" : 1 7 , \" c h a r a c t e r \" : \" m a r t y \" , \" c r e d i t _ i d \" : \" 5 2 f e 4 2 3 2 c 3 a 3 6 8 4 7 f 8 0 0 b 5 4 1 \" , \" g e n d e r \" : 2 , \" i d \" : 4 0 3 0 , \" n a m e \" : \" m a r t i n k l e b b a \" , \" o r d e r \" : 1 7 } , { \" c a s t _ i d \" : 5 7 , \" c h a r a c t e r \" : \" i a n m e r c e r \" , \" c r e d i t _ i d \" : \" 5 7 e 2 8 d 7 8 c 3 a 3 6 8 0 8 b 9 0 0 b f 4 f \" , \" g e n d e r \" : 0 , \" i d \" : 9 3 9 , \" n a m e \" : \" d a v i d s c h o f i e l d \" , \" o r d e r \" : 1 8 } , { \" c a s t _ i d \" : 6 2 , \" c h a r a c t e r \" : \" s c a r l e t t \" , \" c r e d i t _ i d \" : \" 5 7 e 2 8 e c 5 c 3 a 3 6 8 1 a 5 0 0 0 5 8 5 5 \" , \" g e n d e r \" : 1 , \" i d \" : 2 4 5 0 , \" n a m e \" : \" l a u r e n m a h e r \" , \" o r d e r \" : 1 9 } , { \" c a s t _ i d \" : 6 3 , \" c h a r a c t e r \" : \" g i s e l l e \" , \" c r e d i t _ i d \" : \" 5 7 e 2 8 e d 6 9 2 5 1 4 1 2 3 f 5 0 0 5 6 3 5 \" , \" g e n d e r \" : 1 , \" i d \" : 2 4 5 2 , \" n a m e \" : \" v a n e s s a b r a n c h \" , \" o r d e r \" : 2 0 } , { \" c a s t _ i d \" : 6 0 , \" c h a r a c t e r \" : \" m u l l r o y \" , \" c r e d i t _ i d \" : \" 5 7 e 2 8 d b 2 c 3 a 3 6 8 1 a 0 1 0 0 5 b c 7 \" , \" g e n d e r \" : 2 , \" i d \" : 1 7 1 4 , \" n a m e \" : \" a n g u s b a r n e t t \" , \" o r d e r \" : 2 1 } , { \" c a s t _ i d \" : 5 9 , \" c h a r a c t e r \" : \" m u r t o g g \" , \" c r e d i t _ i d \" : \" 5 7 e 2 8 d a 1 9 2 5 1 4 1 1 8 f 7 0 0 6 0 0 8 \" , \" g e n d e r \" : 0 , \" i d \" : 1 7 1 3 , \" n a m e \" : \" g i l e s n e w \" , \" o r d e r \" : 2 2 } , { \" c a s t _ i d \" : 5 8 , \" c h a r a c t e r \" : \" t a i h u a n g \" , \" c r e d i t _ i d \" : \" 5 7 e 2 8 d 8 e c 3 a 3 6 8 1 a 0 1 0 0 5 b a b \" , \" g e n d e r \" : 2 , \" i d \" : 2 2 0 7 5 , \" n a m e \" : \" r e g g i e l e e \" , \" o r d e r \" : 2 3 } , { \" c a s t _ i d \" : 6 4 , \" c h a r a c t e r \" : \" h e n r y t u r n e r \" , \" c r e d i t _ i d \" : \" 5 7 e 2 9 1 1 9 9 2 5 1 4 1 1 5 1 1 0 0 a 6 c c \" , \" g e n d e r \" : 2 , \" i d \" : 6 1 2 5 9 , \" n a m e \" : \" d o m i n i c s c o t t k a y \" , \" o r d e r \" : 2 4 } , { \" c a s t _ i d \" : 3 9 , \" c h a r a c t e r \" : \" m i s t r e s s c h i n g \" , \" c r e d i t _ i d \" : \" 5 2 f e 4 2 3 2 c 3 a 3 6 8 4 7 f 8 0 0 b 5 b d \" , \" g e n d e r \" : 1 , \" i d \" : 3 3 5 0 0 , \" n a m e \" : \" t a k a y o f i s c h e r \" , \" o r d e r \" : 2 5 } , { \" c a s t _ i d \" : 4 0 , \" c h a r a c t e r \" : \" l i e u t e n a n t g r e i t z e r \" , \" c r e d i t _ i d \" : \" 5 2 f e 4 2 3 2 c 3 a 3 6 8 4 7 f 8 0 0 b 5 c 1 \" , \" g e n d e r \" : 2 , \" i d \" : 1 2 2 4 1 4 9 , \" n a m e \" : \" d a v i d m e u n i e r \" , \" o r d e r \" : 2 6 } , { \" c a s t _ i d \" : 4 9 , \" c h a r a c t e r \" : \" h a d r a s \" , \" c r e d i t _ i d \" : \" 5 6 d 1 8 7 1 c 9 2 5 1 4 1 7 4 6 8 0 0 1 0 c f \" , \" g e n d e r \" : 2 , \" i d \" : 4 2 9 4 0 1 , \" n a m e \" : \" h o - k w a n t s e \" , \" o r d e r \" : 2 7 } , { \" c a s t _ i d \" : 5 6 , \" c h a r a c t e r \" : \" c l a c k e r \" , \" c r e d i t _ i d \" : \" 5 7 e 2 8 d 4 b 9 2 5 1 4 1 2 5 7 1 0 0 5 5 c b \" , \" g e n d e r \" : 0 , \" i d \" : 1 1 2 3 , \" n a m e \" : \" a n d y b e c k w i t h \" , \" o r d e r \" : 2 8 } , { \" c a s t _ i d \" : 5 1 , \" c h a r a c t e r \" : \" p e n r o d \" , \" c r e d i t _ i d \" : \" 5 6 e c 8 c 1 4 c 3 a 3 6 8 2 2 6 0 0 0 3 c 5 3 \" , \" g e n d e r \" : 2 , \" i d \" : 1 0 5 6 1 1 7 , \" n a m e \" : \" p e t e r d o n a l d b a d a l a m e n t i i i \" , \" o r d e r \" : 2 9 } , { \" c a s t _ i d \" : 6 1 , \" c h a r a c t e r \" : \" c o t t o n \\' s p a r r o t ( v o i c e ) \" , \" c r e d i t _ i d \" : \" 5 7 e 2 8 d c c 9 2 5 1 4 1 2 4 6 3 0 0 5 6 7 8 \" , \" g e n d e r \" : 2 , \" i d \" : 2 1 7 0 0 , \" n a m e \" : \" c h r i s t o p h e r s . c a p p \" , \" o r d e r \" : 3 0 } , { \" c a s t _ i d \" : 6 5 , \" c h a r a c t e r \" : \" c a p t a i n t e a g u e \" , \" c r e d i t _ i d \" : \" 5 8 b c 2 a 3 7 c 3 a 3 6 8 6 6 3 0 0 3 7 4 0 b \" , \" g e n d e r \" : 2 , \" i d \" : 1 4 3 0 , \" n a m e \" : \" k e i t h r i c h a r d s \" , \" o r d e r \" : 3 1 } , { \" c a s t _ i d \" : 6 6 , \" c h a r a c t e r \" : \" c a p t a i n j o c a r d \" , \" c r e d i t _ i d \" : \" 5 8 b c 2 a 8 e 9 2 5 1 4 1 6 0 9 e 0 3 a 1 7 9 \" , \" g e n d e r \" : 2 , \" i d \" : 2 6 0 3 , \" n a m e \" : \" h a k e e m k a e - k a z i m \" , \" o r d e r \" : 3 2 } , { \" c a s t _ i d \" : 6 7 , \" c h a r a c t e r \" : \" c a p t a i n a m m a n d \" , \" c r e d i t _ i d \" : \" 5 8 e 2 a 2 1 a c 3 a 3 6 8 7 2 a f 0 0 f 9 c 2 \" , \" g e n d e r \" : 0 , \" i d \" : 7 0 5 7 7 , \" n a m e \" : \" g h a s s a n m a s s o u d \" , \" o r d e r \" : 3 3 } ] [ { \" c r e d i t _ i d \" : \" 5 2 f e 4 2 3 2 c 3 a 3 6 8 4 7 f 8 0 0 b 5 7 9 \" , \" d e p a r t m e n t \" : \" c a m e r a \" , \" g e n d e r \" : 2 , \" i d \" : 1 2 0 , \" j o b \" : \" d i r e c t o r o f p h o t o g r a p h y \" , \" n a m e \" : \" d a r i u s z w o l s k i \" } , { \" c r e d i t _ i d \" : \" 5 2 f e 4 2 3 2 c 3 a 3 6 8 4 7 f 8 0 0 b 4 f d \" , \" d e p a r t m e n t \" : \" d i r e c t i n g \" , \" g e n d e r \" : 2 , \" i d \" : 1 7 0 4 , \" j o b \" : \" d i r e c t o r \" , \" n a m e \" : \" g o r e v e r b i n s k i \" } , { \" c r e d i t _ i d \" : \" 5 2 f e 4 2 3 2 c 3 a 3 6 8 4 7 f 8 0 0 b 5 4 f \" , \" d e p a r t m e n t \" : \" p r o d u c t i o n \" , \" g e n d e r \" : 2 , \" i d \" : 7 7 0 , \" j o b \" : \" p r o d u c e r \" , \" n a m e \" : \" j e r r y b r u c k h e i m e r \" } , { \" c r e d i t _ i d \" : \" 5 2 f e 4 2 3 2 c 3 a 3 6 8 4 7 f 8 0 0 b 5 0 3 \" , \" d e p a r t m e n t \" : \" w r i t i n g \" , \" g e n d e r \" : 2 , \" i d \" : 1 7 0 5 , \" j o b \" : \" s c r e e n p l a y \" , \" n a m e \" : \" t e d e l l i o t t \" } , { \" c r e d i t _ i d \" : \" 5 2 f e 4 2 3 2 c 3 a 3 6 8 4 7 f 8 0 0 b 5 0 9 \" , \" d e p a r t m e n t \" : \" w r i t i n g \" , \" g e n d e r \" : 2 , \" i d \" : 1 7 0 6 , \" j o b \" : \" s c r e e n p l a y \" , \" n a m e \" : \" t e r r y r o s s i o \" } , { \" c r e d i t _ i d \" : \" 5 2 f e 4 2 3 2 c 3 a 3 6 8 4 7 f 8 0 0 b 5 7 f \" , \" d e p a r t m e n t \" : \" e d i t i n g \" , \" g e n d e r \" : 0 , \" i d \" : 1 7 2 1 , \" j o b \" : \" e d i t o r \" , \" n a m e \" : \" s t e p h e n e . r i v k i n \" } , { \" c r e d i t _ i d \" : \" 5 2 f e 4 2 3 2 c 3 a 3 6 8 4 7 f 8 0 0 b 5 8 5 \" , \" d e p a r t m e n t \" : \" e d i t i n g \" , \" g e n d e r \" : 2 , \" i d \" : 1 7 2 2 , \" j o b \" : \" e d i t o r \" , \" n a m e \" : \" c r a i g w o o d \" } , { \" c r e d i t _ i d \" : \" 5 2 f e 4 2 3 2 c 3 a 3 6 8 4 7 f 8 0 0 b 5 7 3 \" , \" d e p a r t m e n t \" : \" s o u n d \" , \" g e n d e r \" : 2 , \" i d \" : 9 4 7 , \" j o b \" : \" o r i g i n a l m u s i c c o m p o s e r \" , \" n a m e \" : \" h a n s z i m m e r \" } , { \" c r e d i t _ i d \" : \" 5 2 f e 4 2 3 2 c 3 a 3 6 8 4 7 f 8 0 0 b 5 5 5 \" , \" d e p a r t m e n t \" : \" p r o d u c t i o n \" , \" g e n d e r \" : 2 , \" i d \" : 2 4 4 4 , \" j o b \" : \" e x e c u t i v e p r o d u c e r \" , \" n a m e \" : \" m i k e s t e n s o n \" } , { \" c r e d i t _ i d \" : \" 5 2 f e 4 2 3 2 c 3 a 3 6 8 4 7 f 8 0 0 b 5 6 1 \" , \" d e p a r t m e n t \" : \" p r o d u c t i o n \" , \" g e n d e r \" : 2 , \" i d \" : 2 4 4 5 , \" j o b \" : \" p r o d u c e r \" , \" n a m e \" : \" e r i c m c l e o d \" } , { \" c r e d i t _ i d \" : \" 5 2 f e 4 2 3 2 c 3 a 3 6 8 4 7 f 8 0 0 b 5 5 b \" , \" d e p a r t m e n t \" : \" p r o d u c t i o n \" , \" g e n d e r \" : 2 , \" i d \" : 2 4 4 6 , \" j o b \" : \" p r o d u c e r \" , \" n a m e \" : \" c h a d o m a n \" } , { \" c r e d i t _ i d \" : \" 5 2 f e 4 2 3 2 c 3 a 3 6 8 4 7 f 8 0 0 b 5 6 7 \" , \" d e p a r t m e n t \" : \" p r o d u c t i o n \" , \" g e n d e r \" : 0 , \" i d \" : 2 4 4 7 , \" j o b \" : \" p r o d u c e r \" , \" n a m e \" : \" p e t e r k o h n \" } , { \" c r e d i t _ i d \" : \" 5 2 f e 4 2 3 2 c 3 a 3 6 8 4 7 f 8 0 0 b 5 6 d \" , \" d e p a r t m e n t \" : \" p r o d u c t i o n \" , \" g e n d e r \" : 0 , \" i d \" : 2 4 4 8 , \" j o b \" : \" p r o d u c e r \" , \" n a m e \" : \" p a t s a n d s t o n \" } , { \" c r e d i t _ i d \" : \" 5 2 f e 4 2 3 2 c 3 a 3 6 8 4 7 f 8 0 0 b 5 8 b \" , \" d e p a r t m e n t \" : \" p r o d u c t i o n \" , \" g e n d e r \" : 1 , \" i d \" : 2 2 1 5 , \" j o b \" : \" c a s t i n g \" , \" n a m e \" : \" d e n i s e c h a m i a n \" } , { \" c r e d i t _ i d \" : \" 5 2 f e 4 2 3 2 c 3 a 3 6 8 4 7 f 8 0 0 b 5 9 7 \" , \" d e p a r t m e n t \" : \" a r t \" , \" g e n d e r \" : 2 , \" i d \" : 1 2 2 6 , \" j o b \" : \" p r o d u c t i o n d e s i g n \" , \" n a m e \" : \" r i c k h e i n r i c h s \" } , { \" c r e d i t _ i d \" : \" 5 2 f e 4 2 3 2 c 3 a 3 6 8 4 7 f 8 0 0 b 5 9 d \" , \" d e p a r t m e n t \" : \" a r t \" , \" g e n d e r \" : 2 , \" i d \" : 5 5 3 , \" j o b \" : \" a r t d i r e c t i o n \" , \" n a m e \" : \" j o h n d e x t e r \" } , { \" c r e d i t _ i d \" : \" 5 2 f e 4 2 3 2 c 3 a 3 6 8 4 7 f 8 0 0 b 5 9 1 \" , \" d e p a r t m e n t \" : \" p r o d u c t i o n \" , \" g e n d e r \" : 1 , \" i d \" : 3 3 1 1 , \" j o b \" : \" c a s t i n g \" , \" n a m e \" : \" p r i s c i l l a j o h n \" } , { \" c r e d i t _ i d \" : \" 5 2 f e 4 2 3 2 c 3 a 3 6 8 4 7 f 8 0 0 b 5 a 3 \" , \" d e p a r t m e n t \" : \" a r t \" , \" g e n d e r \" : 1 , \" i d \" : 4 0 3 2 , \" j o b \" : \" s e t d e c o r a t i o n \" , \" n a m e \" : \" c h e r y l c a r a s i k \" } , { \" c r e d i t _ i d \" : \" 5 2 f e 4 2 3 2 c 3 a 3 6 8 4 7 f 8 0 0 b 5 a 9 \" , \" d e p a r t m e n t \" : \" c o s t u m e & m a k e - u p \" , \" g e n d e r \" : 0 , \" i d \" : 4 0 3 3 , \" j o b \" : \" c o s t u m e d e s i g n \" , \" n a m e \" : \" l i z d a n n \" } , { \" c r e d i t _ i d \" : \" 5 2 f e 4 2 3 2 c 3 a 3 6 8 4 7 f 8 0 0 b 5 a f \" , \" d e p a r t m e n t \" : \" c o s t u m e & m a k e - u p \" , \" g e n d e r \" : 1 , \" i d \" : 4 0 3 4 , \" j o b \" : \" c o s t u m e d e s i g n \" , \" n a m e \" : \" p e n n y r o s e \" } , { \" c r e d i t _ i d \" : \" 5 6 4 2 7 c e 8 c 3 a 3 6 8 6 a 5 3 0 0 0 d 8 b \" , \" d e p a r t m e n t \" : \" s o u n d \" , \" g e n d e r \" : 2 , \" i d \" : 5 1 3 2 , \" j o b \" : \" m u s i c s u p e r v i s o r \" , \" n a m e \" : \" b o b b a d a m i \" } , { \" c r e d i t _ i d \" : \" 5 5 9 9 3 c 1 5 c 3 a 3 6 8 5 5 d b 0 0 2 f 3 3 \" , \" d e p a r t m e n t \" : \" a r t \" , \" g e n d e r \" : 2 , \" i d \" : 1 4 6 4 3 9 , \" j o b \" : \" c o n c e p t u a l d e s i g n \" , \" n a m e \" : \" j a m e s w a r d b y r k i t \" } , { \" c r e d i t _ i d \" : \" 5 2 f e 4 2 3 2 c 3 a 3 6 8 4 7 f 8 0 0 b 5 b 9 \" , \" d e p a r t m e n t \" : \" c o s t u m e & m a k e - u p \" , \" g e n d e r \" : 1 , \" i d \" : 4 0 6 2 0 4 , \" j o b \" : \" m a k e u p d e p a r t m e n t h e a d \" , \" n a m e \" : \" v e n e i l l \" } , { \" c r e d i t _ i d \" : \" 5 6 e 4 7 f 7 8 9 2 5 1 4 1 3 2 6 9 0 0 1 7 b d \" , \" d e p a r t m e n t \" : \" c r e w \" , \" g e n d e r \" : 2 , \" i d \" : 1 2 5 9 5 1 6 , \" j o b \" : \" s t u n t s \" , \" n a m e \" : \" j o h n d i x o n \" } , { \" c r e d i t _ i d \" : \" 5 7 4 0 b e 6 3 9 2 5 1 4 1 6 5 9 7 0 0 0 8 4 9 \" , \" d e p a r t m e n t \" : \" c r e w \" , \" g e n d e r \" : 0 , \" i d \" : 1 3 3 6 7 1 6 , \" j o b \" : \" c g i s u p e r v i s o r \" , \" n a m e \" : \" d o t t i e s t a r l i n g \" } , { \" c r e d i t _ i d \" : \" 5 6 4 2 7 c 6 3 9 2 5 1 4 1 2 f c 8 0 0 0 d c 1 \" , \" d e p a r t m e n t \" : \" d i r e c t i n g \" , \" g e n d e r \" : 1 , \" i d \" : 1 3 4 4 2 7 8 , \" j o b \" : \" s c r i p t s u p e r v i s o r \" , \" n a m e \" : \" p a m e l a a l c h \" } , { \" c r e d i t _ i d \" : \" 5 7 0 8 3 1 0 1 c 3 a 3 6 8 1 d 3 2 0 0 0 4 e 6 \" , \" d e p a r t m e n t \" : \" c r e w \" , \" g e n d e r \" : 0 , \" i d \" : 1 3 6 8 8 6 7 , \" j o b \" : \" s p e c i a l e f f e c t s c o o r d i n a t o r \" , \" n a m e \" : \" a l l e n h a l l \" } , { \" c r e d i t _ i d \" : \" 5 6 4 2 7 d 5 e c 3 a 3 6 8 6 a 6 2 0 0 0 d 4 a \" , \" d e p a r t m e n t \" : \" s o u n d \" , \" g e n d e r \" : 0 , \" i d \" : 1 3 6 8 8 8 4 , \" j o b \" : \" m u s i c e d i t o r \" , \" n a m e \" : \" m e l i s s a m u i k \" } , { \" c r e d i t _ i d \" : \" 5 6 4 2 7 c 7 b 9 2 5 1 4 1 2 f d 4 0 0 0 e 0 7 \" , \" d e p a r t m e n t \" : \" d i r e c t i n g \" , \" g e n d e r \" : 1 , \" i d \" : 1 3 9 5 2 9 0 , \" j o b \" : \" s c r i p t s u p e r v i s o r \" , \" n a m e \" : \" s h a r r o n r e y n o l d s \" } , { \" c r e d i t _ i d \" : \" 5 6 4 2 7 d 2 b c 3 a 3 6 8 6 a 5 3 0 0 0 d 9 b \" , \" d e p a r t m e n t \" : \" s o u n d \" , \" g e n d e r \" : 0 , \" i d \" : 1 3 9 9 3 2 7 , \" j o b \" : \" m u s i c e d i t o r \" , \" n a m e \" : \" b a r b a r a m c d e r m o t t \" } , { \" c r e d i t _ i d \" : \" 5 6 4 2 7 c b 4 c 3 a 3 6 8 6 a 5 3 0 0 0 d 8 7 \" , \" d e p a r t m e n t \" : \" d i r e c t i n g \" , \" g e n d e r \" : 1 , \" i d \" : 1 4 0 0 7 3 8 , \" j o b \" : \" s c r i p t s u p e r v i s o r \" , \" n a m e \" : \" k a r e n g o l d e n \" } , { \" c r e d i t _ i d \" : \" 5 6 4 2 7 d 1 6 9 2 5 1 4 1 2 f d 4 0 0 0 e 2 3 \" , \" d e p a r t m e n t \" : \" s o u n d \" , \" g e n d e r \" : 0 , \" i d \" : 1 5 3 4 1 9 7 , \" j o b \" : \" m u s i c e d i t o r \" , \" n a m e \" : \" k a t i e g r e a t h o u s e \" } ]'"
      ]
     },
     "execution_count": 53,
     "metadata": {},
     "output_type": "execute_result"
    }
   ],
   "source": [
    "new_df['tags'][1]"
   ]
  },
  {
   "cell_type": "code",
   "execution_count": 54,
   "id": "c5ee2f72",
   "metadata": {},
   "outputs": [],
   "source": [
    "from sklearn.feature_extraction.text import CountVectorizer\n",
    "cv = CountVectorizer(max_features=5000,stop_words='english')"
   ]
  },
  {
   "cell_type": "code",
   "execution_count": 55,
   "id": "ba69ee2a",
   "metadata": {},
   "outputs": [],
   "source": [
    "vector = cv.fit_transform(new_df['tags']).toarray()"
   ]
  },
  {
   "cell_type": "code",
   "execution_count": 56,
   "id": "91e58a70",
   "metadata": {},
   "outputs": [
    {
     "data": {
      "text/plain": [
       "array([[0, 0, 0, ..., 0, 0, 0],\n",
       "       [0, 0, 0, ..., 0, 0, 0],\n",
       "       [0, 0, 0, ..., 0, 0, 0],\n",
       "       ...,\n",
       "       [0, 0, 0, ..., 0, 0, 0],\n",
       "       [0, 0, 0, ..., 0, 0, 0],\n",
       "       [0, 0, 0, ..., 0, 0, 0]], dtype=int64)"
      ]
     },
     "execution_count": 56,
     "metadata": {},
     "output_type": "execute_result"
    }
   ],
   "source": [
    "vector"
   ]
  },
  {
   "cell_type": "code",
   "execution_count": 57,
   "id": "39e7feb5",
   "metadata": {},
   "outputs": [
    {
     "data": {
      "text/plain": [
       "array([0, 0, 0, ..., 0, 0, 0], dtype=int64)"
      ]
     },
     "execution_count": 57,
     "metadata": {},
     "output_type": "execute_result"
    }
   ],
   "source": [
    "vector[0]"
   ]
  },
  {
   "cell_type": "code",
   "execution_count": 58,
   "id": "ea9d8db4",
   "metadata": {},
   "outputs": [
    {
     "data": {
      "text/plain": [
       "array(['000', '007', '10', ..., 'zone', 'zoo', 'zooey'], dtype=object)"
      ]
     },
     "execution_count": 58,
     "metadata": {},
     "output_type": "execute_result"
    }
   ],
   "source": [
    "from sklearn.feature_extraction.text import CountVectorizer\n",
    "cv.get_feature_names_out()"
   ]
  },
  {
   "cell_type": "code",
   "execution_count": 59,
   "id": "e66980ae",
   "metadata": {},
   "outputs": [
    {
     "name": "stdout",
     "output_type": "stream",
     "text": [
      "Requirement already satisfied: nltk in c:\\users\\hp\\anaconda3\\lib\\site-packages (3.7)\n",
      "Requirement already satisfied: regex>=2021.8.3 in c:\\users\\hp\\anaconda3\\lib\\site-packages (from nltk) (2022.7.9)\n",
      "Requirement already satisfied: joblib in c:\\users\\hp\\anaconda3\\lib\\site-packages (from nltk) (1.1.1)\n",
      "Requirement already satisfied: click in c:\\users\\hp\\anaconda3\\lib\\site-packages (from nltk) (8.0.4)\n",
      "Requirement already satisfied: tqdm in c:\\users\\hp\\anaconda3\\lib\\site-packages (from nltk) (4.64.1)\n",
      "Requirement already satisfied: colorama in c:\\users\\hp\\anaconda3\\lib\\site-packages (from click->nltk) (0.4.6)\n",
      "Note: you may need to restart the kernel to use updated packages.\n"
     ]
    }
   ],
   "source": [
    "pip install nltk"
   ]
  },
  {
   "cell_type": "code",
   "execution_count": 60,
   "id": "b06a8ff9",
   "metadata": {},
   "outputs": [
    {
     "data": {
      "text/plain": [
       "'love'"
      ]
     },
     "execution_count": 60,
     "metadata": {},
     "output_type": "execute_result"
    }
   ],
   "source": [
    "ps.stem('loved')"
   ]
  },
  {
   "cell_type": "code",
   "execution_count": 61,
   "id": "3d8befc1",
   "metadata": {},
   "outputs": [
    {
     "data": {
      "text/plain": [
       "'in the 22nd century, a parapleg marin is dispatch to the moon pandora on a uniqu mission, but becom torn between follow order and protect an alien civilization. action adventur fantasi sciencefict cultureclash futur spacewar spacecoloni societi spacetravel futurist romanc space alien tribe alienplanet cgi marin soldier battl loveaffair antiwar powerrel mindandsoul 3d samworthington zoesaldana sigourneyweav jamescameron'"
      ]
     },
     "execution_count": 61,
     "metadata": {},
     "output_type": "execute_result"
    }
   ],
   "source": [
    "stem('in the 22nd century, a paraplegic marine is dispatched to the moon pandora on a unique mission, but becomes torn between following orders and protecting an alien civilization. action adventure fantasy sciencefiction cultureclash future spacewar spacecolony society spacetravel futuristic romance space alien tribe alienplanet cgi marine soldier battle loveaffair antiwar powerrelations mindandsoul 3d samworthington zoesaldana sigourneyweaver jamescameron')"
   ]
  },
  {
   "cell_type": "code",
   "execution_count": 83,
   "id": "787f89d5",
   "metadata": {},
   "outputs": [],
   "source": [
    "from sklearn.metrics.pairwise import cosine_similarity"
   ]
  },
  {
   "cell_type": "code",
   "execution_count": 90,
   "id": "19c54479",
   "metadata": {},
   "outputs": [],
   "source": [
    "similarity=cosine_similarity(vector)"
   ]
  },
  {
   "cell_type": "code",
   "execution_count": 94,
   "id": "e7c13f98",
   "metadata": {},
   "outputs": [
    {
     "data": {
      "text/plain": [
       "[(3083, 0.2449489742783178),\n",
       " (529, 0.23904572186687872),\n",
       " (3608, 0.23624976928744731),\n",
       " (1216, 0.17251638983558856),\n",
       " (778, 0.1690308509457033)]"
      ]
     },
     "execution_count": 94,
     "metadata": {},
     "output_type": "execute_result"
    }
   ],
   "source": [
    "sorted(list(enumerate(similarity[0])),reverse=True,key=lambda x:x[1])[1:6]"
   ]
  },
  {
   "cell_type": "code",
   "execution_count": 96,
   "id": "a31c34ab",
   "metadata": {},
   "outputs": [],
   "source": [
    " def recommend(movie):\n",
    "        movie_index = new_df[new_df['title'] == movie].index[0]\n",
    "        distance = similarity[movie_index]\n",
    "        movies_list = sorted(list(enumerate(distance)),reverse = True,key=lambda x:x[1])[1:6]\n",
    "        \n",
    "        for i in movies_list:\n",
    "            print(new_df.iloc[i[0]].title)\n",
    "        "
   ]
  },
  {
   "cell_type": "code",
   "execution_count": 99,
   "id": "a7bbe9a3",
   "metadata": {},
   "outputs": [
    {
     "name": "stdout",
     "output_type": "stream",
     "text": [
      "Synecdoche, New York\n",
      "The Shipping News\n",
      "Copying Beethoven\n",
      "Bruce Almighty\n",
      "Sexy Beast\n"
     ]
    }
   ],
   "source": [
    "recommend('Batman Begins')"
   ]
  },
  {
   "cell_type": "code",
   "execution_count": 100,
   "id": "4d8b7854",
   "metadata": {},
   "outputs": [
    {
     "data": {
      "text/plain": [
       "'Aliens vs Predator: Requiem'"
      ]
     },
     "execution_count": 100,
     "metadata": {},
     "output_type": "execute_result"
    }
   ],
   "source": [
    "new_df.iloc[1216].title"
   ]
  },
  {
   "cell_type": "code",
   "execution_count": 101,
   "id": "d6dc673c",
   "metadata": {},
   "outputs": [],
   "source": [
    "import pickle"
   ]
  },
  {
   "cell_type": "code",
   "execution_count": 102,
   "id": "77da194f",
   "metadata": {},
   "outputs": [],
   "source": [
    "pickle.dump(new_df,open('movies.pkl','wb'))"
   ]
  },
  {
   "cell_type": "code",
   "execution_count": 104,
   "id": "36cac539",
   "metadata": {},
   "outputs": [
    {
     "data": {
      "text/plain": [
       "array(['Avatar', \"Pirates of the Caribbean: At World's End\", 'Spectre',\n",
       "       ..., 'Signed, Sealed, Delivered', 'Shanghai Calling',\n",
       "       'My Date with Drew'], dtype=object)"
      ]
     },
     "execution_count": 104,
     "metadata": {},
     "output_type": "execute_result"
    }
   ],
   "source": [
    "new_df['title'].values"
   ]
  },
  {
   "cell_type": "code",
   "execution_count": 105,
   "id": "269640d5",
   "metadata": {},
   "outputs": [],
   "source": [
    "pickle.dump(new_df.to_dict(),open('movies_dict.pkl','wb'))"
   ]
  },
  {
   "cell_type": "code",
   "execution_count": 106,
   "id": "d05f074d",
   "metadata": {},
   "outputs": [],
   "source": [
    "pickle.dump(similarity,open('similarity.pkl','wb'))"
   ]
  },
  {
   "cell_type": "code",
   "execution_count": null,
   "id": "677eefe5",
   "metadata": {},
   "outputs": [],
   "source": []
  }
 ],
 "metadata": {
  "kernelspec": {
   "display_name": "Python 3 (ipykernel)",
   "language": "python",
   "name": "python3"
  },
  "language_info": {
   "codemirror_mode": {
    "name": "ipython",
    "version": 3
   },
   "file_extension": ".py",
   "mimetype": "text/x-python",
   "name": "python",
   "nbconvert_exporter": "python",
   "pygments_lexer": "ipython3",
   "version": "3.10.9"
  }
 },
 "nbformat": 4,
 "nbformat_minor": 5
}
